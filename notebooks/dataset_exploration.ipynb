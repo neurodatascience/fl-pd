{
 "cells": [
  {
   "cell_type": "code",
   "execution_count": null,
   "id": "33629be1",
   "metadata": {},
   "outputs": [],
   "source": [
    "from pathlib import Path\n",
    "\n",
    "import pandas as pd\n",
    "from dotenv import dotenv_values\n",
    "from skrub import TableReport\n",
    "\n",
    "ENV_VARS = dotenv_values(\"../config/.env\")\n",
    "DPATH_DATA = Path(ENV_VARS[\"DPATH_FL_DATA\"])\n",
    "\n",
    "\n",
    "def get_report(data_tag: str):\n",
    "    return TableReport(\n",
    "        pd.read_csv(DPATH_DATA / data_tag / f\"{data_tag}.tsv\", sep=\"\\t\"),\n",
    "        max_plot_columns=100,\n",
    "    )"
   ]
  },
  {
   "cell_type": "code",
   "execution_count": null,
   "id": "3dfa1c31",
   "metadata": {},
   "outputs": [],
   "source": [
    "get_report(\"adni\")"
   ]
  },
  {
   "cell_type": "code",
   "execution_count": null,
   "id": "ad988fa3",
   "metadata": {},
   "outputs": [],
   "source": [
    "get_report(\"ppmi\")"
   ]
  },
  {
   "cell_type": "code",
   "execution_count": null,
   "id": "7b2c2e20",
   "metadata": {},
   "outputs": [],
   "source": [
    "get_report(\"qpn\")"
   ]
  }
 ],
 "metadata": {
  "kernelspec": {
   "display_name": "pcn",
   "language": "python",
   "name": "python3"
  },
  "language_info": {
   "codemirror_mode": {
    "name": "ipython",
    "version": 3
   },
   "file_extension": ".py",
   "mimetype": "text/x-python",
   "name": "python",
   "nbconvert_exporter": "python",
   "pygments_lexer": "ipython3",
   "version": "3.12.10"
  }
 },
 "nbformat": 4,
 "nbformat_minor": 5
}
