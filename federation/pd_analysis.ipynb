{
 "cells": [
  {
   "cell_type": "markdown",
   "metadata": {},
   "source": [
    "# Fed-BioMed Researcher to train a model on a CSV dataset"
   ]
  },
  {
   "cell_type": "code",
   "execution_count": null,
   "metadata": {},
   "outputs": [],
   "source": [
    "from pathlib import Path\n",
    "\n",
    "from dotenv import dotenv_values\n",
    "\n",
    "# settings\n",
    "ML_PROBLEM_TYPE = \"regression\"  # \"classification\", \"regression\"\n",
    "SETUP_TYPE = \"mega\"  # \"mega\", \"silo\", \"fed\"\n",
    "DATASETS = [\"adni\", \"ppmi\", \"qpn\"]\n",
    "I_SPLIT = 0\n",
    "RNG_SEED = 3791\n",
    "NN_LAYER_SIZE = 1024\n",
    "FEDBIOMED_ROUNDS = 1\n",
    "\n",
    "ENV_VARS = dotenv_values(\"../.env\")\n",
    "DPATH_DATA = Path(ENV_VARS[\"DPATH_FL_DATA\"])\n",
    "DPATH_FIGS = Path(ENV_VARS[\"DPATH_FL_FIGS\"])\n",
    "DPATH_RESULTS = Path(ENV_VARS[\"DPATH_FL_RESULTS\"])\n",
    "# TODO DPATH_MODELS\n",
    "\n",
    "FEDBIOMED_TAGS = [f\"{I_SPLIT}train\"]\n",
    "if SETUP_TYPE == \"mega\":\n",
    "    FEDBIOMED_TAGS.append(SETUP_TYPE)\n",
    "\n",
    "if ML_PROBLEM_TYPE == \"classification\":\n",
    "    TARGET_COLS = [\"COG_DECLINE\"]\n",
    "    DATA_TAGS = \"decline-age-case-aparc\"\n",
    "    FEDBIOMED_TAGS.append(\"cog_decline\")\n",
    "elif ML_PROBLEM_TYPE == \"regression\":\n",
    "    TARGET_COLS = [\"AGE\"]\n",
    "    DATA_TAGS = \"age-sex-hc-aseg\"\n",
    "    FEDBIOMED_TAGS.append(\"brain_age\")"
   ]
  },
  {
   "cell_type": "markdown",
   "metadata": {},
   "source": [
    "## Create an experiment to train a model on the data found"
   ]
  },
  {
   "cell_type": "markdown",
   "metadata": {},
   "source": [
    "Declare a torch training plan MyTrainingPlan class to send for training on the node"
   ]
  },
  {
   "cell_type": "code",
   "execution_count": null,
   "metadata": {},
   "outputs": [],
   "source": [
    "import pandas as pd\n",
    "import torch\n",
    "import torch.nn as nn\n",
    "from skrub import TableVectorizer\n",
    "\n",
    "from fedbiomed.common.training_plans import TorchTrainingPlan\n",
    "from fedbiomed.common.data import DataManager\n",
    "\n",
    "\n",
    "# Here we define the model to be used.\n",
    "# You can use any class name (here 'MyTrainingPlan')\n",
    "class PytorchTrainingPlan(TorchTrainingPlan):\n",
    "\n",
    "    class Net(nn.Module):\n",
    "\n",
    "        def __init__(self, model_args):\n",
    "\n",
    "            super().__init__()\n",
    "            self.n_features_in = model_args[\"n_features_in\"]\n",
    "            self.n_features_out = model_args[\"n_features_out\"]\n",
    "            self.layer_size = model_args[\"layer_size\"]\n",
    "            self.problem_type = model_args[\"problem_type\"]\n",
    "\n",
    "            # should match the model arguments dict passed below to the experiment class\n",
    "            self.hidden = nn.Linear(self.n_features_in, self.layer_size)\n",
    "            self.relu = nn.ReLU()\n",
    "            self.output = nn.Linear(self.layer_size, self.n_features_out)\n",
    "            if self.problem_type == \"classification\":\n",
    "                self.activation = nn.Sigmoid()\n",
    "            else:\n",
    "                self.activation = nn.Identity()\n",
    "\n",
    "        def forward(self, x):\n",
    "            x = self.hidden(x)\n",
    "            x = self.relu(x)\n",
    "            x = self.output(x)\n",
    "            x = self.activation(x)\n",
    "            return x\n",
    "\n",
    "    def __init__(self, *args, **kwargs):\n",
    "        super().__init__(*args, **kwargs)\n",
    "        self.table_vectorizer_ = None  # for debugging\n",
    "\n",
    "    def init_dependencies(self):\n",
    "        # Here we define the custom dependencies that will be needed\n",
    "        deps = [\n",
    "            \"import pandas as pd\",\n",
    "            \"from skrub import TableVectorizer\",\n",
    "            \"from torch.utils.data import Dataset\",\n",
    "        ]\n",
    "\n",
    "        return deps\n",
    "\n",
    "    def init_optimizer(self):\n",
    "        # default is Pytorch Adam optimizer\n",
    "        return super().init_optimizer()\n",
    "\n",
    "    def init_model(self, model_args):\n",
    "        model = self.Net(model_args)\n",
    "        return model\n",
    "\n",
    "    def training_step(self, data, target):\n",
    "        output = self.model().forward(data).float()\n",
    "        if (problem_type := self.model_args()[\"problem_type\"]) == \"classification\":\n",
    "            criterion = torch.nn.BCELoss()\n",
    "        elif problem_type == \"regression\":\n",
    "            criterion = torch.nn.MSELoss()\n",
    "        else:\n",
    "            raise ValueError(f\"Unknown problem type: {problem_type}\")\n",
    "        loss = criterion(output, target)\n",
    "        return loss\n",
    "\n",
    "    def training_data(self):\n",
    "        X_train, y_train, table_vectorizer = self.get_Xy(\n",
    "            self.dataset_path,\n",
    "            target_cols=self.model_args()[\"target_cols\"],\n",
    "            return_vectorizer=True,\n",
    "        )\n",
    "        self.table_vectorizer_ = table_vectorizer\n",
    "\n",
    "        if y_train.shape[1] != self.model_args()[\"n_features_out\"]:\n",
    "            raise RuntimeError(\n",
    "                f\"Expected {self.model_args()['n_features_out']} output \"\n",
    "                f\"features, got {y_train.shape[1]}\"\n",
    "            )\n",
    "        if X_train.shape[1] != self.model_args()[\"n_features_in\"]:\n",
    "            raise RuntimeError(\n",
    "                f\"Expected {self.model_args()['n_features_in']} input features\"\n",
    "                f\", got {X_train.shape[1]}: {X_train.columns}\"\n",
    "            )\n",
    "\n",
    "        train_kwargs = {\"shuffle\": self.model_args()[\"shuffle\"]}\n",
    "\n",
    "        data_manager = DataManager(dataset=X_train, target=y_train, **train_kwargs)\n",
    "\n",
    "        return data_manager\n",
    "\n",
    "    def get_Xy(\n",
    "        self,\n",
    "        fpath,\n",
    "        target_cols,\n",
    "        return_vectorizer=False,\n",
    "        dataset=None,\n",
    "        setup_type=None,\n",
    "        datasets=None,\n",
    "    ):\n",
    "        is_mega = setup_type == \"mega\"\n",
    "\n",
    "        df = pd.read_csv(fpath, sep=\"\\t\")\n",
    "        df = df.set_index(\"participant_id\")\n",
    "        df = df.dropna(axis=\"index\", how=\"any\")\n",
    "\n",
    "        table_vectorizer = TableVectorizer()\n",
    "        df = table_vectorizer.fit_transform(df)\n",
    "\n",
    "        if is_mega and dataset not in df.columns:\n",
    "            if datasets is None:\n",
    "                raise ValueError(\"datasets is None\")\n",
    "            for col_dataset in datasets:\n",
    "                if col_dataset not in df.columns:\n",
    "                    df.loc[:, col_dataset] = 1 if col_dataset == dataset else 0\n",
    "\n",
    "        y_train = df.loc[:, target_cols]\n",
    "        X_train = df.drop(columns=target_cols)\n",
    "\n",
    "        if return_vectorizer:\n",
    "            return X_train, y_train, table_vectorizer\n",
    "        else:\n",
    "            return X_train, y_train"
   ]
  },
  {
   "cell_type": "code",
   "execution_count": null,
   "metadata": {},
   "outputs": [
    {
     "name": "stdout",
     "output_type": "stream",
     "text": [
      "Number of input features: 21\n",
      "Number of output features: 1\n"
     ]
    }
   ],
   "source": [
    "# load test data\n",
    "Xy_test_all = {}\n",
    "n_features_in = None\n",
    "n_features_out = None\n",
    "for col_dataset in DATASETS:\n",
    "    fpath = (\n",
    "        DPATH_DATA\n",
    "        / f\"{col_dataset}-{DATA_TAGS}\"\n",
    "        / f\"{col_dataset}-{DATA_TAGS}-{I_SPLIT}test.tsv\"\n",
    "    )\n",
    "    X_test, y_test = PytorchTrainingPlan().get_Xy(\n",
    "        fpath,\n",
    "        target_cols=TARGET_COLS,\n",
    "        setup_type=SETUP_TYPE,\n",
    "        dataset=col_dataset,\n",
    "        datasets=DATASETS,\n",
    "    )\n",
    "\n",
    "    if n_features_in is None:\n",
    "        n_features_in = X_test.shape[1]\n",
    "    else:\n",
    "        assert n_features_in == X_test.shape[1], \"Inconsistent number of features\"\n",
    "\n",
    "    if n_features_out is None:\n",
    "        n_features_out = y_test.shape[1]\n",
    "    else:\n",
    "        assert n_features_out == y_test.shape[1], \"Inconsistent number of targets\"\n",
    "\n",
    "    Xy_test_all[col_dataset] = (X_test, y_test)\n",
    "\n",
    "# # but we need the X_test to also have these extra columns\n",
    "# if SETUP_TYPE == \"mega\":\n",
    "#     n_features_in += len(DATASETS)  # extra dataset indicator columns\n",
    "\n",
    "print(f\"Number of input features: {n_features_in}\")\n",
    "print(f\"Number of output features: {n_features_out}\")"
   ]
  },
  {
   "cell_type": "code",
   "execution_count": null,
   "metadata": {
    "pycharm": {
     "name": "#%%\n"
    }
   },
   "outputs": [
    {
     "data": {
      "text/plain": [
       "2025-04-08 13:48:16,695 fedbiomed INFO - Updating training data. This action will update FederatedDataset, and the nodes that will participate to the experiment."
      ]
     },
     "metadata": {},
     "output_type": "display_data"
    },
    {
     "data": {
      "text/plain": [
       "2025-04-08 13:48:16,703 fedbiomed DEBUG - Node: NODE_MEGA polling for the tasks"
      ]
     },
     "metadata": {},
     "output_type": "display_data"
    },
    {
     "data": {
      "text/plain": [
       "2025-04-08 13:48:16,706 fedbiomed INFO - Node selected for training -> NODE_MEGA"
      ]
     },
     "metadata": {},
     "output_type": "display_data"
    },
    {
     "name": "stdout",
     "output_type": "stream",
     "text": [
      "<function extract_symbols at 0x7f3e2d6aedd0>\n"
     ]
    },
    {
     "data": {
      "text/plain": [
       "2025-04-08 13:48:16,769 fedbiomed DEBUG - Model file has been saved: /data/origami/michelle/projects/fl-pd/federation/fbm-researcher/var/experiments/Experiment_0015/model_7240bf05-1ef4-4667-8c70-c408249c3df0.py"
      ]
     },
     "metadata": {},
     "output_type": "display_data"
    },
    {
     "name": "stderr",
     "output_type": "stream",
     "text": [
      "Secure RNG turned off. This is perfectly fine for experimentation as it allows for much faster training performance, but remember to turn it on and retrain one last time before production with ``secure_mode`` turned on.\n"
     ]
    }
   ],
   "source": [
    "from fedbiomed.researcher.federated_workflows import Experiment\n",
    "from fedbiomed.researcher.aggregators.fedavg import FedAverage\n",
    "\n",
    "# model parameters\n",
    "model_args = {\n",
    "    \"n_features_in\": n_features_in,\n",
    "    \"n_features_out\": n_features_out,\n",
    "    \"layer_size\": NN_LAYER_SIZE,\n",
    "    \"target_cols\": TARGET_COLS,\n",
    "    \"shuffle\": True,\n",
    "    \"problem_type\": ML_PROBLEM_TYPE,\n",
    "}\n",
    "\n",
    "# training parameters\n",
    "training_args = {\n",
    "    \"loader_args\": {\n",
    "        \"batch_size\": 2000,\n",
    "    },\n",
    "    \"optimizer_args\": {\"lr\": 1e-3},\n",
    "    \"epochs\": 10,\n",
    "    \"dry_run\": False,\n",
    "}\n",
    "\n",
    "# Calling the training data with specified tags\n",
    "exp = Experiment(\n",
    "    tags=FEDBIOMED_TAGS,\n",
    "    training_plan_class=PytorchTrainingPlan,\n",
    "    model_args=model_args,\n",
    "    training_args=training_args,\n",
    "    round_limit=FEDBIOMED_ROUNDS,\n",
    "    aggregator=FedAverage(),\n",
    "    node_selection_strategy=None,\n",
    ")"
   ]
  },
  {
   "cell_type": "markdown",
   "metadata": {
    "pycharm": {
     "name": "#%% md\n"
    }
   },
   "source": [
    "Let's start the experiment.\n",
    "\n",
    "By default, this function doesn't stop until all the `round_limit` rounds are done for all the nodes"
   ]
  },
  {
   "cell_type": "code",
   "execution_count": 77,
   "metadata": {
    "pycharm": {
     "name": "#%%\n"
    }
   },
   "outputs": [
    {
     "data": {
      "text/plain": [
       "2025-04-08 13:48:19,453 fedbiomed INFO - Sampled nodes in round 0 ['NODE_MEGA']"
      ]
     },
     "metadata": {},
     "output_type": "display_data"
    },
    {
     "name": "stdout",
     "output_type": "stream",
     "text": [
      "<function extract_symbols at 0x7f3e2d6aedd0>\n"
     ]
    },
    {
     "data": {
      "text/plain": [
       "2025-04-08 13:48:19,458 fedbiomed INFO - \u001b[1mSending request\u001b[0m \n",
       "\t\t\t\t\t\u001b[1m To\u001b[0m: NODE_MEGA \n",
       "\t\t\t\t\t\u001b[1m Request: \u001b[0m: TRAIN\n",
       " -----------------------------------------------------------------"
      ]
     },
     "metadata": {},
     "output_type": "display_data"
    },
    {
     "data": {
      "text/plain": [
       "2025-04-08 13:48:19,566 fedbiomed DEBUG - Node: NODE_MEGA polling for the tasks"
      ]
     },
     "metadata": {},
     "output_type": "display_data"
    },
    {
     "data": {
      "text/plain": [
       "2025-04-08 13:48:19,680 fedbiomed INFO - \u001b[1mTRAINING\u001b[0m \n",
       "\t\t\t\t\t NODE_ID: NODE_MEGA \n",
       "\t\t\t\t\t Round 1 Epoch: 1 | Iteration: 1/1 (100%) | Samples: 546/546\n",
       " \t\t\t\t\t Loss: \u001b[1m98322736.000000\u001b[0m \n",
       "\t\t\t\t\t ---------"
      ]
     },
     "metadata": {},
     "output_type": "display_data"
    },
    {
     "data": {
      "text/plain": [
       "2025-04-08 13:48:19,688 fedbiomed INFO - \u001b[1mTRAINING\u001b[0m \n",
       "\t\t\t\t\t NODE_ID: NODE_MEGA \n",
       "\t\t\t\t\t Round 1 Epoch: 2 | Iteration: 1/1 (100%) | Samples: 546/546\n",
       " \t\t\t\t\t Loss: \u001b[1m7540421632.000000\u001b[0m \n",
       "\t\t\t\t\t ---------"
      ]
     },
     "metadata": {},
     "output_type": "display_data"
    },
    {
     "data": {
      "text/plain": [
       "2025-04-08 13:48:19,696 fedbiomed INFO - \u001b[1mTRAINING\u001b[0m \n",
       "\t\t\t\t\t NODE_ID: NODE_MEGA \n",
       "\t\t\t\t\t Round 1 Epoch: 3 | Iteration: 1/1 (100%) | Samples: 546/546\n",
       " \t\t\t\t\t Loss: \u001b[1m514385760.000000\u001b[0m \n",
       "\t\t\t\t\t ---------"
      ]
     },
     "metadata": {},
     "output_type": "display_data"
    },
    {
     "data": {
      "text/plain": [
       "2025-04-08 13:48:19,705 fedbiomed INFO - \u001b[1mTRAINING\u001b[0m \n",
       "\t\t\t\t\t NODE_ID: NODE_MEGA \n",
       "\t\t\t\t\t Round 1 Epoch: 4 | Iteration: 1/1 (100%) | Samples: 546/546\n",
       " \t\t\t\t\t Loss: \u001b[1m1667865472.000000\u001b[0m \n",
       "\t\t\t\t\t ---------"
      ]
     },
     "metadata": {},
     "output_type": "display_data"
    },
    {
     "data": {
      "text/plain": [
       "2025-04-08 13:48:19,713 fedbiomed INFO - \u001b[1mTRAINING\u001b[0m \n",
       "\t\t\t\t\t NODE_ID: NODE_MEGA \n",
       "\t\t\t\t\t Round 1 Epoch: 5 | Iteration: 1/1 (100%) | Samples: 546/546\n",
       " \t\t\t\t\t Loss: \u001b[1m4225187584.000000\u001b[0m \n",
       "\t\t\t\t\t ---------"
      ]
     },
     "metadata": {},
     "output_type": "display_data"
    },
    {
     "data": {
      "text/plain": [
       "2025-04-08 13:48:19,721 fedbiomed INFO - \u001b[1mTRAINING\u001b[0m \n",
       "\t\t\t\t\t NODE_ID: NODE_MEGA \n",
       "\t\t\t\t\t Round 1 Epoch: 6 | Iteration: 1/1 (100%) | Samples: 546/546\n",
       " \t\t\t\t\t Loss: \u001b[1m2827084288.000000\u001b[0m \n",
       "\t\t\t\t\t ---------"
      ]
     },
     "metadata": {},
     "output_type": "display_data"
    },
    {
     "data": {
      "text/plain": [
       "2025-04-08 13:48:19,729 fedbiomed INFO - \u001b[1mTRAINING\u001b[0m \n",
       "\t\t\t\t\t NODE_ID: NODE_MEGA \n",
       "\t\t\t\t\t Round 1 Epoch: 7 | Iteration: 1/1 (100%) | Samples: 546/546\n",
       " \t\t\t\t\t Loss: \u001b[1m542513984.000000\u001b[0m \n",
       "\t\t\t\t\t ---------"
      ]
     },
     "metadata": {},
     "output_type": "display_data"
    },
    {
     "data": {
      "text/plain": [
       "2025-04-08 13:48:19,738 fedbiomed INFO - \u001b[1mTRAINING\u001b[0m \n",
       "\t\t\t\t\t NODE_ID: NODE_MEGA \n",
       "\t\t\t\t\t Round 1 Epoch: 8 | Iteration: 1/1 (100%) | Samples: 546/546\n",
       " \t\t\t\t\t Loss: \u001b[1m121806160.000000\u001b[0m \n",
       "\t\t\t\t\t ---------"
      ]
     },
     "metadata": {},
     "output_type": "display_data"
    },
    {
     "data": {
      "text/plain": [
       "2025-04-08 13:48:19,747 fedbiomed INFO - \u001b[1mTRAINING\u001b[0m \n",
       "\t\t\t\t\t NODE_ID: NODE_MEGA \n",
       "\t\t\t\t\t Round 1 Epoch: 9 | Iteration: 1/1 (100%) | Samples: 546/546\n",
       " \t\t\t\t\t Loss: \u001b[1m1376484480.000000\u001b[0m \n",
       "\t\t\t\t\t ---------"
      ]
     },
     "metadata": {},
     "output_type": "display_data"
    },
    {
     "data": {
      "text/plain": [
       "2025-04-08 13:48:19,755 fedbiomed INFO - \u001b[1mTRAINING\u001b[0m \n",
       "\t\t\t\t\t NODE_ID: NODE_MEGA \n",
       "\t\t\t\t\t Round 1 Epoch: 10 | Iteration: 1/1 (100%) | Samples: 546/546\n",
       " \t\t\t\t\t Loss: \u001b[1m2181287168.000000\u001b[0m \n",
       "\t\t\t\t\t ---------"
      ]
     },
     "metadata": {},
     "output_type": "display_data"
    },
    {
     "data": {
      "text/plain": [
       "2025-04-08 13:48:19,851 fedbiomed INFO - Nodes that successfully reply in round 0 ['NODE_MEGA']"
      ]
     },
     "metadata": {},
     "output_type": "display_data"
    },
    {
     "data": {
      "text/plain": [
       "1"
      ]
     },
     "execution_count": 77,
     "metadata": {},
     "output_type": "execute_result"
    }
   ],
   "source": [
    "exp.run()"
   ]
  },
  {
   "cell_type": "markdown",
   "metadata": {},
   "source": [
    "## TODO after\n",
    "\n",
    "- Test on each individual dataset's test set\n",
    "- Also get train performance?\n",
    "- Get loss from each round?"
   ]
  },
  {
   "cell_type": "markdown",
   "metadata": {},
   "source": [
    "Save trained model to file"
   ]
  },
  {
   "cell_type": "code",
   "execution_count": null,
   "metadata": {},
   "outputs": [],
   "source": [
    "# exp.training_plan().export_model(\"./trained_model\")"
   ]
  },
  {
   "cell_type": "code",
   "execution_count": null,
   "metadata": {
    "pycharm": {
     "name": "#%%\n"
    }
   },
   "outputs": [],
   "source": [
    "# print(\"\\nList the training rounds : \", exp.training_replies().keys())\n",
    "\n",
    "# print(\"\\nList the nodes for the last training round and their timings : \")\n",
    "# round_data = exp.training_replies()[FEDBIOMED_ROUNDS - 1]\n",
    "# for r in round_data.values():\n",
    "#     print(\n",
    "#         \"\\t- {id} :\\\n",
    "#     \\n\\t\\trtime_training={rtraining:.2f} seconds\\\n",
    "#     \\n\\t\\tptime_training={ptraining:.2f} seconds\\\n",
    "#     \\n\\t\\trtime_total={rtotal:.2f} seconds\".format(\n",
    "#             id=r[\"node_id\"],\n",
    "#             rtraining=r[\"timing\"][\"rtime_training\"],\n",
    "#             ptraining=r[\"timing\"][\"ptime_training\"],\n",
    "#             rtotal=r[\"timing\"][\"rtime_total\"],\n",
    "#         )\n",
    "#     )\n",
    "# print(\"\\n\")"
   ]
  },
  {
   "cell_type": "code",
   "execution_count": null,
   "metadata": {},
   "outputs": [],
   "source": [
    "# round_data[\"NODE_MEGA\"]"
   ]
  },
  {
   "cell_type": "code",
   "execution_count": null,
   "metadata": {
    "pycharm": {
     "name": "#%%\n"
    }
   },
   "outputs": [],
   "source": [
    "# print(\"\\nList the training rounds : \", exp.aggregated_params().keys())\n",
    "# print(\"\\nAccess the federated params for the last training round :\")\n",
    "# print(\n",
    "#     \"\\t- parameter data: \",\n",
    "#     exp.aggregated_params()[FEDBIOMED_ROUNDS - 1][\"params\"].keys(),\n",
    "# )\n",
    "# print(exp.aggregated_params()[FEDBIOMED_ROUNDS - 2][\"params\"][\"fc1.weight\"].shape)\n",
    "# print(exp.aggregated_params()[FEDBIOMED_ROUNDS - 2][\"params\"][\"fc1.weight\"])"
   ]
  },
  {
   "cell_type": "code",
   "execution_count": null,
   "metadata": {},
   "outputs": [],
   "source": [
    "if ML_PROBLEM_TYPE == \"classification\":\n",
    "    fpath_train = (\n",
    "        DPATH_DATA\n",
    "        / \"mega_adni_ppmi_qpn-decline-age-case-aparc\"\n",
    "        / \"mega_adni_ppmi_qpn-decline-age-case-aparc-0train.tsv\"\n",
    "    )\n",
    "else:\n",
    "    fpath_train = (\n",
    "        DPATH_DATA\n",
    "        / \"mega_adni_ppmi_qpn-age-sex-hc-aseg\"\n",
    "        / \"mega_adni_ppmi_qpn-age-sex-hc-aseg-0train.tsv\"\n",
    "    )\n",
    "X_train, y_train = PytorchTrainingPlan().get_Xy(\n",
    "    fpath=fpath_train,\n",
    "    target_cols=TARGET_COLS,\n",
    ")"
   ]
  },
  {
   "cell_type": "code",
   "execution_count": null,
   "metadata": {},
   "outputs": [
    {
     "data": {
      "text/plain": [
       "Net(\n",
       "  (hidden): Linear(in_features=66, out_features=1024, bias=True)\n",
       "  (relu): ReLU()\n",
       "  (output): Linear(in_features=1024, out_features=1, bias=True)\n",
       "  (sigmoid): Sigmoid()\n",
       ")"
      ]
     },
     "execution_count": 70,
     "metadata": {},
     "output_type": "execute_result"
    }
   ],
   "source": [
    "model = PytorchTrainingPlan().init_model(model_args)\n",
    "model"
   ]
  },
  {
   "cell_type": "code",
   "execution_count": 72,
   "metadata": {},
   "outputs": [
    {
     "data": {
      "text/plain": [
       "Net(\n",
       "  (hidden): Linear(in_features=66, out_features=1024, bias=True)\n",
       "  (relu): ReLU()\n",
       "  (output): Linear(in_features=1024, out_features=1, bias=True)\n",
       "  (sigmoid): Sigmoid()\n",
       ")"
      ]
     },
     "execution_count": 72,
     "metadata": {},
     "output_type": "execute_result"
    }
   ],
   "source": [
    "model.train()\n",
    "model(torch.tensor(X_train.values).float())\n",
    "model.eval()"
   ]
  },
  {
   "cell_type": "code",
   "execution_count": null,
   "metadata": {},
   "outputs": [],
   "source": [
    "model(torch.tensor(X_train.values).float())"
   ]
  },
  {
   "cell_type": "code",
   "execution_count": null,
   "metadata": {},
   "outputs": [],
   "source": [
    "exp.training_plan().set_model_params(\n",
    "    exp.aggregated_params()[FEDBIOMED_ROUNDS - 1][\"params\"]\n",
    ")\n",
    "fed_model = exp.training_plan().model()\n",
    "fed_model.eval()\n",
    "# fed_model.hidden.weight"
   ]
  },
  {
   "cell_type": "code",
   "execution_count": 60,
   "metadata": {},
   "outputs": [],
   "source": [
    "import torch\n",
    "\n",
    "# y_pred = fed_model(torch.tensor(Xy_test_all[\"ppmi\"][0].to_numpy(dtype=\"float32\")))\n",
    "logits = fed_model(torch.tensor(X_train.to_numpy(dtype=\"float32\"))).detach().numpy()\n",
    "y_pred = logits.round()"
   ]
  },
  {
   "cell_type": "code",
   "execution_count": 61,
   "metadata": {},
   "outputs": [
    {
     "data": {
      "text/plain": [
       "<Axes: >"
      ]
     },
     "execution_count": 61,
     "metadata": {},
     "output_type": "execute_result"
    },
    {
     "data": {
      "image/png": "[encoded data removed]",
      "text/plain": [
       "<Figure size 640x480 with 1 Axes>"
      ]
     },
     "metadata": {},
     "output_type": "display_data"
    }
   ],
   "source": [
    "pd.Series(y_pred.squeeze()).hist()"
   ]
  },
  {
   "cell_type": "code",
   "execution_count": 62,
   "metadata": {},
   "outputs": [
    {
     "data": {
      "text/plain": [
       "0.6161021931743601"
      ]
     },
     "execution_count": 62,
     "metadata": {},
     "output_type": "execute_result"
    }
   ],
   "source": [
    "from sklearn.metrics import balanced_accuracy_score\n",
    "\n",
    "balanced_accuracy_score(y_train, y_pred)"
   ]
  }
 ],
 "metadata": {
  "kernelspec": {
   "display_name": "fl-pd",
   "language": "python",
   "name": "python3"
  },
  "language_info": {
   "codemirror_mode": {
    "name": "ipython",
    "version": 3
   },
   "file_extension": ".py",
   "mimetype": "text/x-python",
   "name": "python",
   "nbconvert_exporter": "python",
   "pygments_lexer": "ipython3",
   "version": "3.10.16"
  }
 },
 "nbformat": 4,
 "nbformat_minor": 1
}
