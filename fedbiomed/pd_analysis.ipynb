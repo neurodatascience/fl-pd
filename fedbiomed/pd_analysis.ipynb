{
 "cells": [
  {
   "cell_type": "markdown",
   "metadata": {},
   "source": [
    "# Fed-BioMed Researcher to train a model on a CSV dataset"
   ]
  },
  {
   "cell_type": "code",
   "execution_count": null,
   "metadata": {},
   "outputs": [],
   "source": [
    "from pathlib import Path\n",
    "\n",
    "from dotenv import dotenv_values\n",
    "\n",
    "# settings\n",
    "ML_PROBLEM_TYPE = \"classification\"  # \"classification\", \"regression\"\n",
    "SETUP_TYPE = \"silo\"  # \"mega\", \"silo\", \"fed\"\n",
    "DATASETS = [\"adni\", \"ppmi\", \"qpn\"]\n",
    "I_SPLIT = 0\n",
    "NN_LAYER_SIZE = 1024\n",
    "FEDBIOMED_ROUNDS = 1\n",
    "\n",
    "ENV_VARS = dotenv_values(\"../.env\")\n",
    "RNG_SEED = ENV_VARS[\"RANDOM_SEED\"]\n",
    "DPATH_DATA = Path(ENV_VARS[\"DPATH_FL_DATA\"])\n",
    "DPATH_FIGS = Path(ENV_VARS[\"DPATH_FL_FIGS\"])\n",
    "DPATH_RESULTS = Path(ENV_VARS[\"DPATH_FL_RESULTS\"])\n",
    "# TODO DPATH_MODELS\n",
    "\n",
    "FEDBIOMED_TAGS = [f\"{I_SPLIT}train\"]\n",
    "if SETUP_TYPE == \"mega\":\n",
    "    FEDBIOMED_TAGS.append(SETUP_TYPE)\n",
    "else:\n",
    "    FEDBIOMED_TAGS.append(\n",
    "        \"fed\"\n",
    "    )  # for fed or silo (if silo, will add another tag after)\n",
    "\n",
    "if ML_PROBLEM_TYPE == \"classification\":\n",
    "    TARGET_COLS = [\"COG_DECLINE\"]\n",
    "    DATA_TAGS = \"decline-age-case-aparc\"\n",
    "    FEDBIOMED_TAGS.append(\"cog_decline\")\n",
    "elif ML_PROBLEM_TYPE == \"regression\":\n",
    "    TARGET_COLS = [\"AGE\"]\n",
    "    DATA_TAGS = \"age-sex-hc-aseg\"\n",
    "    FEDBIOMED_TAGS.append(\"brain_age\")"
   ]
  },
  {
   "cell_type": "markdown",
   "metadata": {},
   "source": [
    "## Create an experiment to train a model on the data found"
   ]
  },
  {
   "cell_type": "markdown",
   "metadata": {},
   "source": [
    "Declare a torch training plan MyTrainingPlan class to send for training on the node"
   ]
  },
  {
   "cell_type": "code",
   "execution_count": null,
   "metadata": {},
   "outputs": [],
   "source": [
    "import numpy as np\n",
    "import pandas as pd\n",
    "import torch\n",
    "import torch.nn as nn\n",
    "from skrub import TableVectorizer\n",
    "\n",
    "from fedbiomed.common.training_plans import TorchTrainingPlan, FedSGDClassifier\n",
    "from fedbiomed.common.data import DataManager\n",
    "\n",
    "\n",
    "# Here we define the model to be used.\n",
    "# You can use any class name (here 'MyTrainingPlan')\n",
    "# class MyTrainingPlan(TorchTrainingPlan):\n",
    "class MyTrainingPlan(FedSGDClassifier):\n",
    "\n",
    "    # class Net(nn.Module):\n",
    "\n",
    "    #     def __init__(self, model_args):\n",
    "\n",
    "    #         super().__init__()\n",
    "    #         self.n_features_in = model_args[\"n_features_in\"]\n",
    "    #         self.n_features_out = model_args[\"n_features_out\"]\n",
    "    #         self.layer_size = model_args[\"layer_size\"]\n",
    "    #         self.problem_type = model_args[\"problem_type\"]\n",
    "\n",
    "    #         # should match the model arguments dict passed below to the experiment class\n",
    "    #         self.hidden = nn.Linear(self.n_features_in, self.layer_size)\n",
    "    #         self.relu = nn.ReLU()\n",
    "    #         self.output = nn.Linear(self.layer_size, self.n_features_out)\n",
    "    #         if self.problem_type == \"classification\":\n",
    "    #             self.activation = nn.Sigmoid()\n",
    "    #         else:\n",
    "    #             self.activation = nn.Identity()\n",
    "\n",
    "    #     def forward(self, x):\n",
    "    #         x = self.hidden(x)\n",
    "    #         x = self.relu(x)\n",
    "    #         x = self.output(x)\n",
    "    #         x = self.activation(x)\n",
    "    #         return x\n",
    "\n",
    "    # def __init__(self, *args, **kwargs):\n",
    "    #     super().__init__(*args, **kwargs)\n",
    "    #     self.table_vectorizer_ = None  # for debugging\n",
    "\n",
    "    def init_dependencies(self):\n",
    "        # Here we define the custom dependencies that will be needed\n",
    "        deps = [\n",
    "            \"import numpy as np\",\n",
    "            \"import pandas as pd\",\n",
    "            \"from skrub import TableVectorizer\",\n",
    "            \"from torch.utils.data import Dataset\",\n",
    "        ]\n",
    "\n",
    "        return deps\n",
    "\n",
    "    # def init_optimizer(self):\n",
    "    #     # default is Pytorch Adam optimizer\n",
    "    #     return super().init_optimizer()\n",
    "\n",
    "    # def init_model(self, model_args):\n",
    "    #     model = self.Net(model_args)\n",
    "    #     return model\n",
    "\n",
    "    # def training_step(self, data, target):\n",
    "    #     output = self.model().forward(data).float()\n",
    "    #     if (problem_type := self.model_args()[\"problem_type\"]) == \"classification\":\n",
    "    #         criterion = torch.nn.BCELoss()\n",
    "    #     elif problem_type == \"regression\":\n",
    "    #         criterion = torch.nn.MSELoss()\n",
    "    #     else:\n",
    "    #         raise ValueError(f\"Unknown problem type: {problem_type}\")\n",
    "    #     loss = criterion(output, target)\n",
    "    #     return loss\n",
    "\n",
    "    def training_data(self):\n",
    "        X_train, y_train, table_vectorizer = self.get_Xy(\n",
    "            self.dataset_path,\n",
    "            target_cols=self.model_args()[\"target_cols\"],\n",
    "            return_vectorizer=True,\n",
    "        )\n",
    "        self.table_vectorizer_ = table_vectorizer\n",
    "\n",
    "        if y_train.shape[1] != self.model_args()[\"n_features_out\"]:\n",
    "            raise RuntimeError(\n",
    "                f\"Expected {self.model_args()['n_features_out']} output \"\n",
    "                f\"features, got {y_train.shape[1]}\"\n",
    "            )\n",
    "        if X_train.shape[1] != self.model_args()[\"n_features_in\"]:\n",
    "            raise RuntimeError(\n",
    "                f\"Expected {self.model_args()['n_features_in']} input features\"\n",
    "                f\", got {X_train.shape[1]}: {X_train.columns}\"\n",
    "            )\n",
    "\n",
    "        train_kwargs = {\"shuffle\": self.model_args()[\"shuffle\"]}\n",
    "\n",
    "        data_manager = DataManager(\n",
    "            dataset=X_train.values, target=y_train.values, **train_kwargs\n",
    "        )\n",
    "\n",
    "        self.set_model_params({\"classes_\": np.unique(y_train)})\n",
    "\n",
    "        return data_manager\n",
    "\n",
    "    def get_Xy(\n",
    "        self,\n",
    "        fpath,\n",
    "        target_cols,\n",
    "        return_vectorizer=False,\n",
    "        dataset=None,\n",
    "        setup_type=None,\n",
    "        datasets=None,\n",
    "    ):\n",
    "        is_mega = setup_type == \"mega\"\n",
    "\n",
    "        df = pd.read_csv(fpath, sep=\"\\t\")\n",
    "        df = df.set_index(\"participant_id\")\n",
    "        df = df.dropna(axis=\"index\", how=\"any\")\n",
    "\n",
    "        df = df.query(\"AGE >= 55\")\n",
    "\n",
    "        table_vectorizer = TableVectorizer()\n",
    "        df = table_vectorizer.fit_transform(df)\n",
    "\n",
    "        if is_mega and dataset not in df.columns:\n",
    "            if datasets is None:\n",
    "                raise ValueError(\"datasets is None\")\n",
    "            for col_dataset in datasets:\n",
    "                if col_dataset not in df.columns:\n",
    "                    df.loc[:, col_dataset] = 1 if col_dataset == dataset else 0\n",
    "\n",
    "        y_train = df.loc[:, target_cols]\n",
    "        X_train = df.drop(columns=target_cols)\n",
    "\n",
    "        if return_vectorizer:\n",
    "            return X_train, y_train, table_vectorizer\n",
    "        else:\n",
    "            return X_train, y_train"
   ]
  },
  {
   "cell_type": "code",
   "execution_count": 145,
   "metadata": {},
   "outputs": [
    {
     "name": "stdout",
     "output_type": "stream",
     "text": [
      "Number of input features: 63\n",
      "Number of output features: 1\n"
     ]
    }
   ],
   "source": [
    "# load test data\n",
    "Xy_test_all = {}\n",
    "n_features_in = None\n",
    "n_features_out = None\n",
    "for col_dataset in DATASETS:\n",
    "    fpath = (\n",
    "        DPATH_DATA\n",
    "        / f\"{col_dataset}-{DATA_TAGS}\"\n",
    "        / f\"{col_dataset}-{DATA_TAGS}-{I_SPLIT}test.tsv\"\n",
    "    )\n",
    "    X_test, y_test = MyTrainingPlan().get_Xy(\n",
    "        fpath,\n",
    "        target_cols=TARGET_COLS,\n",
    "        setup_type=SETUP_TYPE,\n",
    "        dataset=col_dataset,\n",
    "        datasets=DATASETS,\n",
    "    )\n",
    "\n",
    "    if n_features_in is None:\n",
    "        n_features_in = X_test.shape[1]\n",
    "    else:\n",
    "        assert n_features_in == X_test.shape[1], \"Inconsistent number of features\"\n",
    "\n",
    "    if n_features_out is None:\n",
    "        n_features_out = y_test.shape[1]\n",
    "    else:\n",
    "        assert n_features_out == y_test.shape[1], \"Inconsistent number of targets\"\n",
    "\n",
    "    Xy_test_all[col_dataset] = (X_test, y_test)\n",
    "\n",
    "# # but we need the X_test to also have these extra columns\n",
    "# if SETUP_TYPE == \"mega\":\n",
    "#     n_features_in += len(DATASETS)  # extra dataset indicator columns\n",
    "\n",
    "print(f\"Number of input features: {n_features_in}\")\n",
    "print(f\"Number of output features: {n_features_out}\")"
   ]
  },
  {
   "cell_type": "code",
   "execution_count": 146,
   "metadata": {
    "pycharm": {
     "name": "#%%\n"
    }
   },
   "outputs": [
    {
     "data": {
      "text/plain": [
       "2025-04-14 18:32:12,468 fedbiomed INFO - Updating training data. This action will update FederatedDataset, and the nodes that will participate to the experiment."
      ]
     },
     "metadata": {},
     "output_type": "display_data"
    },
    {
     "data": {
      "text/plain": [
       "2025-04-14 18:32:12,477 fedbiomed DEBUG - Node: NODE_ab268c68-f166-45b7-a73a-8cb390df85fe polling for the tasks"
      ]
     },
     "metadata": {},
     "output_type": "display_data"
    },
    {
     "data": {
      "text/plain": [
       "2025-04-14 18:32:12,480 fedbiomed INFO - Node selected for training -> NODE_ab268c68-f166-45b7-a73a-8cb390df85fe"
      ]
     },
     "metadata": {},
     "output_type": "display_data"
    },
    {
     "name": "stdout",
     "output_type": "stream",
     "text": [
      "<function extract_symbols at 0x7f0b45942dd0>\n"
     ]
    },
    {
     "data": {
      "text/plain": [
       "2025-04-14 18:32:12,515 fedbiomed DEBUG - Model file has been saved: /data/origami/michelle/projects/fl-pd/federation/fbm-researcher/var/experiments/Experiment_0061/model_6f7e9d63-585f-460a-98c0-dc50c9ad2362.py"
      ]
     },
     "metadata": {},
     "output_type": "display_data"
    },
    {
     "data": {
      "text/plain": [
       "2025-04-14 18:32:12,568 fedbiomed WARNING - Option share_persistent_buffers is not supported in SKLearnTrainingPlan, it will be ignored."
      ]
     },
     "metadata": {},
     "output_type": "display_data"
    },
    {
     "data": {
      "text/plain": [
       "2025-04-14 18:32:12,570 fedbiomed DEBUG - Using native Sklearn Optimizer"
      ]
     },
     "metadata": {},
     "output_type": "display_data"
    }
   ],
   "source": [
    "from fedbiomed.common.metrics import MetricTypes\n",
    "from fedbiomed.researcher.federated_workflows import Experiment\n",
    "from fedbiomed.researcher.aggregators.fedavg import FedAverage\n",
    "\n",
    "# # model parameters\n",
    "# model_args = {\n",
    "#     \"n_features_in\": n_features_in,\n",
    "#     \"n_features_out\": n_features_out,\n",
    "#     \"layer_size\": NN_LAYER_SIZE,\n",
    "#     \"target_cols\": TARGET_COLS,\n",
    "#     \"shuffle\": True,\n",
    "#     \"problem_type\": ML_PROBLEM_TYPE,\n",
    "# }\n",
    "\n",
    "# # training parameters\n",
    "# training_args = {\n",
    "#     \"loader_args\": {\n",
    "#         \"batch_size\": 2000,\n",
    "#     },\n",
    "#     \"optimizer_args\": {\"lr\": 1e-3},\n",
    "#     \"epochs\": 10,\n",
    "#     \"dry_run\": False,\n",
    "# }\n",
    "model_args = {\n",
    "    # \"class_weight\": \"balanced\",\n",
    "    \"random_state\": RNG_SEED,\n",
    "    \"n_features\": n_features_in,\n",
    "    \"n_classes\": 2,\n",
    "    \"n_features_in\": n_features_in,\n",
    "    \"n_features_out\": n_features_out,\n",
    "    \"target_cols\": TARGET_COLS,\n",
    "    \"shuffle\": True,\n",
    "    \"problem_type\": ML_PROBLEM_TYPE,\n",
    "}\n",
    "\n",
    "training_args = {\n",
    "    \"epochs\": 100,\n",
    "    \"loader_args\": {\n",
    "        \"batch_size\": 128,\n",
    "    },\n",
    "}\n",
    "\n",
    "# Calling the training data with specified tags\n",
    "exp = Experiment(\n",
    "    tags=FEDBIOMED_TAGS + [\"adni\"],\n",
    "    training_plan_class=MyTrainingPlan,\n",
    "    model_args=model_args,\n",
    "    training_args=training_args,\n",
    "    round_limit=FEDBIOMED_ROUNDS,\n",
    "    aggregator=FedAverage(),\n",
    "    node_selection_strategy=None,\n",
    ")"
   ]
  },
  {
   "cell_type": "code",
   "execution_count": 147,
   "metadata": {},
   "outputs": [
    {
     "name": "stdout",
     "output_type": "stream",
     "text": [
      "Balanced accuracy (train): 0.5978701724902242\n",
      "Balanced accuracy (test): 0.5902255639097744\n"
     ]
    }
   ],
   "source": [
    "from sklearn.metrics import balanced_accuracy_score\n",
    "from sklearn.linear_model import SGDClassifier\n",
    "\n",
    "X_train, y_train = MyTrainingPlan().get_Xy(\n",
    "    DPATH_DATA / f\"adni-{DATA_TAGS}\" / f\"adni-{DATA_TAGS}-{I_SPLIT}train.tsv\",\n",
    "    target_cols=TARGET_COLS,\n",
    ")\n",
    "X_test, y_test = Xy_test_all[\"adni\"]\n",
    "\n",
    "model = SGDClassifier()\n",
    "model.fit(X_train, y_train.values.ravel())\n",
    "\n",
    "print(\n",
    "    f\"Balanced accuracy (train): {balanced_accuracy_score(y_train, model.predict(X_train))}\"\n",
    ")\n",
    "print(\n",
    "    f\"Balanced accuracy (test): {balanced_accuracy_score(y_test, model.predict(X_test))}\"\n",
    ")"
   ]
  },
  {
   "cell_type": "markdown",
   "metadata": {
    "pycharm": {
     "name": "#%% md\n"
    }
   },
   "source": [
    "Let's start the experiment.\n",
    "\n",
    "By default, this function doesn't stop until all the `round_limit` rounds are done for all the nodes"
   ]
  },
  {
   "cell_type": "code",
   "execution_count": 148,
   "metadata": {
    "pycharm": {
     "name": "#%%\n"
    }
   },
   "outputs": [
    {
     "data": {
      "text/plain": [
       "2025-04-14 18:32:17,868 fedbiomed INFO - Sampled nodes in round 0 ['NODE_ab268c68-f166-45b7-a73a-8cb390df85fe']"
      ]
     },
     "metadata": {},
     "output_type": "display_data"
    },
    {
     "name": "stdout",
     "output_type": "stream",
     "text": [
      "<function extract_symbols at 0x7f0b45942dd0>\n"
     ]
    },
    {
     "data": {
      "text/plain": [
       "2025-04-14 18:32:17,872 fedbiomed INFO - \u001b[1mSending request\u001b[0m \n",
       "\t\t\t\t\t\u001b[1m To\u001b[0m: NODE_ab268c68-f166-45b7-a73a-8cb390df85fe \n",
       "\t\t\t\t\t\u001b[1m Request: \u001b[0m: TRAIN\n",
       " -----------------------------------------------------------------"
      ]
     },
     "metadata": {},
     "output_type": "display_data"
    },
    {
     "data": {
      "text/plain": [
       "2025-04-14 18:32:17,944 fedbiomed DEBUG - Node: NODE_ab268c68-f166-45b7-a73a-8cb390df85fe polling for the tasks"
      ]
     },
     "metadata": {},
     "output_type": "display_data"
    },
    {
     "data": {
      "text/plain": [
       "2025-04-14 18:32:18,239 fedbiomed INFO - \u001b[1mTRAINING\u001b[0m \n",
       "\t\t\t\t\t NODE_ID: NODE_ab268c68-f166-45b7-a73a-8cb390df85fe \n",
       "\t\t\t\t\t Round 1 Epoch: 1 | Iteration: 1/7 (14%) | Samples: 128/896\n",
       " \t\t\t\t\t Loss hinge: \u001b[1m1.000000\u001b[0m \n",
       "\t\t\t\t\t ---------"
      ]
     },
     "metadata": {},
     "output_type": "display_data"
    },
    {
     "data": {
      "text/plain": [
       "2025-04-14 18:32:18,492 fedbiomed INFO - \u001b[1mTRAINING\u001b[0m \n",
       "\t\t\t\t\t NODE_ID: NODE_ab268c68-f166-45b7-a73a-8cb390df85fe \n",
       "\t\t\t\t\t Round 1 Epoch: 1 | Iteration: 7/7 (100%) | Samples: 780/780\n",
       " \t\t\t\t\t Loss hinge: \u001b[1m5624.307617\u001b[0m \n",
       "\t\t\t\t\t ---------"
      ]
     },
     "metadata": {},
     "output_type": "display_data"
    },
    {
     "data": {
      "text/plain": [
       "2025-04-14 18:32:18,540 fedbiomed INFO - \u001b[1mTRAINING\u001b[0m \n",
       "\t\t\t\t\t NODE_ID: NODE_ab268c68-f166-45b7-a73a-8cb390df85fe \n",
       "\t\t\t\t\t Round 1 Epoch: 2 | Iteration: 1/7 (14%) | Samples: 128/896\n",
       " \t\t\t\t\t Loss hinge: \u001b[1m4209.066895\u001b[0m \n",
       "\t\t\t\t\t ---------"
      ]
     },
     "metadata": {},
     "output_type": "display_data"
    },
    {
     "data": {
      "text/plain": [
       "2025-04-14 18:32:18,641 fedbiomed INFO - \u001b[1mTRAINING\u001b[0m \n",
       "\t\t\t\t\t NODE_ID: NODE_ab268c68-f166-45b7-a73a-8cb390df85fe \n",
       "\t\t\t\t\t Round 1 Epoch: 2 | Iteration: 3/7 (43%) | Samples: 384/896\n",
       " \t\t\t\t\t Loss hinge: \u001b[1m4862.770020\u001b[0m \n",
       "\t\t\t\t\t ---------"
      ]
     },
     "metadata": {},
     "output_type": "display_data"
    },
    {
     "data": {
      "text/plain": [
       "2025-04-14 18:32:18,790 fedbiomed INFO - \u001b[1mTRAINING\u001b[0m \n",
       "\t\t\t\t\t NODE_ID: NODE_ab268c68-f166-45b7-a73a-8cb390df85fe \n",
       "\t\t\t\t\t Round 1 Epoch: 2 | Iteration: 7/7 (100%) | Samples: 780/780\n",
       " \t\t\t\t\t Loss hinge: \u001b[1m4501.998535\u001b[0m \n",
       "\t\t\t\t\t ---------"
      ]
     },
     "metadata": {},
     "output_type": "display_data"
    },
    {
     "data": {
      "text/plain": [
       "2025-04-14 18:32:18,841 fedbiomed INFO - \u001b[1mTRAINING\u001b[0m \n",
       "\t\t\t\t\t NODE_ID: NODE_ab268c68-f166-45b7-a73a-8cb390df85fe \n",
       "\t\t\t\t\t Round 1 Epoch: 3 | Iteration: 1/7 (14%) | Samples: 128/896\n",
       " \t\t\t\t\t Loss hinge: \u001b[1m395.797333\u001b[0m \n",
       "\t\t\t\t\t ---------"
      ]
     },
     "metadata": {},
     "output_type": "display_data"
    },
    {
     "data": {
      "text/plain": [
       "2025-04-14 18:32:19,086 fedbiomed INFO - \u001b[1mTRAINING\u001b[0m \n",
       "\t\t\t\t\t NODE_ID: NODE_ab268c68-f166-45b7-a73a-8cb390df85fe \n",
       "\t\t\t\t\t Round 1 Epoch: 3 | Iteration: 6/7 (86%) | Samples: 768/896\n",
       " \t\t\t\t\t Loss hinge: \u001b[1m581.017029\u001b[0m \n",
       "\t\t\t\t\t ---------"
      ]
     },
     "metadata": {},
     "output_type": "display_data"
    },
    {
     "data": {
      "text/plain": [
       "2025-04-14 18:32:19,090 fedbiomed INFO - \u001b[1mTRAINING\u001b[0m \n",
       "\t\t\t\t\t NODE_ID: NODE_ab268c68-f166-45b7-a73a-8cb390df85fe \n",
       "\t\t\t\t\t Round 1 Epoch: 3 | Iteration: 7/7 (100%) | Samples: 780/780\n",
       " \t\t\t\t\t Loss hinge: \u001b[1m2318.128662\u001b[0m \n",
       "\t\t\t\t\t ---------"
      ]
     },
     "metadata": {},
     "output_type": "display_data"
    },
    {
     "data": {
      "text/plain": [
       "2025-04-14 18:32:19,141 fedbiomed INFO - \u001b[1mTRAINING\u001b[0m \n",
       "\t\t\t\t\t NODE_ID: NODE_ab268c68-f166-45b7-a73a-8cb390df85fe \n",
       "\t\t\t\t\t Round 1 Epoch: 4 | Iteration: 1/7 (14%) | Samples: 128/896\n",
       " \t\t\t\t\t Loss hinge: \u001b[1m2184.822021\u001b[0m \n",
       "\t\t\t\t\t ---------"
      ]
     },
     "metadata": {},
     "output_type": "display_data"
    },
    {
     "data": {
      "text/plain": [
       "2025-04-14 18:32:19,390 fedbiomed INFO - \u001b[1mTRAINING\u001b[0m \n",
       "\t\t\t\t\t NODE_ID: NODE_ab268c68-f166-45b7-a73a-8cb390df85fe \n",
       "\t\t\t\t\t Round 1 Epoch: 4 | Iteration: 7/7 (100%) | Samples: 780/780\n",
       " \t\t\t\t\t Loss hinge: \u001b[1m118.534798\u001b[0m \n",
       "\t\t\t\t\t ---------"
      ]
     },
     "metadata": {},
     "output_type": "display_data"
    },
    {
     "data": {
      "text/plain": [
       "2025-04-14 18:32:19,440 fedbiomed INFO - \u001b[1mTRAINING\u001b[0m \n",
       "\t\t\t\t\t NODE_ID: NODE_ab268c68-f166-45b7-a73a-8cb390df85fe \n",
       "\t\t\t\t\t Round 1 Epoch: 5 | Iteration: 1/7 (14%) | Samples: 128/896\n",
       " \t\t\t\t\t Loss hinge: \u001b[1m2695.350830\u001b[0m \n",
       "\t\t\t\t\t ---------"
      ]
     },
     "metadata": {},
     "output_type": "display_data"
    },
    {
     "data": {
      "text/plain": [
       "2025-04-14 18:32:19,492 fedbiomed INFO - \u001b[1mTRAINING\u001b[0m \n",
       "\t\t\t\t\t NODE_ID: NODE_ab268c68-f166-45b7-a73a-8cb390df85fe \n",
       "\t\t\t\t\t Round 1 Epoch: 5 | Iteration: 2/7 (29%) | Samples: 256/896\n",
       " \t\t\t\t\t Loss hinge: \u001b[1m581.063538\u001b[0m \n",
       "\t\t\t\t\t ---------"
      ]
     },
     "metadata": {},
     "output_type": "display_data"
    },
    {
     "data": {
      "text/plain": [
       "2025-04-14 18:32:19,691 fedbiomed INFO - \u001b[1mTRAINING\u001b[0m \n",
       "\t\t\t\t\t NODE_ID: NODE_ab268c68-f166-45b7-a73a-8cb390df85fe \n",
       "\t\t\t\t\t Round 1 Epoch: 5 | Iteration: 7/7 (100%) | Samples: 780/780\n",
       " \t\t\t\t\t Loss hinge: \u001b[1m1232.090942\u001b[0m \n",
       "\t\t\t\t\t ---------"
      ]
     },
     "metadata": {},
     "output_type": "display_data"
    },
    {
     "data": {
      "text/plain": [
       "2025-04-14 18:32:19,744 fedbiomed INFO - \u001b[1mTRAINING\u001b[0m \n",
       "\t\t\t\t\t NODE_ID: NODE_ab268c68-f166-45b7-a73a-8cb390df85fe \n",
       "\t\t\t\t\t Round 1 Epoch: 6 | Iteration: 1/7 (14%) | Samples: 128/896\n",
       " \t\t\t\t\t Loss hinge: \u001b[1m1687.349854\u001b[0m \n",
       "\t\t\t\t\t ---------"
      ]
     },
     "metadata": {},
     "output_type": "display_data"
    },
    {
     "data": {
      "text/plain": [
       "2025-04-14 18:32:19,938 fedbiomed INFO - \u001b[1mTRAINING\u001b[0m \n",
       "\t\t\t\t\t NODE_ID: NODE_ab268c68-f166-45b7-a73a-8cb390df85fe \n",
       "\t\t\t\t\t Round 1 Epoch: 6 | Iteration: 5/7 (71%) | Samples: 640/896\n",
       " \t\t\t\t\t Loss hinge: \u001b[1m2142.531006\u001b[0m \n",
       "\t\t\t\t\t ---------"
      ]
     },
     "metadata": {},
     "output_type": "display_data"
    },
    {
     "data": {
      "text/plain": [
       "2025-04-14 18:32:19,993 fedbiomed INFO - \u001b[1mTRAINING\u001b[0m \n",
       "\t\t\t\t\t NODE_ID: NODE_ab268c68-f166-45b7-a73a-8cb390df85fe \n",
       "\t\t\t\t\t Round 1 Epoch: 6 | Iteration: 7/7 (100%) | Samples: 780/780\n",
       " \t\t\t\t\t Loss hinge: \u001b[1m1900.464355\u001b[0m \n",
       "\t\t\t\t\t ---------"
      ]
     },
     "metadata": {},
     "output_type": "display_data"
    },
    {
     "data": {
      "text/plain": [
       "2025-04-14 18:32:20,044 fedbiomed INFO - \u001b[1mTRAINING\u001b[0m \n",
       "\t\t\t\t\t NODE_ID: NODE_ab268c68-f166-45b7-a73a-8cb390df85fe \n",
       "\t\t\t\t\t Round 1 Epoch: 7 | Iteration: 1/7 (14%) | Samples: 128/896\n",
       " \t\t\t\t\t Loss hinge: \u001b[1m279.357452\u001b[0m \n",
       "\t\t\t\t\t ---------"
      ]
     },
     "metadata": {},
     "output_type": "display_data"
    },
    {
     "data": {
      "text/plain": [
       "2025-04-14 18:32:20,295 fedbiomed INFO - \u001b[1mTRAINING\u001b[0m \n",
       "\t\t\t\t\t NODE_ID: NODE_ab268c68-f166-45b7-a73a-8cb390df85fe \n",
       "\t\t\t\t\t Round 1 Epoch: 7 | Iteration: 7/7 (100%) | Samples: 780/780\n",
       " \t\t\t\t\t Loss hinge: \u001b[1m1171.416992\u001b[0m \n",
       "\t\t\t\t\t ---------"
      ]
     },
     "metadata": {},
     "output_type": "display_data"
    },
    {
     "data": {
      "text/plain": [
       "2025-04-14 18:32:20,346 fedbiomed INFO - \u001b[1mTRAINING\u001b[0m \n",
       "\t\t\t\t\t NODE_ID: NODE_ab268c68-f166-45b7-a73a-8cb390df85fe \n",
       "\t\t\t\t\t Round 1 Epoch: 8 | Iteration: 1/7 (14%) | Samples: 128/896\n",
       " \t\t\t\t\t Loss hinge: \u001b[1m1018.899414\u001b[0m \n",
       "\t\t\t\t\t ---------"
      ]
     },
     "metadata": {},
     "output_type": "display_data"
    },
    {
     "data": {
      "text/plain": [
       "2025-04-14 18:32:20,595 fedbiomed INFO - \u001b[1mTRAINING\u001b[0m \n",
       "\t\t\t\t\t NODE_ID: NODE_ab268c68-f166-45b7-a73a-8cb390df85fe \n",
       "\t\t\t\t\t Round 1 Epoch: 8 | Iteration: 7/7 (100%) | Samples: 780/780\n",
       " \t\t\t\t\t Loss hinge: \u001b[1m17.523355\u001b[0m \n",
       "\t\t\t\t\t ---------"
      ]
     },
     "metadata": {},
     "output_type": "display_data"
    },
    {
     "data": {
      "text/plain": [
       "2025-04-14 18:32:20,643 fedbiomed INFO - \u001b[1mTRAINING\u001b[0m \n",
       "\t\t\t\t\t NODE_ID: NODE_ab268c68-f166-45b7-a73a-8cb390df85fe \n",
       "\t\t\t\t\t Round 1 Epoch: 9 | Iteration: 1/7 (14%) | Samples: 128/896\n",
       " \t\t\t\t\t Loss hinge: \u001b[1m71.861443\u001b[0m \n",
       "\t\t\t\t\t ---------"
      ]
     },
     "metadata": {},
     "output_type": "display_data"
    },
    {
     "data": {
      "text/plain": [
       "2025-04-14 18:32:20,791 fedbiomed INFO - \u001b[1mTRAINING\u001b[0m \n",
       "\t\t\t\t\t NODE_ID: NODE_ab268c68-f166-45b7-a73a-8cb390df85fe \n",
       "\t\t\t\t\t Round 1 Epoch: 9 | Iteration: 4/7 (57%) | Samples: 512/896\n",
       " \t\t\t\t\t Loss hinge: \u001b[1m1647.794800\u001b[0m \n",
       "\t\t\t\t\t ---------"
      ]
     },
     "metadata": {},
     "output_type": "display_data"
    },
    {
     "data": {
      "text/plain": [
       "2025-04-14 18:32:20,895 fedbiomed INFO - \u001b[1mTRAINING\u001b[0m \n",
       "\t\t\t\t\t NODE_ID: NODE_ab268c68-f166-45b7-a73a-8cb390df85fe \n",
       "\t\t\t\t\t Round 1 Epoch: 9 | Iteration: 7/7 (100%) | Samples: 780/780\n",
       " \t\t\t\t\t Loss hinge: \u001b[1m688.343262\u001b[0m \n",
       "\t\t\t\t\t ---------"
      ]
     },
     "metadata": {},
     "output_type": "display_data"
    },
    {
     "data": {
      "text/plain": [
       "2025-04-14 18:32:20,945 fedbiomed INFO - \u001b[1mTRAINING\u001b[0m \n",
       "\t\t\t\t\t NODE_ID: NODE_ab268c68-f166-45b7-a73a-8cb390df85fe \n",
       "\t\t\t\t\t Round 1 Epoch: 10 | Iteration: 1/7 (14%) | Samples: 128/896\n",
       " \t\t\t\t\t Loss hinge: \u001b[1m172.816208\u001b[0m \n",
       "\t\t\t\t\t ---------"
      ]
     },
     "metadata": {},
     "output_type": "display_data"
    },
    {
     "data": {
      "text/plain": [
       "2025-04-14 18:32:21,202 fedbiomed INFO - \u001b[1mTRAINING\u001b[0m \n",
       "\t\t\t\t\t NODE_ID: NODE_ab268c68-f166-45b7-a73a-8cb390df85fe \n",
       "\t\t\t\t\t Round 1 Epoch: 10 | Iteration: 7/7 (100%) | Samples: 780/780\n",
       " \t\t\t\t\t Loss hinge: \u001b[1m677.137756\u001b[0m \n",
       "\t\t\t\t\t ---------"
      ]
     },
     "metadata": {},
     "output_type": "display_data"
    },
    {
     "data": {
      "text/plain": [
       "2025-04-14 18:32:21,253 fedbiomed INFO - \u001b[1mTRAINING\u001b[0m \n",
       "\t\t\t\t\t NODE_ID: NODE_ab268c68-f166-45b7-a73a-8cb390df85fe \n",
       "\t\t\t\t\t Round 1 Epoch: 11 | Iteration: 1/7 (14%) | Samples: 128/896\n",
       " \t\t\t\t\t Loss hinge: \u001b[1m1491.542236\u001b[0m \n",
       "\t\t\t\t\t ---------"
      ]
     },
     "metadata": {},
     "output_type": "display_data"
    },
    {
     "data": {
      "text/plain": [
       "2025-04-14 18:32:21,501 fedbiomed INFO - \u001b[1mTRAINING\u001b[0m \n",
       "\t\t\t\t\t NODE_ID: NODE_ab268c68-f166-45b7-a73a-8cb390df85fe \n",
       "\t\t\t\t\t Round 1 Epoch: 11 | Iteration: 7/7 (100%) | Samples: 780/780\n",
       " \t\t\t\t\t Loss hinge: \u001b[1m501.847595\u001b[0m \n",
       "\t\t\t\t\t ---------"
      ]
     },
     "metadata": {},
     "output_type": "display_data"
    },
    {
     "data": {
      "text/plain": [
       "2025-04-14 18:32:21,553 fedbiomed INFO - \u001b[1mTRAINING\u001b[0m \n",
       "\t\t\t\t\t NODE_ID: NODE_ab268c68-f166-45b7-a73a-8cb390df85fe \n",
       "\t\t\t\t\t Round 1 Epoch: 12 | Iteration: 1/7 (14%) | Samples: 128/896\n",
       " \t\t\t\t\t Loss hinge: \u001b[1m539.275818\u001b[0m \n",
       "\t\t\t\t\t ---------"
      ]
     },
     "metadata": {},
     "output_type": "display_data"
    },
    {
     "data": {
      "text/plain": [
       "2025-04-14 18:32:21,652 fedbiomed INFO - \u001b[1mTRAINING\u001b[0m \n",
       "\t\t\t\t\t NODE_ID: NODE_ab268c68-f166-45b7-a73a-8cb390df85fe \n",
       "\t\t\t\t\t Round 1 Epoch: 12 | Iteration: 3/7 (43%) | Samples: 384/896\n",
       " \t\t\t\t\t Loss hinge: \u001b[1m852.690186\u001b[0m \n",
       "\t\t\t\t\t ---------"
      ]
     },
     "metadata": {},
     "output_type": "display_data"
    },
    {
     "data": {
      "text/plain": [
       "2025-04-14 18:32:21,803 fedbiomed INFO - \u001b[1mTRAINING\u001b[0m \n",
       "\t\t\t\t\t NODE_ID: NODE_ab268c68-f166-45b7-a73a-8cb390df85fe \n",
       "\t\t\t\t\t Round 1 Epoch: 12 | Iteration: 7/7 (100%) | Samples: 780/780\n",
       " \t\t\t\t\t Loss hinge: \u001b[1m83.959244\u001b[0m \n",
       "\t\t\t\t\t ---------"
      ]
     },
     "metadata": {},
     "output_type": "display_data"
    },
    {
     "data": {
      "text/plain": [
       "2025-04-14 18:32:21,853 fedbiomed INFO - \u001b[1mTRAINING\u001b[0m \n",
       "\t\t\t\t\t NODE_ID: NODE_ab268c68-f166-45b7-a73a-8cb390df85fe \n",
       "\t\t\t\t\t Round 1 Epoch: 13 | Iteration: 1/7 (14%) | Samples: 128/896\n",
       " \t\t\t\t\t Loss hinge: \u001b[1m1209.158691\u001b[0m \n",
       "\t\t\t\t\t ---------"
      ]
     },
     "metadata": {},
     "output_type": "display_data"
    },
    {
     "data": {
      "text/plain": [
       "2025-04-14 18:32:22,100 fedbiomed INFO - \u001b[1mTRAINING\u001b[0m \n",
       "\t\t\t\t\t NODE_ID: NODE_ab268c68-f166-45b7-a73a-8cb390df85fe \n",
       "\t\t\t\t\t Round 1 Epoch: 13 | Iteration: 6/7 (86%) | Samples: 768/896\n",
       " \t\t\t\t\t Loss hinge: \u001b[1m742.827881\u001b[0m \n",
       "\t\t\t\t\t ---------"
      ]
     },
     "metadata": {},
     "output_type": "display_data"
    },
    {
     "data": {
      "text/plain": [
       "2025-04-14 18:32:22,103 fedbiomed INFO - \u001b[1mTRAINING\u001b[0m \n",
       "\t\t\t\t\t NODE_ID: NODE_ab268c68-f166-45b7-a73a-8cb390df85fe \n",
       "\t\t\t\t\t Round 1 Epoch: 13 | Iteration: 7/7 (100%) | Samples: 780/780\n",
       " \t\t\t\t\t Loss hinge: \u001b[1m350.273804\u001b[0m \n",
       "\t\t\t\t\t ---------"
      ]
     },
     "metadata": {},
     "output_type": "display_data"
    },
    {
     "data": {
      "text/plain": [
       "2025-04-14 18:32:22,155 fedbiomed INFO - \u001b[1mTRAINING\u001b[0m \n",
       "\t\t\t\t\t NODE_ID: NODE_ab268c68-f166-45b7-a73a-8cb390df85fe \n",
       "\t\t\t\t\t Round 1 Epoch: 14 | Iteration: 1/7 (14%) | Samples: 128/896\n",
       " \t\t\t\t\t Loss hinge: \u001b[1m1246.504761\u001b[0m \n",
       "\t\t\t\t\t ---------"
      ]
     },
     "metadata": {},
     "output_type": "display_data"
    },
    {
     "data": {
      "text/plain": [
       "2025-04-14 18:32:22,405 fedbiomed INFO - \u001b[1mTRAINING\u001b[0m \n",
       "\t\t\t\t\t NODE_ID: NODE_ab268c68-f166-45b7-a73a-8cb390df85fe \n",
       "\t\t\t\t\t Round 1 Epoch: 14 | Iteration: 7/7 (100%) | Samples: 780/780\n",
       " \t\t\t\t\t Loss hinge: \u001b[1m723.095642\u001b[0m \n",
       "\t\t\t\t\t ---------"
      ]
     },
     "metadata": {},
     "output_type": "display_data"
    },
    {
     "data": {
      "text/plain": [
       "2025-04-14 18:32:22,454 fedbiomed INFO - \u001b[1mTRAINING\u001b[0m \n",
       "\t\t\t\t\t NODE_ID: NODE_ab268c68-f166-45b7-a73a-8cb390df85fe \n",
       "\t\t\t\t\t Round 1 Epoch: 15 | Iteration: 1/7 (14%) | Samples: 128/896\n",
       " \t\t\t\t\t Loss hinge: \u001b[1m779.482239\u001b[0m \n",
       "\t\t\t\t\t ---------"
      ]
     },
     "metadata": {},
     "output_type": "display_data"
    },
    {
     "data": {
      "text/plain": [
       "2025-04-14 18:32:22,508 fedbiomed INFO - \u001b[1mTRAINING\u001b[0m \n",
       "\t\t\t\t\t NODE_ID: NODE_ab268c68-f166-45b7-a73a-8cb390df85fe \n",
       "\t\t\t\t\t Round 1 Epoch: 15 | Iteration: 2/7 (29%) | Samples: 256/896\n",
       " \t\t\t\t\t Loss hinge: \u001b[1m602.866516\u001b[0m \n",
       "\t\t\t\t\t ---------"
      ]
     },
     "metadata": {},
     "output_type": "display_data"
    },
    {
     "data": {
      "text/plain": [
       "2025-04-14 18:32:22,705 fedbiomed INFO - \u001b[1mTRAINING\u001b[0m \n",
       "\t\t\t\t\t NODE_ID: NODE_ab268c68-f166-45b7-a73a-8cb390df85fe \n",
       "\t\t\t\t\t Round 1 Epoch: 15 | Iteration: 7/7 (100%) | Samples: 780/780\n",
       " \t\t\t\t\t Loss hinge: \u001b[1m838.954773\u001b[0m \n",
       "\t\t\t\t\t ---------"
      ]
     },
     "metadata": {},
     "output_type": "display_data"
    },
    {
     "data": {
      "text/plain": [
       "2025-04-14 18:32:22,758 fedbiomed INFO - \u001b[1mTRAINING\u001b[0m \n",
       "\t\t\t\t\t NODE_ID: NODE_ab268c68-f166-45b7-a73a-8cb390df85fe \n",
       "\t\t\t\t\t Round 1 Epoch: 16 | Iteration: 1/7 (14%) | Samples: 128/896\n",
       " \t\t\t\t\t Loss hinge: \u001b[1m379.096375\u001b[0m \n",
       "\t\t\t\t\t ---------"
      ]
     },
     "metadata": {},
     "output_type": "display_data"
    },
    {
     "data": {
      "text/plain": [
       "2025-04-14 18:32:22,954 fedbiomed INFO - \u001b[1mTRAINING\u001b[0m \n",
       "\t\t\t\t\t NODE_ID: NODE_ab268c68-f166-45b7-a73a-8cb390df85fe \n",
       "\t\t\t\t\t Round 1 Epoch: 16 | Iteration: 5/7 (71%) | Samples: 640/896\n",
       " \t\t\t\t\t Loss hinge: \u001b[1m221.328506\u001b[0m \n",
       "\t\t\t\t\t ---------"
      ]
     },
     "metadata": {},
     "output_type": "display_data"
    },
    {
     "data": {
      "text/plain": [
       "2025-04-14 18:32:23,011 fedbiomed INFO - \u001b[1mTRAINING\u001b[0m \n",
       "\t\t\t\t\t NODE_ID: NODE_ab268c68-f166-45b7-a73a-8cb390df85fe \n",
       "\t\t\t\t\t Round 1 Epoch: 16 | Iteration: 7/7 (100%) | Samples: 780/780\n",
       " \t\t\t\t\t Loss hinge: \u001b[1m49.210133\u001b[0m \n",
       "\t\t\t\t\t ---------"
      ]
     },
     "metadata": {},
     "output_type": "display_data"
    },
    {
     "data": {
      "text/plain": [
       "2025-04-14 18:32:23,067 fedbiomed INFO - \u001b[1mTRAINING\u001b[0m \n",
       "\t\t\t\t\t NODE_ID: NODE_ab268c68-f166-45b7-a73a-8cb390df85fe \n",
       "\t\t\t\t\t Round 1 Epoch: 17 | Iteration: 1/7 (14%) | Samples: 128/896\n",
       " \t\t\t\t\t Loss hinge: \u001b[1m332.375305\u001b[0m \n",
       "\t\t\t\t\t ---------"
      ]
     },
     "metadata": {},
     "output_type": "display_data"
    },
    {
     "data": {
      "text/plain": [
       "2025-04-14 18:32:23,329 fedbiomed INFO - \u001b[1mTRAINING\u001b[0m \n",
       "\t\t\t\t\t NODE_ID: NODE_ab268c68-f166-45b7-a73a-8cb390df85fe \n",
       "\t\t\t\t\t Round 1 Epoch: 17 | Iteration: 7/7 (100%) | Samples: 780/780\n",
       " \t\t\t\t\t Loss hinge: \u001b[1m41.763351\u001b[0m \n",
       "\t\t\t\t\t ---------"
      ]
     },
     "metadata": {},
     "output_type": "display_data"
    },
    {
     "data": {
      "text/plain": [
       "2025-04-14 18:32:23,384 fedbiomed INFO - \u001b[1mTRAINING\u001b[0m \n",
       "\t\t\t\t\t NODE_ID: NODE_ab268c68-f166-45b7-a73a-8cb390df85fe \n",
       "\t\t\t\t\t Round 1 Epoch: 18 | Iteration: 1/7 (14%) | Samples: 128/896\n",
       " \t\t\t\t\t Loss hinge: \u001b[1m490.728790\u001b[0m \n",
       "\t\t\t\t\t ---------"
      ]
     },
     "metadata": {},
     "output_type": "display_data"
    },
    {
     "data": {
      "text/plain": [
       "2025-04-14 18:32:23,648 fedbiomed INFO - \u001b[1mTRAINING\u001b[0m \n",
       "\t\t\t\t\t NODE_ID: NODE_ab268c68-f166-45b7-a73a-8cb390df85fe \n",
       "\t\t\t\t\t Round 1 Epoch: 18 | Iteration: 7/7 (100%) | Samples: 780/780\n",
       " \t\t\t\t\t Loss hinge: \u001b[1m366.357910\u001b[0m \n",
       "\t\t\t\t\t ---------"
      ]
     },
     "metadata": {},
     "output_type": "display_data"
    },
    {
     "data": {
      "text/plain": [
       "2025-04-14 18:32:23,759 fedbiomed INFO - \u001b[1mTRAINING\u001b[0m \n",
       "\t\t\t\t\t NODE_ID: NODE_ab268c68-f166-45b7-a73a-8cb390df85fe \n",
       "\t\t\t\t\t Round 1 Epoch: 19 | Iteration: 1/7 (14%) | Samples: 128/896\n",
       " \t\t\t\t\t Loss hinge: \u001b[1m587.158569\u001b[0m \n",
       "\t\t\t\t\t ---------"
      ]
     },
     "metadata": {},
     "output_type": "display_data"
    },
    {
     "data": {
      "text/plain": [
       "2025-04-14 18:32:23,870 fedbiomed INFO - \u001b[1mTRAINING\u001b[0m \n",
       "\t\t\t\t\t NODE_ID: NODE_ab268c68-f166-45b7-a73a-8cb390df85fe \n",
       "\t\t\t\t\t Round 1 Epoch: 19 | Iteration: 4/7 (57%) | Samples: 512/896\n",
       " \t\t\t\t\t Loss hinge: \u001b[1m472.492828\u001b[0m \n",
       "\t\t\t\t\t ---------"
      ]
     },
     "metadata": {},
     "output_type": "display_data"
    },
    {
     "data": {
      "text/plain": [
       "2025-04-14 18:32:23,986 fedbiomed INFO - \u001b[1mTRAINING\u001b[0m \n",
       "\t\t\t\t\t NODE_ID: NODE_ab268c68-f166-45b7-a73a-8cb390df85fe \n",
       "\t\t\t\t\t Round 1 Epoch: 19 | Iteration: 7/7 (100%) | Samples: 780/780\n",
       " \t\t\t\t\t Loss hinge: \u001b[1m52.312031\u001b[0m \n",
       "\t\t\t\t\t ---------"
      ]
     },
     "metadata": {},
     "output_type": "display_data"
    },
    {
     "data": {
      "text/plain": [
       "2025-04-14 18:32:24,042 fedbiomed INFO - \u001b[1mTRAINING\u001b[0m \n",
       "\t\t\t\t\t NODE_ID: NODE_ab268c68-f166-45b7-a73a-8cb390df85fe \n",
       "\t\t\t\t\t Round 1 Epoch: 20 | Iteration: 1/7 (14%) | Samples: 128/896\n",
       " \t\t\t\t\t Loss hinge: \u001b[1m263.476440\u001b[0m \n",
       "\t\t\t\t\t ---------"
      ]
     },
     "metadata": {},
     "output_type": "display_data"
    },
    {
     "data": {
      "text/plain": [
       "2025-04-14 18:32:24,308 fedbiomed INFO - \u001b[1mTRAINING\u001b[0m \n",
       "\t\t\t\t\t NODE_ID: NODE_ab268c68-f166-45b7-a73a-8cb390df85fe \n",
       "\t\t\t\t\t Round 1 Epoch: 20 | Iteration: 7/7 (100%) | Samples: 780/780\n",
       " \t\t\t\t\t Loss hinge: \u001b[1m562.356140\u001b[0m \n",
       "\t\t\t\t\t ---------"
      ]
     },
     "metadata": {},
     "output_type": "display_data"
    },
    {
     "data": {
      "text/plain": [
       "2025-04-14 18:32:24,419 fedbiomed INFO - \u001b[1mTRAINING\u001b[0m \n",
       "\t\t\t\t\t NODE_ID: NODE_ab268c68-f166-45b7-a73a-8cb390df85fe \n",
       "\t\t\t\t\t Round 1 Epoch: 21 | Iteration: 1/7 (14%) | Samples: 128/896\n",
       " \t\t\t\t\t Loss hinge: \u001b[1m70.015282\u001b[0m \n",
       "\t\t\t\t\t ---------"
      ]
     },
     "metadata": {},
     "output_type": "display_data"
    },
    {
     "data": {
      "text/plain": [
       "2025-04-14 18:32:24,633 fedbiomed INFO - \u001b[1mTRAINING\u001b[0m \n",
       "\t\t\t\t\t NODE_ID: NODE_ab268c68-f166-45b7-a73a-8cb390df85fe \n",
       "\t\t\t\t\t Round 1 Epoch: 21 | Iteration: 7/7 (100%) | Samples: 780/780\n",
       " \t\t\t\t\t Loss hinge: \u001b[1m73.698441\u001b[0m \n",
       "\t\t\t\t\t ---------"
      ]
     },
     "metadata": {},
     "output_type": "display_data"
    },
    {
     "data": {
      "text/plain": [
       "2025-04-14 18:32:24,745 fedbiomed INFO - \u001b[1mTRAINING\u001b[0m \n",
       "\t\t\t\t\t NODE_ID: NODE_ab268c68-f166-45b7-a73a-8cb390df85fe \n",
       "\t\t\t\t\t Round 1 Epoch: 22 | Iteration: 1/7 (14%) | Samples: 128/896\n",
       " \t\t\t\t\t Loss hinge: \u001b[1m805.788696\u001b[0m \n",
       "\t\t\t\t\t ---------"
      ]
     },
     "metadata": {},
     "output_type": "display_data"
    },
    {
     "data": {
      "text/plain": [
       "2025-04-14 18:32:24,801 fedbiomed INFO - \u001b[1mTRAINING\u001b[0m \n",
       "\t\t\t\t\t NODE_ID: NODE_ab268c68-f166-45b7-a73a-8cb390df85fe \n",
       "\t\t\t\t\t Round 1 Epoch: 22 | Iteration: 3/7 (43%) | Samples: 384/896\n",
       " \t\t\t\t\t Loss hinge: \u001b[1m447.324890\u001b[0m \n",
       "\t\t\t\t\t ---------"
      ]
     },
     "metadata": {},
     "output_type": "display_data"
    },
    {
     "data": {
      "text/plain": [
       "2025-04-14 18:32:24,965 fedbiomed INFO - \u001b[1mTRAINING\u001b[0m \n",
       "\t\t\t\t\t NODE_ID: NODE_ab268c68-f166-45b7-a73a-8cb390df85fe \n",
       "\t\t\t\t\t Round 1 Epoch: 22 | Iteration: 7/7 (100%) | Samples: 780/780\n",
       " \t\t\t\t\t Loss hinge: \u001b[1m394.894775\u001b[0m \n",
       "\t\t\t\t\t ---------"
      ]
     },
     "metadata": {},
     "output_type": "display_data"
    },
    {
     "data": {
      "text/plain": [
       "2025-04-14 18:32:25,021 fedbiomed INFO - \u001b[1mTRAINING\u001b[0m \n",
       "\t\t\t\t\t NODE_ID: NODE_ab268c68-f166-45b7-a73a-8cb390df85fe \n",
       "\t\t\t\t\t Round 1 Epoch: 23 | Iteration: 1/7 (14%) | Samples: 128/896\n",
       " \t\t\t\t\t Loss hinge: \u001b[1m701.151855\u001b[0m \n",
       "\t\t\t\t\t ---------"
      ]
     },
     "metadata": {},
     "output_type": "display_data"
    },
    {
     "data": {
      "text/plain": [
       "2025-04-14 18:32:25,283 fedbiomed INFO - \u001b[1mTRAINING\u001b[0m \n",
       "\t\t\t\t\t NODE_ID: NODE_ab268c68-f166-45b7-a73a-8cb390df85fe \n",
       "\t\t\t\t\t Round 1 Epoch: 23 | Iteration: 6/7 (86%) | Samples: 768/896\n",
       " \t\t\t\t\t Loss hinge: \u001b[1m318.399323\u001b[0m \n",
       "\t\t\t\t\t ---------"
      ]
     },
     "metadata": {},
     "output_type": "display_data"
    },
    {
     "data": {
      "text/plain": [
       "2025-04-14 18:32:25,289 fedbiomed INFO - \u001b[1mTRAINING\u001b[0m \n",
       "\t\t\t\t\t NODE_ID: NODE_ab268c68-f166-45b7-a73a-8cb390df85fe \n",
       "\t\t\t\t\t Round 1 Epoch: 23 | Iteration: 7/7 (100%) | Samples: 780/780\n",
       " \t\t\t\t\t Loss hinge: \u001b[1m230.886780\u001b[0m \n",
       "\t\t\t\t\t ---------"
      ]
     },
     "metadata": {},
     "output_type": "display_data"
    },
    {
     "data": {
      "text/plain": [
       "2025-04-14 18:32:25,400 fedbiomed INFO - \u001b[1mTRAINING\u001b[0m \n",
       "\t\t\t\t\t NODE_ID: NODE_ab268c68-f166-45b7-a73a-8cb390df85fe \n",
       "\t\t\t\t\t Round 1 Epoch: 24 | Iteration: 1/7 (14%) | Samples: 128/896\n",
       " \t\t\t\t\t Loss hinge: \u001b[1m328.905762\u001b[0m \n",
       "\t\t\t\t\t ---------"
      ]
     },
     "metadata": {},
     "output_type": "display_data"
    },
    {
     "data": {
      "text/plain": [
       "2025-04-14 18:32:25,624 fedbiomed INFO - \u001b[1mTRAINING\u001b[0m \n",
       "\t\t\t\t\t NODE_ID: NODE_ab268c68-f166-45b7-a73a-8cb390df85fe \n",
       "\t\t\t\t\t Round 1 Epoch: 24 | Iteration: 7/7 (100%) | Samples: 780/780\n",
       " \t\t\t\t\t Loss hinge: \u001b[1m143.418076\u001b[0m \n",
       "\t\t\t\t\t ---------"
      ]
     },
     "metadata": {},
     "output_type": "display_data"
    },
    {
     "data": {
      "text/plain": [
       "2025-04-14 18:32:25,677 fedbiomed INFO - \u001b[1mTRAINING\u001b[0m \n",
       "\t\t\t\t\t NODE_ID: NODE_ab268c68-f166-45b7-a73a-8cb390df85fe \n",
       "\t\t\t\t\t Round 1 Epoch: 25 | Iteration: 1/7 (14%) | Samples: 128/896\n",
       " \t\t\t\t\t Loss hinge: \u001b[1m248.593353\u001b[0m \n",
       "\t\t\t\t\t ---------"
      ]
     },
     "metadata": {},
     "output_type": "display_data"
    },
    {
     "data": {
      "text/plain": [
       "2025-04-14 18:32:25,726 fedbiomed INFO - \u001b[1mTRAINING\u001b[0m \n",
       "\t\t\t\t\t NODE_ID: NODE_ab268c68-f166-45b7-a73a-8cb390df85fe \n",
       "\t\t\t\t\t Round 1 Epoch: 25 | Iteration: 2/7 (29%) | Samples: 256/896\n",
       " \t\t\t\t\t Loss hinge: \u001b[1m519.742493\u001b[0m \n",
       "\t\t\t\t\t ---------"
      ]
     },
     "metadata": {},
     "output_type": "display_data"
    },
    {
     "data": {
      "text/plain": [
       "2025-04-14 18:32:25,940 fedbiomed INFO - \u001b[1mTRAINING\u001b[0m \n",
       "\t\t\t\t\t NODE_ID: NODE_ab268c68-f166-45b7-a73a-8cb390df85fe \n",
       "\t\t\t\t\t Round 1 Epoch: 25 | Iteration: 7/7 (100%) | Samples: 780/780\n",
       " \t\t\t\t\t Loss hinge: \u001b[1m494.204498\u001b[0m \n",
       "\t\t\t\t\t ---------"
      ]
     },
     "metadata": {},
     "output_type": "display_data"
    },
    {
     "data": {
      "text/plain": [
       "2025-04-14 18:32:25,999 fedbiomed INFO - \u001b[1mTRAINING\u001b[0m \n",
       "\t\t\t\t\t NODE_ID: NODE_ab268c68-f166-45b7-a73a-8cb390df85fe \n",
       "\t\t\t\t\t Round 1 Epoch: 26 | Iteration: 1/7 (14%) | Samples: 128/896\n",
       " \t\t\t\t\t Loss hinge: \u001b[1m284.202393\u001b[0m \n",
       "\t\t\t\t\t ---------"
      ]
     },
     "metadata": {},
     "output_type": "display_data"
    },
    {
     "data": {
      "text/plain": [
       "2025-04-14 18:32:26,218 fedbiomed INFO - \u001b[1mTRAINING\u001b[0m \n",
       "\t\t\t\t\t NODE_ID: NODE_ab268c68-f166-45b7-a73a-8cb390df85fe \n",
       "\t\t\t\t\t Round 1 Epoch: 26 | Iteration: 5/7 (71%) | Samples: 640/896\n",
       " \t\t\t\t\t Loss hinge: \u001b[1m426.060028\u001b[0m \n",
       "\t\t\t\t\t ---------"
      ]
     },
     "metadata": {},
     "output_type": "display_data"
    },
    {
     "data": {
      "text/plain": [
       "2025-04-14 18:32:26,267 fedbiomed INFO - \u001b[1mTRAINING\u001b[0m \n",
       "\t\t\t\t\t NODE_ID: NODE_ab268c68-f166-45b7-a73a-8cb390df85fe \n",
       "\t\t\t\t\t Round 1 Epoch: 26 | Iteration: 7/7 (100%) | Samples: 780/780\n",
       " \t\t\t\t\t Loss hinge: \u001b[1m341.065430\u001b[0m \n",
       "\t\t\t\t\t ---------"
      ]
     },
     "metadata": {},
     "output_type": "display_data"
    },
    {
     "data": {
      "text/plain": [
       "2025-04-14 18:32:26,324 fedbiomed INFO - \u001b[1mTRAINING\u001b[0m \n",
       "\t\t\t\t\t NODE_ID: NODE_ab268c68-f166-45b7-a73a-8cb390df85fe \n",
       "\t\t\t\t\t Round 1 Epoch: 27 | Iteration: 1/7 (14%) | Samples: 128/896\n",
       " \t\t\t\t\t Loss hinge: \u001b[1m50.490993\u001b[0m \n",
       "\t\t\t\t\t ---------"
      ]
     },
     "metadata": {},
     "output_type": "display_data"
    },
    {
     "data": {
      "text/plain": [
       "2025-04-14 18:32:26,587 fedbiomed INFO - \u001b[1mTRAINING\u001b[0m \n",
       "\t\t\t\t\t NODE_ID: NODE_ab268c68-f166-45b7-a73a-8cb390df85fe \n",
       "\t\t\t\t\t Round 1 Epoch: 27 | Iteration: 7/7 (100%) | Samples: 780/780\n",
       " \t\t\t\t\t Loss hinge: \u001b[1m228.670486\u001b[0m \n",
       "\t\t\t\t\t ---------"
      ]
     },
     "metadata": {},
     "output_type": "display_data"
    },
    {
     "data": {
      "text/plain": [
       "2025-04-14 18:32:26,698 fedbiomed INFO - \u001b[1mTRAINING\u001b[0m \n",
       "\t\t\t\t\t NODE_ID: NODE_ab268c68-f166-45b7-a73a-8cb390df85fe \n",
       "\t\t\t\t\t Round 1 Epoch: 28 | Iteration: 1/7 (14%) | Samples: 128/896\n",
       " \t\t\t\t\t Loss hinge: \u001b[1m771.631958\u001b[0m \n",
       "\t\t\t\t\t ---------"
      ]
     },
     "metadata": {},
     "output_type": "display_data"
    },
    {
     "data": {
      "text/plain": [
       "2025-04-14 18:32:26,970 fedbiomed INFO - \u001b[1mTRAINING\u001b[0m \n",
       "\t\t\t\t\t NODE_ID: NODE_ab268c68-f166-45b7-a73a-8cb390df85fe \n",
       "\t\t\t\t\t Round 1 Epoch: 28 | Iteration: 7/7 (100%) | Samples: 780/780\n",
       " \t\t\t\t\t Loss hinge: \u001b[1m167.193268\u001b[0m \n",
       "\t\t\t\t\t ---------"
      ]
     },
     "metadata": {},
     "output_type": "display_data"
    },
    {
     "data": {
      "text/plain": [
       "2025-04-14 18:32:27,026 fedbiomed INFO - \u001b[1mTRAINING\u001b[0m \n",
       "\t\t\t\t\t NODE_ID: NODE_ab268c68-f166-45b7-a73a-8cb390df85fe \n",
       "\t\t\t\t\t Round 1 Epoch: 29 | Iteration: 1/7 (14%) | Samples: 128/896\n",
       " \t\t\t\t\t Loss hinge: \u001b[1m483.758942\u001b[0m \n",
       "\t\t\t\t\t ---------"
      ]
     },
     "metadata": {},
     "output_type": "display_data"
    },
    {
     "data": {
      "text/plain": [
       "2025-04-14 18:32:27,188 fedbiomed INFO - \u001b[1mTRAINING\u001b[0m \n",
       "\t\t\t\t\t NODE_ID: NODE_ab268c68-f166-45b7-a73a-8cb390df85fe \n",
       "\t\t\t\t\t Round 1 Epoch: 29 | Iteration: 4/7 (57%) | Samples: 512/896\n",
       " \t\t\t\t\t Loss hinge: \u001b[1m273.725342\u001b[0m \n",
       "\t\t\t\t\t ---------"
      ]
     },
     "metadata": {},
     "output_type": "display_data"
    },
    {
     "data": {
      "text/plain": [
       "2025-04-14 18:32:27,254 fedbiomed INFO - \u001b[1mTRAINING\u001b[0m \n",
       "\t\t\t\t\t NODE_ID: NODE_ab268c68-f166-45b7-a73a-8cb390df85fe \n",
       "\t\t\t\t\t Round 1 Epoch: 29 | Iteration: 7/7 (100%) | Samples: 780/780\n",
       " \t\t\t\t\t Loss hinge: \u001b[1m231.362030\u001b[0m \n",
       "\t\t\t\t\t ---------"
      ]
     },
     "metadata": {},
     "output_type": "display_data"
    },
    {
     "data": {
      "text/plain": [
       "2025-04-14 18:32:27,365 fedbiomed INFO - \u001b[1mTRAINING\u001b[0m \n",
       "\t\t\t\t\t NODE_ID: NODE_ab268c68-f166-45b7-a73a-8cb390df85fe \n",
       "\t\t\t\t\t Round 1 Epoch: 30 | Iteration: 1/7 (14%) | Samples: 128/896\n",
       " \t\t\t\t\t Loss hinge: \u001b[1m552.654846\u001b[0m \n",
       "\t\t\t\t\t ---------"
      ]
     },
     "metadata": {},
     "output_type": "display_data"
    },
    {
     "data": {
      "text/plain": [
       "2025-04-14 18:32:27,579 fedbiomed INFO - \u001b[1mTRAINING\u001b[0m \n",
       "\t\t\t\t\t NODE_ID: NODE_ab268c68-f166-45b7-a73a-8cb390df85fe \n",
       "\t\t\t\t\t Round 1 Epoch: 30 | Iteration: 7/7 (100%) | Samples: 780/780\n",
       " \t\t\t\t\t Loss hinge: \u001b[1m192.094437\u001b[0m \n",
       "\t\t\t\t\t ---------"
      ]
     },
     "metadata": {},
     "output_type": "display_data"
    },
    {
     "data": {
      "text/plain": [
       "2025-04-14 18:32:27,690 fedbiomed INFO - \u001b[1mTRAINING\u001b[0m \n",
       "\t\t\t\t\t NODE_ID: NODE_ab268c68-f166-45b7-a73a-8cb390df85fe \n",
       "\t\t\t\t\t Round 1 Epoch: 31 | Iteration: 1/7 (14%) | Samples: 128/896\n",
       " \t\t\t\t\t Loss hinge: \u001b[1m107.188934\u001b[0m \n",
       "\t\t\t\t\t ---------"
      ]
     },
     "metadata": {},
     "output_type": "display_data"
    },
    {
     "data": {
      "text/plain": [
       "2025-04-14 18:32:27,912 fedbiomed INFO - \u001b[1mTRAINING\u001b[0m \n",
       "\t\t\t\t\t NODE_ID: NODE_ab268c68-f166-45b7-a73a-8cb390df85fe \n",
       "\t\t\t\t\t Round 1 Epoch: 31 | Iteration: 7/7 (100%) | Samples: 780/780\n",
       " \t\t\t\t\t Loss hinge: \u001b[1m364.702820\u001b[0m \n",
       "\t\t\t\t\t ---------"
      ]
     },
     "metadata": {},
     "output_type": "display_data"
    },
    {
     "data": {
      "text/plain": [
       "2025-04-14 18:32:27,967 fedbiomed INFO - \u001b[1mTRAINING\u001b[0m \n",
       "\t\t\t\t\t NODE_ID: NODE_ab268c68-f166-45b7-a73a-8cb390df85fe \n",
       "\t\t\t\t\t Round 1 Epoch: 32 | Iteration: 1/7 (14%) | Samples: 128/896\n",
       " \t\t\t\t\t Loss hinge: \u001b[1m253.208359\u001b[0m \n",
       "\t\t\t\t\t ---------"
      ]
     },
     "metadata": {},
     "output_type": "display_data"
    },
    {
     "data": {
      "text/plain": [
       "2025-04-14 18:32:28,132 fedbiomed INFO - \u001b[1mTRAINING\u001b[0m \n",
       "\t\t\t\t\t NODE_ID: NODE_ab268c68-f166-45b7-a73a-8cb390df85fe \n",
       "\t\t\t\t\t Round 1 Epoch: 32 | Iteration: 3/7 (43%) | Samples: 384/896\n",
       " \t\t\t\t\t Loss hinge: \u001b[1m133.074051\u001b[0m \n",
       "\t\t\t\t\t ---------"
      ]
     },
     "metadata": {},
     "output_type": "display_data"
    },
    {
     "data": {
      "text/plain": [
       "2025-04-14 18:32:28,248 fedbiomed INFO - \u001b[1mTRAINING\u001b[0m \n",
       "\t\t\t\t\t NODE_ID: NODE_ab268c68-f166-45b7-a73a-8cb390df85fe \n",
       "\t\t\t\t\t Round 1 Epoch: 32 | Iteration: 7/7 (100%) | Samples: 780/780\n",
       " \t\t\t\t\t Loss hinge: \u001b[1m78.647720\u001b[0m \n",
       "\t\t\t\t\t ---------"
      ]
     },
     "metadata": {},
     "output_type": "display_data"
    },
    {
     "data": {
      "text/plain": [
       "2025-04-14 18:32:28,346 fedbiomed INFO - \u001b[1mTRAINING\u001b[0m \n",
       "\t\t\t\t\t NODE_ID: NODE_ab268c68-f166-45b7-a73a-8cb390df85fe \n",
       "\t\t\t\t\t Round 1 Epoch: 33 | Iteration: 1/7 (14%) | Samples: 128/896\n",
       " \t\t\t\t\t Loss hinge: \u001b[1m345.814819\u001b[0m \n",
       "\t\t\t\t\t ---------"
      ]
     },
     "metadata": {},
     "output_type": "display_data"
    },
    {
     "data": {
      "text/plain": [
       "2025-04-14 18:32:28,555 fedbiomed INFO - \u001b[1mTRAINING\u001b[0m \n",
       "\t\t\t\t\t NODE_ID: NODE_ab268c68-f166-45b7-a73a-8cb390df85fe \n",
       "\t\t\t\t\t Round 1 Epoch: 33 | Iteration: 6/7 (86%) | Samples: 768/896\n",
       " \t\t\t\t\t Loss hinge: \u001b[1m122.143799\u001b[0m \n",
       "\t\t\t\t\t ---------"
      ]
     },
     "metadata": {},
     "output_type": "display_data"
    },
    {
     "data": {
      "text/plain": [
       "2025-04-14 18:32:28,614 fedbiomed INFO - \u001b[1mTRAINING\u001b[0m \n",
       "\t\t\t\t\t NODE_ID: NODE_ab268c68-f166-45b7-a73a-8cb390df85fe \n",
       "\t\t\t\t\t Round 1 Epoch: 33 | Iteration: 7/7 (100%) | Samples: 780/780\n",
       " \t\t\t\t\t Loss hinge: \u001b[1m325.363007\u001b[0m \n",
       "\t\t\t\t\t ---------"
      ]
     },
     "metadata": {},
     "output_type": "display_data"
    },
    {
     "data": {
      "text/plain": [
       "2025-04-14 18:32:28,725 fedbiomed INFO - \u001b[1mTRAINING\u001b[0m \n",
       "\t\t\t\t\t NODE_ID: NODE_ab268c68-f166-45b7-a73a-8cb390df85fe \n",
       "\t\t\t\t\t Round 1 Epoch: 34 | Iteration: 1/7 (14%) | Samples: 128/896\n",
       " \t\t\t\t\t Loss hinge: \u001b[1m61.322639\u001b[0m \n",
       "\t\t\t\t\t ---------"
      ]
     },
     "metadata": {},
     "output_type": "display_data"
    },
    {
     "data": {
      "text/plain": [
       "2025-04-14 18:32:28,891 fedbiomed INFO - \u001b[1mTRAINING\u001b[0m \n",
       "\t\t\t\t\t NODE_ID: NODE_ab268c68-f166-45b7-a73a-8cb390df85fe \n",
       "\t\t\t\t\t Round 1 Epoch: 34 | Iteration: 7/7 (100%) | Samples: 780/780\n",
       " \t\t\t\t\t Loss hinge: \u001b[1m89.320152\u001b[0m \n",
       "\t\t\t\t\t ---------"
      ]
     },
     "metadata": {},
     "output_type": "display_data"
    },
    {
     "data": {
      "text/plain": [
       "2025-04-14 18:32:28,947 fedbiomed INFO - \u001b[1mTRAINING\u001b[0m \n",
       "\t\t\t\t\t NODE_ID: NODE_ab268c68-f166-45b7-a73a-8cb390df85fe \n",
       "\t\t\t\t\t Round 1 Epoch: 35 | Iteration: 1/7 (14%) | Samples: 128/896\n",
       " \t\t\t\t\t Loss hinge: \u001b[1m195.751373\u001b[0m \n",
       "\t\t\t\t\t ---------"
      ]
     },
     "metadata": {},
     "output_type": "display_data"
    },
    {
     "data": {
      "text/plain": [
       "2025-04-14 18:32:29,003 fedbiomed INFO - \u001b[1mTRAINING\u001b[0m \n",
       "\t\t\t\t\t NODE_ID: NODE_ab268c68-f166-45b7-a73a-8cb390df85fe \n",
       "\t\t\t\t\t Round 1 Epoch: 35 | Iteration: 2/7 (29%) | Samples: 256/896\n",
       " \t\t\t\t\t Loss hinge: \u001b[1m245.594528\u001b[0m \n",
       "\t\t\t\t\t ---------"
      ]
     },
     "metadata": {},
     "output_type": "display_data"
    },
    {
     "data": {
      "text/plain": [
       "2025-04-14 18:32:29,227 fedbiomed INFO - \u001b[1mTRAINING\u001b[0m \n",
       "\t\t\t\t\t NODE_ID: NODE_ab268c68-f166-45b7-a73a-8cb390df85fe \n",
       "\t\t\t\t\t Round 1 Epoch: 35 | Iteration: 7/7 (100%) | Samples: 780/780\n",
       " \t\t\t\t\t Loss hinge: \u001b[1m322.452576\u001b[0m \n",
       "\t\t\t\t\t ---------"
      ]
     },
     "metadata": {},
     "output_type": "display_data"
    },
    {
     "data": {
      "text/plain": [
       "2025-04-14 18:32:29,283 fedbiomed INFO - \u001b[1mTRAINING\u001b[0m \n",
       "\t\t\t\t\t NODE_ID: NODE_ab268c68-f166-45b7-a73a-8cb390df85fe \n",
       "\t\t\t\t\t Round 1 Epoch: 36 | Iteration: 1/7 (14%) | Samples: 128/896\n",
       " \t\t\t\t\t Loss hinge: \u001b[1m316.580719\u001b[0m \n",
       "\t\t\t\t\t ---------"
      ]
     },
     "metadata": {},
     "output_type": "display_data"
    },
    {
     "data": {
      "text/plain": [
       "2025-04-14 18:32:29,495 fedbiomed INFO - \u001b[1mTRAINING\u001b[0m \n",
       "\t\t\t\t\t NODE_ID: NODE_ab268c68-f166-45b7-a73a-8cb390df85fe \n",
       "\t\t\t\t\t Round 1 Epoch: 36 | Iteration: 5/7 (71%) | Samples: 640/896\n",
       " \t\t\t\t\t Loss hinge: \u001b[1m111.032997\u001b[0m \n",
       "\t\t\t\t\t ---------"
      ]
     },
     "metadata": {},
     "output_type": "display_data"
    },
    {
     "data": {
      "text/plain": [
       "2025-04-14 18:32:29,556 fedbiomed INFO - \u001b[1mTRAINING\u001b[0m \n",
       "\t\t\t\t\t NODE_ID: NODE_ab268c68-f166-45b7-a73a-8cb390df85fe \n",
       "\t\t\t\t\t Round 1 Epoch: 36 | Iteration: 7/7 (100%) | Samples: 780/780\n",
       " \t\t\t\t\t Loss hinge: \u001b[1m46.401981\u001b[0m \n",
       "\t\t\t\t\t ---------"
      ]
     },
     "metadata": {},
     "output_type": "display_data"
    },
    {
     "data": {
      "text/plain": [
       "2025-04-14 18:32:29,667 fedbiomed INFO - \u001b[1mTRAINING\u001b[0m \n",
       "\t\t\t\t\t NODE_ID: NODE_ab268c68-f166-45b7-a73a-8cb390df85fe \n",
       "\t\t\t\t\t Round 1 Epoch: 37 | Iteration: 1/7 (14%) | Samples: 128/896\n",
       " \t\t\t\t\t Loss hinge: \u001b[1m100.232849\u001b[0m \n",
       "\t\t\t\t\t ---------"
      ]
     },
     "metadata": {},
     "output_type": "display_data"
    },
    {
     "data": {
      "text/plain": [
       "2025-04-14 18:32:29,874 fedbiomed INFO - \u001b[1mTRAINING\u001b[0m \n",
       "\t\t\t\t\t NODE_ID: NODE_ab268c68-f166-45b7-a73a-8cb390df85fe \n",
       "\t\t\t\t\t Round 1 Epoch: 37 | Iteration: 7/7 (100%) | Samples: 780/780\n",
       " \t\t\t\t\t Loss hinge: \u001b[1m387.339508\u001b[0m \n",
       "\t\t\t\t\t ---------"
      ]
     },
     "metadata": {},
     "output_type": "display_data"
    },
    {
     "data": {
      "text/plain": [
       "2025-04-14 18:32:29,930 fedbiomed INFO - \u001b[1mTRAINING\u001b[0m \n",
       "\t\t\t\t\t NODE_ID: NODE_ab268c68-f166-45b7-a73a-8cb390df85fe \n",
       "\t\t\t\t\t Round 1 Epoch: 38 | Iteration: 1/7 (14%) | Samples: 128/896\n",
       " \t\t\t\t\t Loss hinge: \u001b[1m83.408752\u001b[0m \n",
       "\t\t\t\t\t ---------"
      ]
     },
     "metadata": {},
     "output_type": "display_data"
    },
    {
     "data": {
      "text/plain": [
       "2025-04-14 18:32:30,191 fedbiomed INFO - \u001b[1mTRAINING\u001b[0m \n",
       "\t\t\t\t\t NODE_ID: NODE_ab268c68-f166-45b7-a73a-8cb390df85fe \n",
       "\t\t\t\t\t Round 1 Epoch: 38 | Iteration: 7/7 (100%) | Samples: 780/780\n",
       " \t\t\t\t\t Loss hinge: \u001b[1m154.835815\u001b[0m \n",
       "\t\t\t\t\t ---------"
      ]
     },
     "metadata": {},
     "output_type": "display_data"
    },
    {
     "data": {
      "text/plain": [
       "2025-04-14 18:32:30,303 fedbiomed INFO - \u001b[1mTRAINING\u001b[0m \n",
       "\t\t\t\t\t NODE_ID: NODE_ab268c68-f166-45b7-a73a-8cb390df85fe \n",
       "\t\t\t\t\t Round 1 Epoch: 39 | Iteration: 1/7 (14%) | Samples: 128/896\n",
       " \t\t\t\t\t Loss hinge: \u001b[1m313.836823\u001b[0m \n",
       "\t\t\t\t\t ---------"
      ]
     },
     "metadata": {},
     "output_type": "display_data"
    },
    {
     "data": {
      "text/plain": [
       "2025-04-14 18:32:30,414 fedbiomed INFO - \u001b[1mTRAINING\u001b[0m \n",
       "\t\t\t\t\t NODE_ID: NODE_ab268c68-f166-45b7-a73a-8cb390df85fe \n",
       "\t\t\t\t\t Round 1 Epoch: 39 | Iteration: 4/7 (57%) | Samples: 512/896\n",
       " \t\t\t\t\t Loss hinge: \u001b[1m279.686554\u001b[0m \n",
       "\t\t\t\t\t ---------"
      ]
     },
     "metadata": {},
     "output_type": "display_data"
    },
    {
     "data": {
      "text/plain": [
       "2025-04-14 18:32:30,530 fedbiomed INFO - \u001b[1mTRAINING\u001b[0m \n",
       "\t\t\t\t\t NODE_ID: NODE_ab268c68-f166-45b7-a73a-8cb390df85fe \n",
       "\t\t\t\t\t Round 1 Epoch: 39 | Iteration: 7/7 (100%) | Samples: 780/780\n",
       " \t\t\t\t\t Loss hinge: \u001b[1m39.749866\u001b[0m \n",
       "\t\t\t\t\t ---------"
      ]
     },
     "metadata": {},
     "output_type": "display_data"
    },
    {
     "data": {
      "text/plain": [
       "2025-04-14 18:32:30,585 fedbiomed INFO - \u001b[1mTRAINING\u001b[0m \n",
       "\t\t\t\t\t NODE_ID: NODE_ab268c68-f166-45b7-a73a-8cb390df85fe \n",
       "\t\t\t\t\t Round 1 Epoch: 40 | Iteration: 1/7 (14%) | Samples: 128/896\n",
       " \t\t\t\t\t Loss hinge: \u001b[1m133.865280\u001b[0m \n",
       "\t\t\t\t\t ---------"
      ]
     },
     "metadata": {},
     "output_type": "display_data"
    },
    {
     "data": {
      "text/plain": [
       "2025-04-14 18:32:30,856 fedbiomed INFO - \u001b[1mTRAINING\u001b[0m \n",
       "\t\t\t\t\t NODE_ID: NODE_ab268c68-f166-45b7-a73a-8cb390df85fe \n",
       "\t\t\t\t\t Round 1 Epoch: 40 | Iteration: 7/7 (100%) | Samples: 780/780\n",
       " \t\t\t\t\t Loss hinge: \u001b[1m116.564621\u001b[0m \n",
       "\t\t\t\t\t ---------"
      ]
     },
     "metadata": {},
     "output_type": "display_data"
    },
    {
     "data": {
      "text/plain": [
       "2025-04-14 18:32:30,967 fedbiomed INFO - \u001b[1mTRAINING\u001b[0m \n",
       "\t\t\t\t\t NODE_ID: NODE_ab268c68-f166-45b7-a73a-8cb390df85fe \n",
       "\t\t\t\t\t Round 1 Epoch: 41 | Iteration: 1/7 (14%) | Samples: 128/896\n",
       " \t\t\t\t\t Loss hinge: \u001b[1m507.204742\u001b[0m \n",
       "\t\t\t\t\t ---------"
      ]
     },
     "metadata": {},
     "output_type": "display_data"
    },
    {
     "data": {
      "text/plain": [
       "2025-04-14 18:32:31,180 fedbiomed INFO - \u001b[1mTRAINING\u001b[0m \n",
       "\t\t\t\t\t NODE_ID: NODE_ab268c68-f166-45b7-a73a-8cb390df85fe \n",
       "\t\t\t\t\t Round 1 Epoch: 41 | Iteration: 7/7 (100%) | Samples: 780/780\n",
       " \t\t\t\t\t Loss hinge: \u001b[1m258.262085\u001b[0m \n",
       "\t\t\t\t\t ---------"
      ]
     },
     "metadata": {},
     "output_type": "display_data"
    },
    {
     "data": {
      "text/plain": [
       "2025-04-14 18:32:31,236 fedbiomed INFO - \u001b[1mTRAINING\u001b[0m \n",
       "\t\t\t\t\t NODE_ID: NODE_ab268c68-f166-45b7-a73a-8cb390df85fe \n",
       "\t\t\t\t\t Round 1 Epoch: 42 | Iteration: 1/7 (14%) | Samples: 128/896\n",
       " \t\t\t\t\t Loss hinge: \u001b[1m54.567204\u001b[0m \n",
       "\t\t\t\t\t ---------"
      ]
     },
     "metadata": {},
     "output_type": "display_data"
    },
    {
     "data": {
      "text/plain": [
       "2025-04-14 18:32:31,348 fedbiomed INFO - \u001b[1mTRAINING\u001b[0m \n",
       "\t\t\t\t\t NODE_ID: NODE_ab268c68-f166-45b7-a73a-8cb390df85fe \n",
       "\t\t\t\t\t Round 1 Epoch: 42 | Iteration: 3/7 (43%) | Samples: 384/896\n",
       " \t\t\t\t\t Loss hinge: \u001b[1m201.166214\u001b[0m \n",
       "\t\t\t\t\t ---------"
      ]
     },
     "metadata": {},
     "output_type": "display_data"
    },
    {
     "data": {
      "text/plain": [
       "2025-04-14 18:32:31,514 fedbiomed INFO - \u001b[1mTRAINING\u001b[0m \n",
       "\t\t\t\t\t NODE_ID: NODE_ab268c68-f166-45b7-a73a-8cb390df85fe \n",
       "\t\t\t\t\t Round 1 Epoch: 42 | Iteration: 7/7 (100%) | Samples: 780/780\n",
       " \t\t\t\t\t Loss hinge: \u001b[1m123.944580\u001b[0m \n",
       "\t\t\t\t\t ---------"
      ]
     },
     "metadata": {},
     "output_type": "display_data"
    },
    {
     "data": {
      "text/plain": [
       "2025-04-14 18:32:31,569 fedbiomed INFO - \u001b[1mTRAINING\u001b[0m \n",
       "\t\t\t\t\t NODE_ID: NODE_ab268c68-f166-45b7-a73a-8cb390df85fe \n",
       "\t\t\t\t\t Round 1 Epoch: 43 | Iteration: 1/7 (14%) | Samples: 128/896\n",
       " \t\t\t\t\t Loss hinge: \u001b[1m115.271774\u001b[0m \n",
       "\t\t\t\t\t ---------"
      ]
     },
     "metadata": {},
     "output_type": "display_data"
    },
    {
     "data": {
      "text/plain": [
       "2025-04-14 18:32:31,826 fedbiomed INFO - \u001b[1mTRAINING\u001b[0m \n",
       "\t\t\t\t\t NODE_ID: NODE_ab268c68-f166-45b7-a73a-8cb390df85fe \n",
       "\t\t\t\t\t Round 1 Epoch: 43 | Iteration: 6/7 (86%) | Samples: 768/896\n",
       " \t\t\t\t\t Loss hinge: \u001b[1m77.987144\u001b[0m \n",
       "\t\t\t\t\t ---------"
      ]
     },
     "metadata": {},
     "output_type": "display_data"
    },
    {
     "data": {
      "text/plain": [
       "2025-04-14 18:32:31,887 fedbiomed INFO - \u001b[1mTRAINING\u001b[0m \n",
       "\t\t\t\t\t NODE_ID: NODE_ab268c68-f166-45b7-a73a-8cb390df85fe \n",
       "\t\t\t\t\t Round 1 Epoch: 43 | Iteration: 7/7 (100%) | Samples: 780/780\n",
       " \t\t\t\t\t Loss hinge: \u001b[1m49.238022\u001b[0m \n",
       "\t\t\t\t\t ---------"
      ]
     },
     "metadata": {},
     "output_type": "display_data"
    },
    {
     "data": {
      "text/plain": [
       "2025-04-14 18:32:32,053 fedbiomed INFO - \u001b[1mTRAINING\u001b[0m \n",
       "\t\t\t\t\t NODE_ID: NODE_ab268c68-f166-45b7-a73a-8cb390df85fe \n",
       "\t\t\t\t\t Round 1 Epoch: 44 | Iteration: 1/7 (14%) | Samples: 128/896\n",
       " \t\t\t\t\t Loss hinge: \u001b[1m44.990288\u001b[0m \n",
       "\t\t\t\t\t ---------"
      ]
     },
     "metadata": {},
     "output_type": "display_data"
    },
    {
     "data": {
      "text/plain": [
       "2025-04-14 18:32:32,169 fedbiomed INFO - \u001b[1mTRAINING\u001b[0m \n",
       "\t\t\t\t\t NODE_ID: NODE_ab268c68-f166-45b7-a73a-8cb390df85fe \n",
       "\t\t\t\t\t Round 1 Epoch: 44 | Iteration: 7/7 (100%) | Samples: 780/780\n",
       " \t\t\t\t\t Loss hinge: \u001b[1m224.444153\u001b[0m \n",
       "\t\t\t\t\t ---------"
      ]
     },
     "metadata": {},
     "output_type": "display_data"
    },
    {
     "data": {
      "text/plain": [
       "2025-04-14 18:32:32,226 fedbiomed INFO - \u001b[1mTRAINING\u001b[0m \n",
       "\t\t\t\t\t NODE_ID: NODE_ab268c68-f166-45b7-a73a-8cb390df85fe \n",
       "\t\t\t\t\t Round 1 Epoch: 45 | Iteration: 1/7 (14%) | Samples: 128/896\n",
       " \t\t\t\t\t Loss hinge: \u001b[1m232.832214\u001b[0m \n",
       "\t\t\t\t\t ---------"
      ]
     },
     "metadata": {},
     "output_type": "display_data"
    },
    {
     "data": {
      "text/plain": [
       "2025-04-14 18:32:32,284 fedbiomed INFO - \u001b[1mTRAINING\u001b[0m \n",
       "\t\t\t\t\t NODE_ID: NODE_ab268c68-f166-45b7-a73a-8cb390df85fe \n",
       "\t\t\t\t\t Round 1 Epoch: 45 | Iteration: 2/7 (29%) | Samples: 256/896\n",
       " \t\t\t\t\t Loss hinge: \u001b[1m176.610611\u001b[0m \n",
       "\t\t\t\t\t ---------"
      ]
     },
     "metadata": {},
     "output_type": "display_data"
    },
    {
     "data": {
      "text/plain": [
       "2025-04-14 18:32:32,501 fedbiomed INFO - \u001b[1mTRAINING\u001b[0m \n",
       "\t\t\t\t\t NODE_ID: NODE_ab268c68-f166-45b7-a73a-8cb390df85fe \n",
       "\t\t\t\t\t Round 1 Epoch: 45 | Iteration: 7/7 (100%) | Samples: 780/780\n",
       " \t\t\t\t\t Loss hinge: \u001b[1m153.988541\u001b[0m \n",
       "\t\t\t\t\t ---------"
      ]
     },
     "metadata": {},
     "output_type": "display_data"
    },
    {
     "data": {
      "text/plain": [
       "2025-04-14 18:32:32,557 fedbiomed INFO - \u001b[1mTRAINING\u001b[0m \n",
       "\t\t\t\t\t NODE_ID: NODE_ab268c68-f166-45b7-a73a-8cb390df85fe \n",
       "\t\t\t\t\t Round 1 Epoch: 46 | Iteration: 1/7 (14%) | Samples: 128/896\n",
       " \t\t\t\t\t Loss hinge: \u001b[1m302.973907\u001b[0m \n",
       "\t\t\t\t\t ---------"
      ]
     },
     "metadata": {},
     "output_type": "display_data"
    },
    {
     "data": {
      "text/plain": [
       "2025-04-14 18:32:32,827 fedbiomed INFO - \u001b[1mTRAINING\u001b[0m \n",
       "\t\t\t\t\t NODE_ID: NODE_ab268c68-f166-45b7-a73a-8cb390df85fe \n",
       "\t\t\t\t\t Round 1 Epoch: 46 | Iteration: 5/7 (71%) | Samples: 640/896\n",
       " \t\t\t\t\t Loss hinge: \u001b[1m184.134827\u001b[0m \n",
       "\t\t\t\t\t ---------"
      ]
     },
     "metadata": {},
     "output_type": "display_data"
    },
    {
     "data": {
      "text/plain": [
       "2025-04-14 18:32:32,883 fedbiomed INFO - \u001b[1mTRAINING\u001b[0m \n",
       "\t\t\t\t\t NODE_ID: NODE_ab268c68-f166-45b7-a73a-8cb390df85fe \n",
       "\t\t\t\t\t Round 1 Epoch: 46 | Iteration: 7/7 (100%) | Samples: 780/780\n",
       " \t\t\t\t\t Loss hinge: \u001b[1m212.073273\u001b[0m \n",
       "\t\t\t\t\t ---------"
      ]
     },
     "metadata": {},
     "output_type": "display_data"
    },
    {
     "data": {
      "text/plain": [
       "2025-04-14 18:32:33,049 fedbiomed INFO - \u001b[1mTRAINING\u001b[0m \n",
       "\t\t\t\t\t NODE_ID: NODE_ab268c68-f166-45b7-a73a-8cb390df85fe \n",
       "\t\t\t\t\t Round 1 Epoch: 47 | Iteration: 1/7 (14%) | Samples: 128/896\n",
       " \t\t\t\t\t Loss hinge: \u001b[1m243.269897\u001b[0m \n",
       "\t\t\t\t\t ---------"
      ]
     },
     "metadata": {},
     "output_type": "display_data"
    },
    {
     "data": {
      "text/plain": [
       "2025-04-14 18:32:33,165 fedbiomed INFO - \u001b[1mTRAINING\u001b[0m \n",
       "\t\t\t\t\t NODE_ID: NODE_ab268c68-f166-45b7-a73a-8cb390df85fe \n",
       "\t\t\t\t\t Round 1 Epoch: 47 | Iteration: 7/7 (100%) | Samples: 780/780\n",
       " \t\t\t\t\t Loss hinge: \u001b[1m108.031616\u001b[0m \n",
       "\t\t\t\t\t ---------"
      ]
     },
     "metadata": {},
     "output_type": "display_data"
    },
    {
     "data": {
      "text/plain": [
       "2025-04-14 18:32:33,221 fedbiomed INFO - \u001b[1mTRAINING\u001b[0m \n",
       "\t\t\t\t\t NODE_ID: NODE_ab268c68-f166-45b7-a73a-8cb390df85fe \n",
       "\t\t\t\t\t Round 1 Epoch: 48 | Iteration: 1/7 (14%) | Samples: 128/896\n",
       " \t\t\t\t\t Loss hinge: \u001b[1m258.946533\u001b[0m \n",
       "\t\t\t\t\t ---------"
      ]
     },
     "metadata": {},
     "output_type": "display_data"
    },
    {
     "data": {
      "text/plain": [
       "2025-04-14 18:32:33,473 fedbiomed INFO - \u001b[1mTRAINING\u001b[0m \n",
       "\t\t\t\t\t NODE_ID: NODE_ab268c68-f166-45b7-a73a-8cb390df85fe \n",
       "\t\t\t\t\t Round 1 Epoch: 48 | Iteration: 7/7 (100%) | Samples: 780/780\n",
       " \t\t\t\t\t Loss hinge: \u001b[1m201.873947\u001b[0m \n",
       "\t\t\t\t\t ---------"
      ]
     },
     "metadata": {},
     "output_type": "display_data"
    },
    {
     "data": {
      "text/plain": [
       "2025-04-14 18:32:33,525 fedbiomed INFO - \u001b[1mTRAINING\u001b[0m \n",
       "\t\t\t\t\t NODE_ID: NODE_ab268c68-f166-45b7-a73a-8cb390df85fe \n",
       "\t\t\t\t\t Round 1 Epoch: 49 | Iteration: 1/7 (14%) | Samples: 128/896\n",
       " \t\t\t\t\t Loss hinge: \u001b[1m81.402672\u001b[0m \n",
       "\t\t\t\t\t ---------"
      ]
     },
     "metadata": {},
     "output_type": "display_data"
    },
    {
     "data": {
      "text/plain": [
       "2025-04-14 18:32:33,673 fedbiomed INFO - \u001b[1mTRAINING\u001b[0m \n",
       "\t\t\t\t\t NODE_ID: NODE_ab268c68-f166-45b7-a73a-8cb390df85fe \n",
       "\t\t\t\t\t Round 1 Epoch: 49 | Iteration: 4/7 (57%) | Samples: 512/896\n",
       " \t\t\t\t\t Loss hinge: \u001b[1m161.823120\u001b[0m \n",
       "\t\t\t\t\t ---------"
      ]
     },
     "metadata": {},
     "output_type": "display_data"
    },
    {
     "data": {
      "text/plain": [
       "2025-04-14 18:32:33,774 fedbiomed INFO - \u001b[1mTRAINING\u001b[0m \n",
       "\t\t\t\t\t NODE_ID: NODE_ab268c68-f166-45b7-a73a-8cb390df85fe \n",
       "\t\t\t\t\t Round 1 Epoch: 49 | Iteration: 7/7 (100%) | Samples: 780/780\n",
       " \t\t\t\t\t Loss hinge: \u001b[1m56.005772\u001b[0m \n",
       "\t\t\t\t\t ---------"
      ]
     },
     "metadata": {},
     "output_type": "display_data"
    },
    {
     "data": {
      "text/plain": [
       "2025-04-14 18:32:33,825 fedbiomed INFO - \u001b[1mTRAINING\u001b[0m \n",
       "\t\t\t\t\t NODE_ID: NODE_ab268c68-f166-45b7-a73a-8cb390df85fe \n",
       "\t\t\t\t\t Round 1 Epoch: 50 | Iteration: 1/7 (14%) | Samples: 128/896\n",
       " \t\t\t\t\t Loss hinge: \u001b[1m89.599586\u001b[0m \n",
       "\t\t\t\t\t ---------"
      ]
     },
     "metadata": {},
     "output_type": "display_data"
    },
    {
     "data": {
      "text/plain": [
       "2025-04-14 18:32:34,073 fedbiomed INFO - \u001b[1mTRAINING\u001b[0m \n",
       "\t\t\t\t\t NODE_ID: NODE_ab268c68-f166-45b7-a73a-8cb390df85fe \n",
       "\t\t\t\t\t Round 1 Epoch: 50 | Iteration: 7/7 (100%) | Samples: 780/780\n",
       " \t\t\t\t\t Loss hinge: \u001b[1m206.893341\u001b[0m \n",
       "\t\t\t\t\t ---------"
      ]
     },
     "metadata": {},
     "output_type": "display_data"
    },
    {
     "data": {
      "text/plain": [
       "2025-04-14 18:32:34,125 fedbiomed INFO - \u001b[1mTRAINING\u001b[0m \n",
       "\t\t\t\t\t NODE_ID: NODE_ab268c68-f166-45b7-a73a-8cb390df85fe \n",
       "\t\t\t\t\t Round 1 Epoch: 51 | Iteration: 1/7 (14%) | Samples: 128/896\n",
       " \t\t\t\t\t Loss hinge: \u001b[1m121.572411\u001b[0m \n",
       "\t\t\t\t\t ---------"
      ]
     },
     "metadata": {},
     "output_type": "display_data"
    },
    {
     "data": {
      "text/plain": [
       "2025-04-14 18:32:34,374 fedbiomed INFO - \u001b[1mTRAINING\u001b[0m \n",
       "\t\t\t\t\t NODE_ID: NODE_ab268c68-f166-45b7-a73a-8cb390df85fe \n",
       "\t\t\t\t\t Round 1 Epoch: 51 | Iteration: 7/7 (100%) | Samples: 780/780\n",
       " \t\t\t\t\t Loss hinge: \u001b[1m139.110962\u001b[0m \n",
       "\t\t\t\t\t ---------"
      ]
     },
     "metadata": {},
     "output_type": "display_data"
    },
    {
     "data": {
      "text/plain": [
       "2025-04-14 18:32:34,426 fedbiomed INFO - \u001b[1mTRAINING\u001b[0m \n",
       "\t\t\t\t\t NODE_ID: NODE_ab268c68-f166-45b7-a73a-8cb390df85fe \n",
       "\t\t\t\t\t Round 1 Epoch: 52 | Iteration: 1/7 (14%) | Samples: 128/896\n",
       " \t\t\t\t\t Loss hinge: \u001b[1m208.446335\u001b[0m \n",
       "\t\t\t\t\t ---------"
      ]
     },
     "metadata": {},
     "output_type": "display_data"
    },
    {
     "data": {
      "text/plain": [
       "2025-04-14 18:32:34,528 fedbiomed INFO - \u001b[1mTRAINING\u001b[0m \n",
       "\t\t\t\t\t NODE_ID: NODE_ab268c68-f166-45b7-a73a-8cb390df85fe \n",
       "\t\t\t\t\t Round 1 Epoch: 52 | Iteration: 3/7 (43%) | Samples: 384/896\n",
       " \t\t\t\t\t Loss hinge: \u001b[1m130.177948\u001b[0m \n",
       "\t\t\t\t\t ---------"
      ]
     },
     "metadata": {},
     "output_type": "display_data"
    },
    {
     "data": {
      "text/plain": [
       "2025-04-14 18:32:34,674 fedbiomed INFO - \u001b[1mTRAINING\u001b[0m \n",
       "\t\t\t\t\t NODE_ID: NODE_ab268c68-f166-45b7-a73a-8cb390df85fe \n",
       "\t\t\t\t\t Round 1 Epoch: 52 | Iteration: 7/7 (100%) | Samples: 780/780\n",
       " \t\t\t\t\t Loss hinge: \u001b[1m88.121368\u001b[0m \n",
       "\t\t\t\t\t ---------"
      ]
     },
     "metadata": {},
     "output_type": "display_data"
    },
    {
     "data": {
      "text/plain": [
       "2025-04-14 18:32:34,783 fedbiomed INFO - \u001b[1mTRAINING\u001b[0m \n",
       "\t\t\t\t\t NODE_ID: NODE_ab268c68-f166-45b7-a73a-8cb390df85fe \n",
       "\t\t\t\t\t Round 1 Epoch: 53 | Iteration: 1/7 (14%) | Samples: 128/896\n",
       " \t\t\t\t\t Loss hinge: \u001b[1m151.623993\u001b[0m \n",
       "\t\t\t\t\t ---------"
      ]
     },
     "metadata": {},
     "output_type": "display_data"
    },
    {
     "data": {
      "text/plain": [
       "2025-04-14 18:32:34,996 fedbiomed INFO - \u001b[1mTRAINING\u001b[0m \n",
       "\t\t\t\t\t NODE_ID: NODE_ab268c68-f166-45b7-a73a-8cb390df85fe \n",
       "\t\t\t\t\t Round 1 Epoch: 53 | Iteration: 6/7 (86%) | Samples: 768/896\n",
       " \t\t\t\t\t Loss hinge: \u001b[1m142.688431\u001b[0m \n",
       "\t\t\t\t\t ---------"
      ]
     },
     "metadata": {},
     "output_type": "display_data"
    },
    {
     "data": {
      "text/plain": [
       "2025-04-14 18:32:35,052 fedbiomed INFO - \u001b[1mTRAINING\u001b[0m \n",
       "\t\t\t\t\t NODE_ID: NODE_ab268c68-f166-45b7-a73a-8cb390df85fe \n",
       "\t\t\t\t\t Round 1 Epoch: 53 | Iteration: 7/7 (100%) | Samples: 780/780\n",
       " \t\t\t\t\t Loss hinge: \u001b[1m223.889252\u001b[0m \n",
       "\t\t\t\t\t ---------"
      ]
     },
     "metadata": {},
     "output_type": "display_data"
    },
    {
     "data": {
      "text/plain": [
       "2025-04-14 18:32:35,201 fedbiomed INFO - \u001b[1mTRAINING\u001b[0m \n",
       "\t\t\t\t\t NODE_ID: NODE_ab268c68-f166-45b7-a73a-8cb390df85fe \n",
       "\t\t\t\t\t Round 1 Epoch: 54 | Iteration: 1/7 (14%) | Samples: 128/896\n",
       " \t\t\t\t\t Loss hinge: \u001b[1m306.987640\u001b[0m \n",
       "\t\t\t\t\t ---------"
      ]
     },
     "metadata": {},
     "output_type": "display_data"
    },
    {
     "data": {
      "text/plain": [
       "2025-04-14 18:32:35,324 fedbiomed INFO - \u001b[1mTRAINING\u001b[0m \n",
       "\t\t\t\t\t NODE_ID: NODE_ab268c68-f166-45b7-a73a-8cb390df85fe \n",
       "\t\t\t\t\t Round 1 Epoch: 54 | Iteration: 7/7 (100%) | Samples: 780/780\n",
       " \t\t\t\t\t Loss hinge: \u001b[1m115.285461\u001b[0m \n",
       "\t\t\t\t\t ---------"
      ]
     },
     "metadata": {},
     "output_type": "display_data"
    },
    {
     "data": {
      "text/plain": [
       "2025-04-14 18:32:35,377 fedbiomed INFO - \u001b[1mTRAINING\u001b[0m \n",
       "\t\t\t\t\t NODE_ID: NODE_ab268c68-f166-45b7-a73a-8cb390df85fe \n",
       "\t\t\t\t\t Round 1 Epoch: 55 | Iteration: 1/7 (14%) | Samples: 128/896\n",
       " \t\t\t\t\t Loss hinge: \u001b[1m117.529915\u001b[0m \n",
       "\t\t\t\t\t ---------"
      ]
     },
     "metadata": {},
     "output_type": "display_data"
    },
    {
     "data": {
      "text/plain": [
       "2025-04-14 18:32:35,426 fedbiomed INFO - \u001b[1mTRAINING\u001b[0m \n",
       "\t\t\t\t\t NODE_ID: NODE_ab268c68-f166-45b7-a73a-8cb390df85fe \n",
       "\t\t\t\t\t Round 1 Epoch: 55 | Iteration: 2/7 (29%) | Samples: 256/896\n",
       " \t\t\t\t\t Loss hinge: \u001b[1m144.682480\u001b[0m \n",
       "\t\t\t\t\t ---------"
      ]
     },
     "metadata": {},
     "output_type": "display_data"
    },
    {
     "data": {
      "text/plain": [
       "2025-04-14 18:32:35,626 fedbiomed INFO - \u001b[1mTRAINING\u001b[0m \n",
       "\t\t\t\t\t NODE_ID: NODE_ab268c68-f166-45b7-a73a-8cb390df85fe \n",
       "\t\t\t\t\t Round 1 Epoch: 55 | Iteration: 7/7 (100%) | Samples: 780/780\n",
       " \t\t\t\t\t Loss hinge: \u001b[1m119.866447\u001b[0m \n",
       "\t\t\t\t\t ---------"
      ]
     },
     "metadata": {},
     "output_type": "display_data"
    },
    {
     "data": {
      "text/plain": [
       "2025-04-14 18:32:35,677 fedbiomed INFO - \u001b[1mTRAINING\u001b[0m \n",
       "\t\t\t\t\t NODE_ID: NODE_ab268c68-f166-45b7-a73a-8cb390df85fe \n",
       "\t\t\t\t\t Round 1 Epoch: 56 | Iteration: 1/7 (14%) | Samples: 128/896\n",
       " \t\t\t\t\t Loss hinge: \u001b[1m131.043808\u001b[0m \n",
       "\t\t\t\t\t ---------"
      ]
     },
     "metadata": {},
     "output_type": "display_data"
    },
    {
     "data": {
      "text/plain": [
       "2025-04-14 18:32:35,877 fedbiomed INFO - \u001b[1mTRAINING\u001b[0m \n",
       "\t\t\t\t\t NODE_ID: NODE_ab268c68-f166-45b7-a73a-8cb390df85fe \n",
       "\t\t\t\t\t Round 1 Epoch: 56 | Iteration: 5/7 (71%) | Samples: 640/896\n",
       " \t\t\t\t\t Loss hinge: \u001b[1m45.557755\u001b[0m \n",
       "\t\t\t\t\t ---------"
      ]
     },
     "metadata": {},
     "output_type": "display_data"
    },
    {
     "data": {
      "text/plain": [
       "2025-04-14 18:32:35,931 fedbiomed INFO - \u001b[1mTRAINING\u001b[0m \n",
       "\t\t\t\t\t NODE_ID: NODE_ab268c68-f166-45b7-a73a-8cb390df85fe \n",
       "\t\t\t\t\t Round 1 Epoch: 56 | Iteration: 7/7 (100%) | Samples: 780/780\n",
       " \t\t\t\t\t Loss hinge: \u001b[1m23.272715\u001b[0m \n",
       "\t\t\t\t\t ---------"
      ]
     },
     "metadata": {},
     "output_type": "display_data"
    },
    {
     "data": {
      "text/plain": [
       "2025-04-14 18:32:35,983 fedbiomed INFO - \u001b[1mTRAINING\u001b[0m \n",
       "\t\t\t\t\t NODE_ID: NODE_ab268c68-f166-45b7-a73a-8cb390df85fe \n",
       "\t\t\t\t\t Round 1 Epoch: 57 | Iteration: 1/7 (14%) | Samples: 128/896\n",
       " \t\t\t\t\t Loss hinge: \u001b[1m41.185558\u001b[0m \n",
       "\t\t\t\t\t ---------"
      ]
     },
     "metadata": {},
     "output_type": "display_data"
    },
    {
     "data": {
      "text/plain": [
       "2025-04-14 18:32:36,231 fedbiomed INFO - \u001b[1mTRAINING\u001b[0m \n",
       "\t\t\t\t\t NODE_ID: NODE_ab268c68-f166-45b7-a73a-8cb390df85fe \n",
       "\t\t\t\t\t Round 1 Epoch: 57 | Iteration: 7/7 (100%) | Samples: 780/780\n",
       " \t\t\t\t\t Loss hinge: \u001b[1m133.252228\u001b[0m \n",
       "\t\t\t\t\t ---------"
      ]
     },
     "metadata": {},
     "output_type": "display_data"
    },
    {
     "data": {
      "text/plain": [
       "2025-04-14 18:32:36,284 fedbiomed INFO - \u001b[1mTRAINING\u001b[0m \n",
       "\t\t\t\t\t NODE_ID: NODE_ab268c68-f166-45b7-a73a-8cb390df85fe \n",
       "\t\t\t\t\t Round 1 Epoch: 58 | Iteration: 1/7 (14%) | Samples: 128/896\n",
       " \t\t\t\t\t Loss hinge: \u001b[1m128.362747\u001b[0m \n",
       "\t\t\t\t\t ---------"
      ]
     },
     "metadata": {},
     "output_type": "display_data"
    },
    {
     "data": {
      "text/plain": [
       "2025-04-14 18:32:36,536 fedbiomed INFO - \u001b[1mTRAINING\u001b[0m \n",
       "\t\t\t\t\t NODE_ID: NODE_ab268c68-f166-45b7-a73a-8cb390df85fe \n",
       "\t\t\t\t\t Round 1 Epoch: 58 | Iteration: 7/7 (100%) | Samples: 780/780\n",
       " \t\t\t\t\t Loss hinge: \u001b[1m114.716606\u001b[0m \n",
       "\t\t\t\t\t ---------"
      ]
     },
     "metadata": {},
     "output_type": "display_data"
    },
    {
     "data": {
      "text/plain": [
       "2025-04-14 18:32:36,589 fedbiomed INFO - \u001b[1mTRAINING\u001b[0m \n",
       "\t\t\t\t\t NODE_ID: NODE_ab268c68-f166-45b7-a73a-8cb390df85fe \n",
       "\t\t\t\t\t Round 1 Epoch: 59 | Iteration: 1/7 (14%) | Samples: 128/896\n",
       " \t\t\t\t\t Loss hinge: \u001b[1m340.477539\u001b[0m \n",
       "\t\t\t\t\t ---------"
      ]
     },
     "metadata": {},
     "output_type": "display_data"
    },
    {
     "data": {
      "text/plain": [
       "2025-04-14 18:32:36,787 fedbiomed INFO - \u001b[1mTRAINING\u001b[0m \n",
       "\t\t\t\t\t NODE_ID: NODE_ab268c68-f166-45b7-a73a-8cb390df85fe \n",
       "\t\t\t\t\t Round 1 Epoch: 59 | Iteration: 4/7 (57%) | Samples: 512/896\n",
       " \t\t\t\t\t Loss hinge: \u001b[1m78.381531\u001b[0m \n",
       "\t\t\t\t\t ---------"
      ]
     },
     "metadata": {},
     "output_type": "display_data"
    },
    {
     "data": {
      "text/plain": [
       "2025-04-14 18:32:36,844 fedbiomed INFO - \u001b[1mTRAINING\u001b[0m \n",
       "\t\t\t\t\t NODE_ID: NODE_ab268c68-f166-45b7-a73a-8cb390df85fe \n",
       "\t\t\t\t\t Round 1 Epoch: 59 | Iteration: 7/7 (100%) | Samples: 780/780\n",
       " \t\t\t\t\t Loss hinge: \u001b[1m160.886765\u001b[0m \n",
       "\t\t\t\t\t ---------"
      ]
     },
     "metadata": {},
     "output_type": "display_data"
    },
    {
     "data": {
      "text/plain": [
       "2025-04-14 18:32:36,896 fedbiomed INFO - \u001b[1mTRAINING\u001b[0m \n",
       "\t\t\t\t\t NODE_ID: NODE_ab268c68-f166-45b7-a73a-8cb390df85fe \n",
       "\t\t\t\t\t Round 1 Epoch: 60 | Iteration: 1/7 (14%) | Samples: 128/896\n",
       " \t\t\t\t\t Loss hinge: \u001b[1m211.265274\u001b[0m \n",
       "\t\t\t\t\t ---------"
      ]
     },
     "metadata": {},
     "output_type": "display_data"
    },
    {
     "data": {
      "text/plain": [
       "2025-04-14 18:32:37,144 fedbiomed INFO - \u001b[1mTRAINING\u001b[0m \n",
       "\t\t\t\t\t NODE_ID: NODE_ab268c68-f166-45b7-a73a-8cb390df85fe \n",
       "\t\t\t\t\t Round 1 Epoch: 60 | Iteration: 7/7 (100%) | Samples: 780/780\n",
       " \t\t\t\t\t Loss hinge: \u001b[1m143.409363\u001b[0m \n",
       "\t\t\t\t\t ---------"
      ]
     },
     "metadata": {},
     "output_type": "display_data"
    },
    {
     "data": {
      "text/plain": [
       "2025-04-14 18:32:37,196 fedbiomed INFO - \u001b[1mTRAINING\u001b[0m \n",
       "\t\t\t\t\t NODE_ID: NODE_ab268c68-f166-45b7-a73a-8cb390df85fe \n",
       "\t\t\t\t\t Round 1 Epoch: 61 | Iteration: 1/7 (14%) | Samples: 128/896\n",
       " \t\t\t\t\t Loss hinge: \u001b[1m181.630020\u001b[0m \n",
       "\t\t\t\t\t ---------"
      ]
     },
     "metadata": {},
     "output_type": "display_data"
    },
    {
     "data": {
      "text/plain": [
       "2025-04-14 18:32:37,447 fedbiomed INFO - \u001b[1mTRAINING\u001b[0m \n",
       "\t\t\t\t\t NODE_ID: NODE_ab268c68-f166-45b7-a73a-8cb390df85fe \n",
       "\t\t\t\t\t Round 1 Epoch: 61 | Iteration: 7/7 (100%) | Samples: 780/780\n",
       " \t\t\t\t\t Loss hinge: \u001b[1m100.863091\u001b[0m \n",
       "\t\t\t\t\t ---------"
      ]
     },
     "metadata": {},
     "output_type": "display_data"
    },
    {
     "data": {
      "text/plain": [
       "2025-04-14 18:32:37,501 fedbiomed INFO - \u001b[1mTRAINING\u001b[0m \n",
       "\t\t\t\t\t NODE_ID: NODE_ab268c68-f166-45b7-a73a-8cb390df85fe \n",
       "\t\t\t\t\t Round 1 Epoch: 62 | Iteration: 1/7 (14%) | Samples: 128/896\n",
       " \t\t\t\t\t Loss hinge: \u001b[1m82.842033\u001b[0m \n",
       "\t\t\t\t\t ---------"
      ]
     },
     "metadata": {},
     "output_type": "display_data"
    },
    {
     "data": {
      "text/plain": [
       "2025-04-14 18:32:37,599 fedbiomed INFO - \u001b[1mTRAINING\u001b[0m \n",
       "\t\t\t\t\t NODE_ID: NODE_ab268c68-f166-45b7-a73a-8cb390df85fe \n",
       "\t\t\t\t\t Round 1 Epoch: 62 | Iteration: 3/7 (43%) | Samples: 384/896\n",
       " \t\t\t\t\t Loss hinge: \u001b[1m78.982620\u001b[0m \n",
       "\t\t\t\t\t ---------"
      ]
     },
     "metadata": {},
     "output_type": "display_data"
    },
    {
     "data": {
      "text/plain": [
       "2025-04-14 18:32:37,754 fedbiomed INFO - \u001b[1mTRAINING\u001b[0m \n",
       "\t\t\t\t\t NODE_ID: NODE_ab268c68-f166-45b7-a73a-8cb390df85fe \n",
       "\t\t\t\t\t Round 1 Epoch: 62 | Iteration: 7/7 (100%) | Samples: 780/780\n",
       " \t\t\t\t\t Loss hinge: \u001b[1m89.494148\u001b[0m \n",
       "\t\t\t\t\t ---------"
      ]
     },
     "metadata": {},
     "output_type": "display_data"
    },
    {
     "data": {
      "text/plain": [
       "2025-04-14 18:32:37,804 fedbiomed INFO - \u001b[1mTRAINING\u001b[0m \n",
       "\t\t\t\t\t NODE_ID: NODE_ab268c68-f166-45b7-a73a-8cb390df85fe \n",
       "\t\t\t\t\t Round 1 Epoch: 63 | Iteration: 1/7 (14%) | Samples: 128/896\n",
       " \t\t\t\t\t Loss hinge: \u001b[1m53.304619\u001b[0m \n",
       "\t\t\t\t\t ---------"
      ]
     },
     "metadata": {},
     "output_type": "display_data"
    },
    {
     "data": {
      "text/plain": [
       "2025-04-14 18:32:38,052 fedbiomed INFO - \u001b[1mTRAINING\u001b[0m \n",
       "\t\t\t\t\t NODE_ID: NODE_ab268c68-f166-45b7-a73a-8cb390df85fe \n",
       "\t\t\t\t\t Round 1 Epoch: 63 | Iteration: 6/7 (86%) | Samples: 768/896\n",
       " \t\t\t\t\t Loss hinge: \u001b[1m69.024437\u001b[0m \n",
       "\t\t\t\t\t ---------"
      ]
     },
     "metadata": {},
     "output_type": "display_data"
    },
    {
     "data": {
      "text/plain": [
       "2025-04-14 18:32:38,058 fedbiomed INFO - \u001b[1mTRAINING\u001b[0m \n",
       "\t\t\t\t\t NODE_ID: NODE_ab268c68-f166-45b7-a73a-8cb390df85fe \n",
       "\t\t\t\t\t Round 1 Epoch: 63 | Iteration: 7/7 (100%) | Samples: 780/780\n",
       " \t\t\t\t\t Loss hinge: \u001b[1m94.803528\u001b[0m \n",
       "\t\t\t\t\t ---------"
      ]
     },
     "metadata": {},
     "output_type": "display_data"
    },
    {
     "data": {
      "text/plain": [
       "2025-04-14 18:32:38,107 fedbiomed INFO - \u001b[1mTRAINING\u001b[0m \n",
       "\t\t\t\t\t NODE_ID: NODE_ab268c68-f166-45b7-a73a-8cb390df85fe \n",
       "\t\t\t\t\t Round 1 Epoch: 64 | Iteration: 1/7 (14%) | Samples: 128/896\n",
       " \t\t\t\t\t Loss hinge: \u001b[1m87.774155\u001b[0m \n",
       "\t\t\t\t\t ---------"
      ]
     },
     "metadata": {},
     "output_type": "display_data"
    },
    {
     "data": {
      "text/plain": [
       "2025-04-14 18:32:38,356 fedbiomed INFO - \u001b[1mTRAINING\u001b[0m \n",
       "\t\t\t\t\t NODE_ID: NODE_ab268c68-f166-45b7-a73a-8cb390df85fe \n",
       "\t\t\t\t\t Round 1 Epoch: 64 | Iteration: 7/7 (100%) | Samples: 780/780\n",
       " \t\t\t\t\t Loss hinge: \u001b[1m122.898476\u001b[0m \n",
       "\t\t\t\t\t ---------"
      ]
     },
     "metadata": {},
     "output_type": "display_data"
    },
    {
     "data": {
      "text/plain": [
       "2025-04-14 18:32:38,410 fedbiomed INFO - \u001b[1mTRAINING\u001b[0m \n",
       "\t\t\t\t\t NODE_ID: NODE_ab268c68-f166-45b7-a73a-8cb390df85fe \n",
       "\t\t\t\t\t Round 1 Epoch: 65 | Iteration: 1/7 (14%) | Samples: 128/896\n",
       " \t\t\t\t\t Loss hinge: \u001b[1m69.179016\u001b[0m \n",
       "\t\t\t\t\t ---------"
      ]
     },
     "metadata": {},
     "output_type": "display_data"
    },
    {
     "data": {
      "text/plain": [
       "2025-04-14 18:32:38,461 fedbiomed INFO - \u001b[1mTRAINING\u001b[0m \n",
       "\t\t\t\t\t NODE_ID: NODE_ab268c68-f166-45b7-a73a-8cb390df85fe \n",
       "\t\t\t\t\t Round 1 Epoch: 65 | Iteration: 2/7 (29%) | Samples: 256/896\n",
       " \t\t\t\t\t Loss hinge: \u001b[1m72.526909\u001b[0m \n",
       "\t\t\t\t\t ---------"
      ]
     },
     "metadata": {},
     "output_type": "display_data"
    },
    {
     "data": {
      "text/plain": [
       "2025-04-14 18:32:38,658 fedbiomed INFO - \u001b[1mTRAINING\u001b[0m \n",
       "\t\t\t\t\t NODE_ID: NODE_ab268c68-f166-45b7-a73a-8cb390df85fe \n",
       "\t\t\t\t\t Round 1 Epoch: 65 | Iteration: 7/7 (100%) | Samples: 780/780\n",
       " \t\t\t\t\t Loss hinge: \u001b[1m46.545521\u001b[0m \n",
       "\t\t\t\t\t ---------"
      ]
     },
     "metadata": {},
     "output_type": "display_data"
    },
    {
     "data": {
      "text/plain": [
       "2025-04-14 18:32:38,711 fedbiomed INFO - \u001b[1mTRAINING\u001b[0m \n",
       "\t\t\t\t\t NODE_ID: NODE_ab268c68-f166-45b7-a73a-8cb390df85fe \n",
       "\t\t\t\t\t Round 1 Epoch: 66 | Iteration: 1/7 (14%) | Samples: 128/896\n",
       " \t\t\t\t\t Loss hinge: \u001b[1m45.592773\u001b[0m \n",
       "\t\t\t\t\t ---------"
      ]
     },
     "metadata": {},
     "output_type": "display_data"
    },
    {
     "data": {
      "text/plain": [
       "2025-04-14 18:32:38,907 fedbiomed INFO - \u001b[1mTRAINING\u001b[0m \n",
       "\t\t\t\t\t NODE_ID: NODE_ab268c68-f166-45b7-a73a-8cb390df85fe \n",
       "\t\t\t\t\t Round 1 Epoch: 66 | Iteration: 5/7 (71%) | Samples: 640/896\n",
       " \t\t\t\t\t Loss hinge: \u001b[1m42.443604\u001b[0m \n",
       "\t\t\t\t\t ---------"
      ]
     },
     "metadata": {},
     "output_type": "display_data"
    },
    {
     "data": {
      "text/plain": [
       "2025-04-14 18:32:38,960 fedbiomed INFO - \u001b[1mTRAINING\u001b[0m \n",
       "\t\t\t\t\t NODE_ID: NODE_ab268c68-f166-45b7-a73a-8cb390df85fe \n",
       "\t\t\t\t\t Round 1 Epoch: 66 | Iteration: 7/7 (100%) | Samples: 780/780\n",
       " \t\t\t\t\t Loss hinge: \u001b[1m45.783657\u001b[0m \n",
       "\t\t\t\t\t ---------"
      ]
     },
     "metadata": {},
     "output_type": "display_data"
    },
    {
     "data": {
      "text/plain": [
       "2025-04-14 18:32:39,012 fedbiomed INFO - \u001b[1mTRAINING\u001b[0m \n",
       "\t\t\t\t\t NODE_ID: NODE_ab268c68-f166-45b7-a73a-8cb390df85fe \n",
       "\t\t\t\t\t Round 1 Epoch: 67 | Iteration: 1/7 (14%) | Samples: 128/896\n",
       " \t\t\t\t\t Loss hinge: \u001b[1m41.457687\u001b[0m \n",
       "\t\t\t\t\t ---------"
      ]
     },
     "metadata": {},
     "output_type": "display_data"
    },
    {
     "data": {
      "text/plain": [
       "2025-04-14 18:32:39,261 fedbiomed INFO - \u001b[1mTRAINING\u001b[0m \n",
       "\t\t\t\t\t NODE_ID: NODE_ab268c68-f166-45b7-a73a-8cb390df85fe \n",
       "\t\t\t\t\t Round 1 Epoch: 67 | Iteration: 7/7 (100%) | Samples: 780/780\n",
       " \t\t\t\t\t Loss hinge: \u001b[1m112.019798\u001b[0m \n",
       "\t\t\t\t\t ---------"
      ]
     },
     "metadata": {},
     "output_type": "display_data"
    },
    {
     "data": {
      "text/plain": [
       "2025-04-14 18:32:39,313 fedbiomed INFO - \u001b[1mTRAINING\u001b[0m \n",
       "\t\t\t\t\t NODE_ID: NODE_ab268c68-f166-45b7-a73a-8cb390df85fe \n",
       "\t\t\t\t\t Round 1 Epoch: 68 | Iteration: 1/7 (14%) | Samples: 128/896\n",
       " \t\t\t\t\t Loss hinge: \u001b[1m104.069901\u001b[0m \n",
       "\t\t\t\t\t ---------"
      ]
     },
     "metadata": {},
     "output_type": "display_data"
    },
    {
     "data": {
      "text/plain": [
       "2025-04-14 18:32:39,562 fedbiomed INFO - \u001b[1mTRAINING\u001b[0m \n",
       "\t\t\t\t\t NODE_ID: NODE_ab268c68-f166-45b7-a73a-8cb390df85fe \n",
       "\t\t\t\t\t Round 1 Epoch: 68 | Iteration: 7/7 (100%) | Samples: 780/780\n",
       " \t\t\t\t\t Loss hinge: \u001b[1m67.410843\u001b[0m \n",
       "\t\t\t\t\t ---------"
      ]
     },
     "metadata": {},
     "output_type": "display_data"
    },
    {
     "data": {
      "text/plain": [
       "2025-04-14 18:32:39,614 fedbiomed INFO - \u001b[1mTRAINING\u001b[0m \n",
       "\t\t\t\t\t NODE_ID: NODE_ab268c68-f166-45b7-a73a-8cb390df85fe \n",
       "\t\t\t\t\t Round 1 Epoch: 69 | Iteration: 1/7 (14%) | Samples: 128/896\n",
       " \t\t\t\t\t Loss hinge: \u001b[1m62.206039\u001b[0m \n",
       "\t\t\t\t\t ---------"
      ]
     },
     "metadata": {},
     "output_type": "display_data"
    },
    {
     "data": {
      "text/plain": [
       "2025-04-14 18:32:39,762 fedbiomed INFO - \u001b[1mTRAINING\u001b[0m \n",
       "\t\t\t\t\t NODE_ID: NODE_ab268c68-f166-45b7-a73a-8cb390df85fe \n",
       "\t\t\t\t\t Round 1 Epoch: 69 | Iteration: 4/7 (57%) | Samples: 512/896\n",
       " \t\t\t\t\t Loss hinge: \u001b[1m122.980270\u001b[0m \n",
       "\t\t\t\t\t ---------"
      ]
     },
     "metadata": {},
     "output_type": "display_data"
    },
    {
     "data": {
      "text/plain": [
       "2025-04-14 18:32:39,867 fedbiomed INFO - \u001b[1mTRAINING\u001b[0m \n",
       "\t\t\t\t\t NODE_ID: NODE_ab268c68-f166-45b7-a73a-8cb390df85fe \n",
       "\t\t\t\t\t Round 1 Epoch: 69 | Iteration: 7/7 (100%) | Samples: 780/780\n",
       " \t\t\t\t\t Loss hinge: \u001b[1m73.329407\u001b[0m \n",
       "\t\t\t\t\t ---------"
      ]
     },
     "metadata": {},
     "output_type": "display_data"
    },
    {
     "data": {
      "text/plain": [
       "2025-04-14 18:32:39,915 fedbiomed INFO - \u001b[1mTRAINING\u001b[0m \n",
       "\t\t\t\t\t NODE_ID: NODE_ab268c68-f166-45b7-a73a-8cb390df85fe \n",
       "\t\t\t\t\t Round 1 Epoch: 70 | Iteration: 1/7 (14%) | Samples: 128/896\n",
       " \t\t\t\t\t Loss hinge: \u001b[1m181.515991\u001b[0m \n",
       "\t\t\t\t\t ---------"
      ]
     },
     "metadata": {},
     "output_type": "display_data"
    },
    {
     "data": {
      "text/plain": [
       "2025-04-14 18:32:40,171 fedbiomed INFO - \u001b[1mTRAINING\u001b[0m \n",
       "\t\t\t\t\t NODE_ID: NODE_ab268c68-f166-45b7-a73a-8cb390df85fe \n",
       "\t\t\t\t\t Round 1 Epoch: 70 | Iteration: 7/7 (100%) | Samples: 780/780\n",
       " \t\t\t\t\t Loss hinge: \u001b[1m91.817238\u001b[0m \n",
       "\t\t\t\t\t ---------"
      ]
     },
     "metadata": {},
     "output_type": "display_data"
    },
    {
     "data": {
      "text/plain": [
       "2025-04-14 18:32:40,220 fedbiomed INFO - \u001b[1mTRAINING\u001b[0m \n",
       "\t\t\t\t\t NODE_ID: NODE_ab268c68-f166-45b7-a73a-8cb390df85fe \n",
       "\t\t\t\t\t Round 1 Epoch: 71 | Iteration: 1/7 (14%) | Samples: 128/896\n",
       " \t\t\t\t\t Loss hinge: \u001b[1m89.558685\u001b[0m \n",
       "\t\t\t\t\t ---------"
      ]
     },
     "metadata": {},
     "output_type": "display_data"
    },
    {
     "data": {
      "text/plain": [
       "2025-04-14 18:32:40,469 fedbiomed INFO - \u001b[1mTRAINING\u001b[0m \n",
       "\t\t\t\t\t NODE_ID: NODE_ab268c68-f166-45b7-a73a-8cb390df85fe \n",
       "\t\t\t\t\t Round 1 Epoch: 71 | Iteration: 7/7 (100%) | Samples: 780/780\n",
       " \t\t\t\t\t Loss hinge: \u001b[1m112.748543\u001b[0m \n",
       "\t\t\t\t\t ---------"
      ]
     },
     "metadata": {},
     "output_type": "display_data"
    },
    {
     "data": {
      "text/plain": [
       "2025-04-14 18:32:40,522 fedbiomed INFO - \u001b[1mTRAINING\u001b[0m \n",
       "\t\t\t\t\t NODE_ID: NODE_ab268c68-f166-45b7-a73a-8cb390df85fe \n",
       "\t\t\t\t\t Round 1 Epoch: 72 | Iteration: 1/7 (14%) | Samples: 128/896\n",
       " \t\t\t\t\t Loss hinge: \u001b[1m166.880478\u001b[0m \n",
       "\t\t\t\t\t ---------"
      ]
     },
     "metadata": {},
     "output_type": "display_data"
    },
    {
     "data": {
      "text/plain": [
       "2025-04-14 18:32:40,620 fedbiomed INFO - \u001b[1mTRAINING\u001b[0m \n",
       "\t\t\t\t\t NODE_ID: NODE_ab268c68-f166-45b7-a73a-8cb390df85fe \n",
       "\t\t\t\t\t Round 1 Epoch: 72 | Iteration: 3/7 (43%) | Samples: 384/896\n",
       " \t\t\t\t\t Loss hinge: \u001b[1m64.588844\u001b[0m \n",
       "\t\t\t\t\t ---------"
      ]
     },
     "metadata": {},
     "output_type": "display_data"
    },
    {
     "data": {
      "text/plain": [
       "2025-04-14 18:32:40,772 fedbiomed INFO - \u001b[1mTRAINING\u001b[0m \n",
       "\t\t\t\t\t NODE_ID: NODE_ab268c68-f166-45b7-a73a-8cb390df85fe \n",
       "\t\t\t\t\t Round 1 Epoch: 72 | Iteration: 7/7 (100%) | Samples: 780/780\n",
       " \t\t\t\t\t Loss hinge: \u001b[1m93.366783\u001b[0m \n",
       "\t\t\t\t\t ---------"
      ]
     },
     "metadata": {},
     "output_type": "display_data"
    },
    {
     "data": {
      "text/plain": [
       "2025-04-14 18:32:40,823 fedbiomed INFO - \u001b[1mTRAINING\u001b[0m \n",
       "\t\t\t\t\t NODE_ID: NODE_ab268c68-f166-45b7-a73a-8cb390df85fe \n",
       "\t\t\t\t\t Round 1 Epoch: 73 | Iteration: 1/7 (14%) | Samples: 128/896\n",
       " \t\t\t\t\t Loss hinge: \u001b[1m83.376488\u001b[0m \n",
       "\t\t\t\t\t ---------"
      ]
     },
     "metadata": {},
     "output_type": "display_data"
    },
    {
     "data": {
      "text/plain": [
       "2025-04-14 18:32:41,073 fedbiomed INFO - \u001b[1mTRAINING\u001b[0m \n",
       "\t\t\t\t\t NODE_ID: NODE_ab268c68-f166-45b7-a73a-8cb390df85fe \n",
       "\t\t\t\t\t Round 1 Epoch: 73 | Iteration: 6/7 (86%) | Samples: 768/896\n",
       " \t\t\t\t\t Loss hinge: \u001b[1m98.982857\u001b[0m \n",
       "\t\t\t\t\t ---------"
      ]
     },
     "metadata": {},
     "output_type": "display_data"
    },
    {
     "data": {
      "text/plain": [
       "2025-04-14 18:32:41,080 fedbiomed INFO - \u001b[1mTRAINING\u001b[0m \n",
       "\t\t\t\t\t NODE_ID: NODE_ab268c68-f166-45b7-a73a-8cb390df85fe \n",
       "\t\t\t\t\t Round 1 Epoch: 73 | Iteration: 7/7 (100%) | Samples: 780/780\n",
       " \t\t\t\t\t Loss hinge: \u001b[1m92.599648\u001b[0m \n",
       "\t\t\t\t\t ---------"
      ]
     },
     "metadata": {},
     "output_type": "display_data"
    },
    {
     "data": {
      "text/plain": [
       "2025-04-14 18:32:41,127 fedbiomed INFO - \u001b[1mTRAINING\u001b[0m \n",
       "\t\t\t\t\t NODE_ID: NODE_ab268c68-f166-45b7-a73a-8cb390df85fe \n",
       "\t\t\t\t\t Round 1 Epoch: 74 | Iteration: 1/7 (14%) | Samples: 128/896\n",
       " \t\t\t\t\t Loss hinge: \u001b[1m91.779388\u001b[0m \n",
       "\t\t\t\t\t ---------"
      ]
     },
     "metadata": {},
     "output_type": "display_data"
    },
    {
     "data": {
      "text/plain": [
       "2025-04-14 18:32:41,377 fedbiomed INFO - \u001b[1mTRAINING\u001b[0m \n",
       "\t\t\t\t\t NODE_ID: NODE_ab268c68-f166-45b7-a73a-8cb390df85fe \n",
       "\t\t\t\t\t Round 1 Epoch: 74 | Iteration: 7/7 (100%) | Samples: 780/780\n",
       " \t\t\t\t\t Loss hinge: \u001b[1m54.017708\u001b[0m \n",
       "\t\t\t\t\t ---------"
      ]
     },
     "metadata": {},
     "output_type": "display_data"
    },
    {
     "data": {
      "text/plain": [
       "2025-04-14 18:32:41,429 fedbiomed INFO - \u001b[1mTRAINING\u001b[0m \n",
       "\t\t\t\t\t NODE_ID: NODE_ab268c68-f166-45b7-a73a-8cb390df85fe \n",
       "\t\t\t\t\t Round 1 Epoch: 75 | Iteration: 1/7 (14%) | Samples: 128/896\n",
       " \t\t\t\t\t Loss hinge: \u001b[1m68.406052\u001b[0m \n",
       "\t\t\t\t\t ---------"
      ]
     },
     "metadata": {},
     "output_type": "display_data"
    },
    {
     "data": {
      "text/plain": [
       "2025-04-14 18:32:41,480 fedbiomed INFO - \u001b[1mTRAINING\u001b[0m \n",
       "\t\t\t\t\t NODE_ID: NODE_ab268c68-f166-45b7-a73a-8cb390df85fe \n",
       "\t\t\t\t\t Round 1 Epoch: 75 | Iteration: 2/7 (29%) | Samples: 256/896\n",
       " \t\t\t\t\t Loss hinge: \u001b[1m56.320591\u001b[0m \n",
       "\t\t\t\t\t ---------"
      ]
     },
     "metadata": {},
     "output_type": "display_data"
    },
    {
     "data": {
      "text/plain": [
       "2025-04-14 18:32:41,679 fedbiomed INFO - \u001b[1mTRAINING\u001b[0m \n",
       "\t\t\t\t\t NODE_ID: NODE_ab268c68-f166-45b7-a73a-8cb390df85fe \n",
       "\t\t\t\t\t Round 1 Epoch: 75 | Iteration: 7/7 (100%) | Samples: 780/780\n",
       " \t\t\t\t\t Loss hinge: \u001b[1m77.346664\u001b[0m \n",
       "\t\t\t\t\t ---------"
      ]
     },
     "metadata": {},
     "output_type": "display_data"
    },
    {
     "data": {
      "text/plain": [
       "2025-04-14 18:32:41,730 fedbiomed INFO - \u001b[1mTRAINING\u001b[0m \n",
       "\t\t\t\t\t NODE_ID: NODE_ab268c68-f166-45b7-a73a-8cb390df85fe \n",
       "\t\t\t\t\t Round 1 Epoch: 76 | Iteration: 1/7 (14%) | Samples: 128/896\n",
       " \t\t\t\t\t Loss hinge: \u001b[1m106.120293\u001b[0m \n",
       "\t\t\t\t\t ---------"
      ]
     },
     "metadata": {},
     "output_type": "display_data"
    },
    {
     "data": {
      "text/plain": [
       "2025-04-14 18:32:41,929 fedbiomed INFO - \u001b[1mTRAINING\u001b[0m \n",
       "\t\t\t\t\t NODE_ID: NODE_ab268c68-f166-45b7-a73a-8cb390df85fe \n",
       "\t\t\t\t\t Round 1 Epoch: 76 | Iteration: 5/7 (71%) | Samples: 640/896\n",
       " \t\t\t\t\t Loss hinge: \u001b[1m49.932304\u001b[0m \n",
       "\t\t\t\t\t ---------"
      ]
     },
     "metadata": {},
     "output_type": "display_data"
    },
    {
     "data": {
      "text/plain": [
       "2025-04-14 18:32:41,981 fedbiomed INFO - \u001b[1mTRAINING\u001b[0m \n",
       "\t\t\t\t\t NODE_ID: NODE_ab268c68-f166-45b7-a73a-8cb390df85fe \n",
       "\t\t\t\t\t Round 1 Epoch: 76 | Iteration: 7/7 (100%) | Samples: 780/780\n",
       " \t\t\t\t\t Loss hinge: \u001b[1m53.181656\u001b[0m \n",
       "\t\t\t\t\t ---------"
      ]
     },
     "metadata": {},
     "output_type": "display_data"
    },
    {
     "data": {
      "text/plain": [
       "2025-04-14 18:32:42,043 fedbiomed INFO - \u001b[1mTRAINING\u001b[0m \n",
       "\t\t\t\t\t NODE_ID: NODE_ab268c68-f166-45b7-a73a-8cb390df85fe \n",
       "\t\t\t\t\t Round 1 Epoch: 77 | Iteration: 1/7 (14%) | Samples: 128/896\n",
       " \t\t\t\t\t Loss hinge: \u001b[1m110.457817\u001b[0m \n",
       "\t\t\t\t\t ---------"
      ]
     },
     "metadata": {},
     "output_type": "display_data"
    },
    {
     "data": {
      "text/plain": [
       "2025-04-14 18:32:42,343 fedbiomed INFO - \u001b[1mTRAINING\u001b[0m \n",
       "\t\t\t\t\t NODE_ID: NODE_ab268c68-f166-45b7-a73a-8cb390df85fe \n",
       "\t\t\t\t\t Round 1 Epoch: 77 | Iteration: 7/7 (100%) | Samples: 780/780\n",
       " \t\t\t\t\t Loss hinge: \u001b[1m66.338936\u001b[0m \n",
       "\t\t\t\t\t ---------"
      ]
     },
     "metadata": {},
     "output_type": "display_data"
    },
    {
     "data": {
      "text/plain": [
       "2025-04-14 18:32:42,499 fedbiomed INFO - \u001b[1mTRAINING\u001b[0m \n",
       "\t\t\t\t\t NODE_ID: NODE_ab268c68-f166-45b7-a73a-8cb390df85fe \n",
       "\t\t\t\t\t Round 1 Epoch: 78 | Iteration: 1/7 (14%) | Samples: 128/896\n",
       " \t\t\t\t\t Loss hinge: \u001b[1m100.752220\u001b[0m \n",
       "\t\t\t\t\t ---------"
      ]
     },
     "metadata": {},
     "output_type": "display_data"
    },
    {
     "data": {
      "text/plain": [
       "2025-04-14 18:32:42,607 fedbiomed INFO - \u001b[1mTRAINING\u001b[0m \n",
       "\t\t\t\t\t NODE_ID: NODE_ab268c68-f166-45b7-a73a-8cb390df85fe \n",
       "\t\t\t\t\t Round 1 Epoch: 78 | Iteration: 7/7 (100%) | Samples: 780/780\n",
       " \t\t\t\t\t Loss hinge: \u001b[1m35.187847\u001b[0m \n",
       "\t\t\t\t\t ---------"
      ]
     },
     "metadata": {},
     "output_type": "display_data"
    },
    {
     "data": {
      "text/plain": [
       "2025-04-14 18:32:42,763 fedbiomed INFO - \u001b[1mTRAINING\u001b[0m \n",
       "\t\t\t\t\t NODE_ID: NODE_ab268c68-f166-45b7-a73a-8cb390df85fe \n",
       "\t\t\t\t\t Round 1 Epoch: 79 | Iteration: 1/7 (14%) | Samples: 128/896\n",
       " \t\t\t\t\t Loss hinge: \u001b[1m61.589203\u001b[0m \n",
       "\t\t\t\t\t ---------"
      ]
     },
     "metadata": {},
     "output_type": "display_data"
    },
    {
     "data": {
      "text/plain": [
       "2025-04-14 18:32:42,901 fedbiomed INFO - \u001b[1mTRAINING\u001b[0m \n",
       "\t\t\t\t\t NODE_ID: NODE_ab268c68-f166-45b7-a73a-8cb390df85fe \n",
       "\t\t\t\t\t Round 1 Epoch: 79 | Iteration: 4/7 (57%) | Samples: 512/896\n",
       " \t\t\t\t\t Loss hinge: \u001b[1m77.892258\u001b[0m \n",
       "\t\t\t\t\t ---------"
      ]
     },
     "metadata": {},
     "output_type": "display_data"
    },
    {
     "data": {
      "text/plain": [
       "2025-04-14 18:32:42,924 fedbiomed INFO - \u001b[1mTRAINING\u001b[0m \n",
       "\t\t\t\t\t NODE_ID: NODE_ab268c68-f166-45b7-a73a-8cb390df85fe \n",
       "\t\t\t\t\t Round 1 Epoch: 79 | Iteration: 7/7 (100%) | Samples: 780/780\n",
       " \t\t\t\t\t Loss hinge: \u001b[1m103.413277\u001b[0m \n",
       "\t\t\t\t\t ---------"
      ]
     },
     "metadata": {},
     "output_type": "display_data"
    },
    {
     "data": {
      "text/plain": [
       "2025-04-14 18:32:42,977 fedbiomed INFO - \u001b[1mTRAINING\u001b[0m \n",
       "\t\t\t\t\t NODE_ID: NODE_ab268c68-f166-45b7-a73a-8cb390df85fe \n",
       "\t\t\t\t\t Round 1 Epoch: 80 | Iteration: 1/7 (14%) | Samples: 128/896\n",
       " \t\t\t\t\t Loss hinge: \u001b[1m56.918293\u001b[0m \n",
       "\t\t\t\t\t ---------"
      ]
     },
     "metadata": {},
     "output_type": "display_data"
    },
    {
     "data": {
      "text/plain": [
       "2025-04-14 18:32:43,227 fedbiomed INFO - \u001b[1mTRAINING\u001b[0m \n",
       "\t\t\t\t\t NODE_ID: NODE_ab268c68-f166-45b7-a73a-8cb390df85fe \n",
       "\t\t\t\t\t Round 1 Epoch: 80 | Iteration: 7/7 (100%) | Samples: 780/780\n",
       " \t\t\t\t\t Loss hinge: \u001b[1m91.820396\u001b[0m \n",
       "\t\t\t\t\t ---------"
      ]
     },
     "metadata": {},
     "output_type": "display_data"
    },
    {
     "data": {
      "text/plain": [
       "2025-04-14 18:32:43,278 fedbiomed INFO - \u001b[1mTRAINING\u001b[0m \n",
       "\t\t\t\t\t NODE_ID: NODE_ab268c68-f166-45b7-a73a-8cb390df85fe \n",
       "\t\t\t\t\t Round 1 Epoch: 81 | Iteration: 1/7 (14%) | Samples: 128/896\n",
       " \t\t\t\t\t Loss hinge: \u001b[1m47.979202\u001b[0m \n",
       "\t\t\t\t\t ---------"
      ]
     },
     "metadata": {},
     "output_type": "display_data"
    },
    {
     "data": {
      "text/plain": [
       "2025-04-14 18:32:43,527 fedbiomed INFO - \u001b[1mTRAINING\u001b[0m \n",
       "\t\t\t\t\t NODE_ID: NODE_ab268c68-f166-45b7-a73a-8cb390df85fe \n",
       "\t\t\t\t\t Round 1 Epoch: 81 | Iteration: 7/7 (100%) | Samples: 780/780\n",
       " \t\t\t\t\t Loss hinge: \u001b[1m86.693932\u001b[0m \n",
       "\t\t\t\t\t ---------"
      ]
     },
     "metadata": {},
     "output_type": "display_data"
    },
    {
     "data": {
      "text/plain": [
       "2025-04-14 18:32:43,579 fedbiomed INFO - \u001b[1mTRAINING\u001b[0m \n",
       "\t\t\t\t\t NODE_ID: NODE_ab268c68-f166-45b7-a73a-8cb390df85fe \n",
       "\t\t\t\t\t Round 1 Epoch: 82 | Iteration: 1/7 (14%) | Samples: 128/896\n",
       " \t\t\t\t\t Loss hinge: \u001b[1m44.711090\u001b[0m \n",
       "\t\t\t\t\t ---------"
      ]
     },
     "metadata": {},
     "output_type": "display_data"
    },
    {
     "data": {
      "text/plain": [
       "2025-04-14 18:32:43,681 fedbiomed INFO - \u001b[1mTRAINING\u001b[0m \n",
       "\t\t\t\t\t NODE_ID: NODE_ab268c68-f166-45b7-a73a-8cb390df85fe \n",
       "\t\t\t\t\t Round 1 Epoch: 82 | Iteration: 3/7 (43%) | Samples: 384/896\n",
       " \t\t\t\t\t Loss hinge: \u001b[1m46.198128\u001b[0m \n",
       "\t\t\t\t\t ---------"
      ]
     },
     "metadata": {},
     "output_type": "display_data"
    },
    {
     "data": {
      "text/plain": [
       "2025-04-14 18:32:43,830 fedbiomed INFO - \u001b[1mTRAINING\u001b[0m \n",
       "\t\t\t\t\t NODE_ID: NODE_ab268c68-f166-45b7-a73a-8cb390df85fe \n",
       "\t\t\t\t\t Round 1 Epoch: 82 | Iteration: 7/7 (100%) | Samples: 780/780\n",
       " \t\t\t\t\t Loss hinge: \u001b[1m89.552956\u001b[0m \n",
       "\t\t\t\t\t ---------"
      ]
     },
     "metadata": {},
     "output_type": "display_data"
    },
    {
     "data": {
      "text/plain": [
       "2025-04-14 18:32:43,881 fedbiomed INFO - \u001b[1mTRAINING\u001b[0m \n",
       "\t\t\t\t\t NODE_ID: NODE_ab268c68-f166-45b7-a73a-8cb390df85fe \n",
       "\t\t\t\t\t Round 1 Epoch: 83 | Iteration: 1/7 (14%) | Samples: 128/896\n",
       " \t\t\t\t\t Loss hinge: \u001b[1m182.459290\u001b[0m \n",
       "\t\t\t\t\t ---------"
      ]
     },
     "metadata": {},
     "output_type": "display_data"
    },
    {
     "data": {
      "text/plain": [
       "2025-04-14 18:32:44,130 fedbiomed INFO - \u001b[1mTRAINING\u001b[0m \n",
       "\t\t\t\t\t NODE_ID: NODE_ab268c68-f166-45b7-a73a-8cb390df85fe \n",
       "\t\t\t\t\t Round 1 Epoch: 83 | Iteration: 6/7 (86%) | Samples: 768/896\n",
       " \t\t\t\t\t Loss hinge: \u001b[1m57.644543\u001b[0m \n",
       "\t\t\t\t\t ---------"
      ]
     },
     "metadata": {},
     "output_type": "display_data"
    },
    {
     "data": {
      "text/plain": [
       "2025-04-14 18:32:44,134 fedbiomed INFO - \u001b[1mTRAINING\u001b[0m \n",
       "\t\t\t\t\t NODE_ID: NODE_ab268c68-f166-45b7-a73a-8cb390df85fe \n",
       "\t\t\t\t\t Round 1 Epoch: 83 | Iteration: 7/7 (100%) | Samples: 780/780\n",
       " \t\t\t\t\t Loss hinge: \u001b[1m33.740025\u001b[0m \n",
       "\t\t\t\t\t ---------"
      ]
     },
     "metadata": {},
     "output_type": "display_data"
    },
    {
     "data": {
      "text/plain": [
       "2025-04-14 18:32:44,183 fedbiomed INFO - \u001b[1mTRAINING\u001b[0m \n",
       "\t\t\t\t\t NODE_ID: NODE_ab268c68-f166-45b7-a73a-8cb390df85fe \n",
       "\t\t\t\t\t Round 1 Epoch: 84 | Iteration: 1/7 (14%) | Samples: 128/896\n",
       " \t\t\t\t\t Loss hinge: \u001b[1m37.326637\u001b[0m \n",
       "\t\t\t\t\t ---------"
      ]
     },
     "metadata": {},
     "output_type": "display_data"
    },
    {
     "data": {
      "text/plain": [
       "2025-04-14 18:32:44,434 fedbiomed INFO - \u001b[1mTRAINING\u001b[0m \n",
       "\t\t\t\t\t NODE_ID: NODE_ab268c68-f166-45b7-a73a-8cb390df85fe \n",
       "\t\t\t\t\t Round 1 Epoch: 84 | Iteration: 7/7 (100%) | Samples: 780/780\n",
       " \t\t\t\t\t Loss hinge: \u001b[1m45.081966\u001b[0m \n",
       "\t\t\t\t\t ---------"
      ]
     },
     "metadata": {},
     "output_type": "display_data"
    },
    {
     "data": {
      "text/plain": [
       "2025-04-14 18:32:44,487 fedbiomed INFO - \u001b[1mTRAINING\u001b[0m \n",
       "\t\t\t\t\t NODE_ID: NODE_ab268c68-f166-45b7-a73a-8cb390df85fe \n",
       "\t\t\t\t\t Round 1 Epoch: 85 | Iteration: 1/7 (14%) | Samples: 128/896\n",
       " \t\t\t\t\t Loss hinge: \u001b[1m42.391251\u001b[0m \n",
       "\t\t\t\t\t ---------"
      ]
     },
     "metadata": {},
     "output_type": "display_data"
    },
    {
     "data": {
      "text/plain": [
       "2025-04-14 18:32:44,536 fedbiomed INFO - \u001b[1mTRAINING\u001b[0m \n",
       "\t\t\t\t\t NODE_ID: NODE_ab268c68-f166-45b7-a73a-8cb390df85fe \n",
       "\t\t\t\t\t Round 1 Epoch: 85 | Iteration: 2/7 (29%) | Samples: 256/896\n",
       " \t\t\t\t\t Loss hinge: \u001b[1m42.125839\u001b[0m \n",
       "\t\t\t\t\t ---------"
      ]
     },
     "metadata": {},
     "output_type": "display_data"
    },
    {
     "data": {
      "text/plain": [
       "2025-04-14 18:32:44,735 fedbiomed INFO - \u001b[1mTRAINING\u001b[0m \n",
       "\t\t\t\t\t NODE_ID: NODE_ab268c68-f166-45b7-a73a-8cb390df85fe \n",
       "\t\t\t\t\t Round 1 Epoch: 85 | Iteration: 7/7 (100%) | Samples: 780/780\n",
       " \t\t\t\t\t Loss hinge: \u001b[1m36.261513\u001b[0m \n",
       "\t\t\t\t\t ---------"
      ]
     },
     "metadata": {},
     "output_type": "display_data"
    },
    {
     "data": {
      "text/plain": [
       "2025-04-14 18:32:44,786 fedbiomed INFO - \u001b[1mTRAINING\u001b[0m \n",
       "\t\t\t\t\t NODE_ID: NODE_ab268c68-f166-45b7-a73a-8cb390df85fe \n",
       "\t\t\t\t\t Round 1 Epoch: 86 | Iteration: 1/7 (14%) | Samples: 128/896\n",
       " \t\t\t\t\t Loss hinge: \u001b[1m43.226646\u001b[0m \n",
       "\t\t\t\t\t ---------"
      ]
     },
     "metadata": {},
     "output_type": "display_data"
    },
    {
     "data": {
      "text/plain": [
       "2025-04-14 18:32:44,983 fedbiomed INFO - \u001b[1mTRAINING\u001b[0m \n",
       "\t\t\t\t\t NODE_ID: NODE_ab268c68-f166-45b7-a73a-8cb390df85fe \n",
       "\t\t\t\t\t Round 1 Epoch: 86 | Iteration: 5/7 (71%) | Samples: 640/896\n",
       " \t\t\t\t\t Loss hinge: \u001b[1m56.182991\u001b[0m \n",
       "\t\t\t\t\t ---------"
      ]
     },
     "metadata": {},
     "output_type": "display_data"
    },
    {
     "data": {
      "text/plain": [
       "2025-04-14 18:32:45,036 fedbiomed INFO - \u001b[1mTRAINING\u001b[0m \n",
       "\t\t\t\t\t NODE_ID: NODE_ab268c68-f166-45b7-a73a-8cb390df85fe \n",
       "\t\t\t\t\t Round 1 Epoch: 86 | Iteration: 7/7 (100%) | Samples: 780/780\n",
       " \t\t\t\t\t Loss hinge: \u001b[1m42.307186\u001b[0m \n",
       "\t\t\t\t\t ---------"
      ]
     },
     "metadata": {},
     "output_type": "display_data"
    },
    {
     "data": {
      "text/plain": [
       "2025-04-14 18:32:45,087 fedbiomed INFO - \u001b[1mTRAINING\u001b[0m \n",
       "\t\t\t\t\t NODE_ID: NODE_ab268c68-f166-45b7-a73a-8cb390df85fe \n",
       "\t\t\t\t\t Round 1 Epoch: 87 | Iteration: 1/7 (14%) | Samples: 128/896\n",
       " \t\t\t\t\t Loss hinge: \u001b[1m43.631550\u001b[0m \n",
       "\t\t\t\t\t ---------"
      ]
     },
     "metadata": {},
     "output_type": "display_data"
    },
    {
     "data": {
      "text/plain": [
       "2025-04-14 18:32:45,338 fedbiomed INFO - \u001b[1mTRAINING\u001b[0m \n",
       "\t\t\t\t\t NODE_ID: NODE_ab268c68-f166-45b7-a73a-8cb390df85fe \n",
       "\t\t\t\t\t Round 1 Epoch: 87 | Iteration: 7/7 (100%) | Samples: 780/780\n",
       " \t\t\t\t\t Loss hinge: \u001b[1m35.334133\u001b[0m \n",
       "\t\t\t\t\t ---------"
      ]
     },
     "metadata": {},
     "output_type": "display_data"
    },
    {
     "data": {
      "text/plain": [
       "2025-04-14 18:32:45,390 fedbiomed INFO - \u001b[1mTRAINING\u001b[0m \n",
       "\t\t\t\t\t NODE_ID: NODE_ab268c68-f166-45b7-a73a-8cb390df85fe \n",
       "\t\t\t\t\t Round 1 Epoch: 88 | Iteration: 1/7 (14%) | Samples: 128/896\n",
       " \t\t\t\t\t Loss hinge: \u001b[1m102.240173\u001b[0m \n",
       "\t\t\t\t\t ---------"
      ]
     },
     "metadata": {},
     "output_type": "display_data"
    },
    {
     "data": {
      "text/plain": [
       "2025-04-14 18:32:45,638 fedbiomed INFO - \u001b[1mTRAINING\u001b[0m \n",
       "\t\t\t\t\t NODE_ID: NODE_ab268c68-f166-45b7-a73a-8cb390df85fe \n",
       "\t\t\t\t\t Round 1 Epoch: 88 | Iteration: 7/7 (100%) | Samples: 780/780\n",
       " \t\t\t\t\t Loss hinge: \u001b[1m65.659706\u001b[0m \n",
       "\t\t\t\t\t ---------"
      ]
     },
     "metadata": {},
     "output_type": "display_data"
    },
    {
     "data": {
      "text/plain": [
       "2025-04-14 18:32:45,693 fedbiomed INFO - \u001b[1mTRAINING\u001b[0m \n",
       "\t\t\t\t\t NODE_ID: NODE_ab268c68-f166-45b7-a73a-8cb390df85fe \n",
       "\t\t\t\t\t Round 1 Epoch: 89 | Iteration: 1/7 (14%) | Samples: 128/896\n",
       " \t\t\t\t\t Loss hinge: \u001b[1m64.688255\u001b[0m \n",
       "\t\t\t\t\t ---------"
      ]
     },
     "metadata": {},
     "output_type": "display_data"
    },
    {
     "data": {
      "text/plain": [
       "2025-04-14 18:32:45,838 fedbiomed INFO - \u001b[1mTRAINING\u001b[0m \n",
       "\t\t\t\t\t NODE_ID: NODE_ab268c68-f166-45b7-a73a-8cb390df85fe \n",
       "\t\t\t\t\t Round 1 Epoch: 89 | Iteration: 4/7 (57%) | Samples: 512/896\n",
       " \t\t\t\t\t Loss hinge: \u001b[1m43.431232\u001b[0m \n",
       "\t\t\t\t\t ---------"
      ]
     },
     "metadata": {},
     "output_type": "display_data"
    },
    {
     "data": {
      "text/plain": [
       "2025-04-14 18:32:45,940 fedbiomed INFO - \u001b[1mTRAINING\u001b[0m \n",
       "\t\t\t\t\t NODE_ID: NODE_ab268c68-f166-45b7-a73a-8cb390df85fe \n",
       "\t\t\t\t\t Round 1 Epoch: 89 | Iteration: 7/7 (100%) | Samples: 780/780\n",
       " \t\t\t\t\t Loss hinge: \u001b[1m57.413418\u001b[0m \n",
       "\t\t\t\t\t ---------"
      ]
     },
     "metadata": {},
     "output_type": "display_data"
    },
    {
     "data": {
      "text/plain": [
       "2025-04-14 18:32:45,991 fedbiomed INFO - \u001b[1mTRAINING\u001b[0m \n",
       "\t\t\t\t\t NODE_ID: NODE_ab268c68-f166-45b7-a73a-8cb390df85fe \n",
       "\t\t\t\t\t Round 1 Epoch: 90 | Iteration: 1/7 (14%) | Samples: 128/896\n",
       " \t\t\t\t\t Loss hinge: \u001b[1m49.810780\u001b[0m \n",
       "\t\t\t\t\t ---------"
      ]
     },
     "metadata": {},
     "output_type": "display_data"
    },
    {
     "data": {
      "text/plain": [
       "2025-04-14 18:32:46,241 fedbiomed INFO - \u001b[1mTRAINING\u001b[0m \n",
       "\t\t\t\t\t NODE_ID: NODE_ab268c68-f166-45b7-a73a-8cb390df85fe \n",
       "\t\t\t\t\t Round 1 Epoch: 90 | Iteration: 7/7 (100%) | Samples: 780/780\n",
       " \t\t\t\t\t Loss hinge: \u001b[1m50.448414\u001b[0m \n",
       "\t\t\t\t\t ---------"
      ]
     },
     "metadata": {},
     "output_type": "display_data"
    },
    {
     "data": {
      "text/plain": [
       "2025-04-14 18:32:46,291 fedbiomed INFO - \u001b[1mTRAINING\u001b[0m \n",
       "\t\t\t\t\t NODE_ID: NODE_ab268c68-f166-45b7-a73a-8cb390df85fe \n",
       "\t\t\t\t\t Round 1 Epoch: 91 | Iteration: 1/7 (14%) | Samples: 128/896\n",
       " \t\t\t\t\t Loss hinge: \u001b[1m160.206589\u001b[0m \n",
       "\t\t\t\t\t ---------"
      ]
     },
     "metadata": {},
     "output_type": "display_data"
    },
    {
     "data": {
      "text/plain": [
       "2025-04-14 18:32:46,550 fedbiomed INFO - \u001b[1mTRAINING\u001b[0m \n",
       "\t\t\t\t\t NODE_ID: NODE_ab268c68-f166-45b7-a73a-8cb390df85fe \n",
       "\t\t\t\t\t Round 1 Epoch: 91 | Iteration: 7/7 (100%) | Samples: 780/780\n",
       " \t\t\t\t\t Loss hinge: \u001b[1m45.432926\u001b[0m \n",
       "\t\t\t\t\t ---------"
      ]
     },
     "metadata": {},
     "output_type": "display_data"
    },
    {
     "data": {
      "text/plain": [
       "2025-04-14 18:32:46,602 fedbiomed INFO - \u001b[1mTRAINING\u001b[0m \n",
       "\t\t\t\t\t NODE_ID: NODE_ab268c68-f166-45b7-a73a-8cb390df85fe \n",
       "\t\t\t\t\t Round 1 Epoch: 92 | Iteration: 1/7 (14%) | Samples: 128/896\n",
       " \t\t\t\t\t Loss hinge: \u001b[1m43.466129\u001b[0m \n",
       "\t\t\t\t\t ---------"
      ]
     },
     "metadata": {},
     "output_type": "display_data"
    },
    {
     "data": {
      "text/plain": [
       "2025-04-14 18:32:46,705 fedbiomed INFO - \u001b[1mTRAINING\u001b[0m \n",
       "\t\t\t\t\t NODE_ID: NODE_ab268c68-f166-45b7-a73a-8cb390df85fe \n",
       "\t\t\t\t\t Round 1 Epoch: 92 | Iteration: 3/7 (43%) | Samples: 384/896\n",
       " \t\t\t\t\t Loss hinge: \u001b[1m40.719440\u001b[0m \n",
       "\t\t\t\t\t ---------"
      ]
     },
     "metadata": {},
     "output_type": "display_data"
    },
    {
     "data": {
      "text/plain": [
       "2025-04-14 18:32:46,853 fedbiomed INFO - \u001b[1mTRAINING\u001b[0m \n",
       "\t\t\t\t\t NODE_ID: NODE_ab268c68-f166-45b7-a73a-8cb390df85fe \n",
       "\t\t\t\t\t Round 1 Epoch: 92 | Iteration: 7/7 (100%) | Samples: 780/780\n",
       " \t\t\t\t\t Loss hinge: \u001b[1m8.834846\u001b[0m \n",
       "\t\t\t\t\t ---------"
      ]
     },
     "metadata": {},
     "output_type": "display_data"
    },
    {
     "data": {
      "text/plain": [
       "2025-04-14 18:32:46,904 fedbiomed INFO - \u001b[1mTRAINING\u001b[0m \n",
       "\t\t\t\t\t NODE_ID: NODE_ab268c68-f166-45b7-a73a-8cb390df85fe \n",
       "\t\t\t\t\t Round 1 Epoch: 93 | Iteration: 1/7 (14%) | Samples: 128/896\n",
       " \t\t\t\t\t Loss hinge: \u001b[1m80.974541\u001b[0m \n",
       "\t\t\t\t\t ---------"
      ]
     },
     "metadata": {},
     "output_type": "display_data"
    },
    {
     "data": {
      "text/plain": [
       "2025-04-14 18:32:47,150 fedbiomed INFO - \u001b[1mTRAINING\u001b[0m \n",
       "\t\t\t\t\t NODE_ID: NODE_ab268c68-f166-45b7-a73a-8cb390df85fe \n",
       "\t\t\t\t\t Round 1 Epoch: 93 | Iteration: 6/7 (86%) | Samples: 768/896\n",
       " \t\t\t\t\t Loss hinge: \u001b[1m31.696163\u001b[0m \n",
       "\t\t\t\t\t ---------"
      ]
     },
     "metadata": {},
     "output_type": "display_data"
    },
    {
     "data": {
      "text/plain": [
       "2025-04-14 18:32:47,154 fedbiomed INFO - \u001b[1mTRAINING\u001b[0m \n",
       "\t\t\t\t\t NODE_ID: NODE_ab268c68-f166-45b7-a73a-8cb390df85fe \n",
       "\t\t\t\t\t Round 1 Epoch: 93 | Iteration: 7/7 (100%) | Samples: 780/780\n",
       " \t\t\t\t\t Loss hinge: \u001b[1m54.848194\u001b[0m \n",
       "\t\t\t\t\t ---------"
      ]
     },
     "metadata": {},
     "output_type": "display_data"
    },
    {
     "data": {
      "text/plain": [
       "2025-04-14 18:32:47,206 fedbiomed INFO - \u001b[1mTRAINING\u001b[0m \n",
       "\t\t\t\t\t NODE_ID: NODE_ab268c68-f166-45b7-a73a-8cb390df85fe \n",
       "\t\t\t\t\t Round 1 Epoch: 94 | Iteration: 1/7 (14%) | Samples: 128/896\n",
       " \t\t\t\t\t Loss hinge: \u001b[1m110.485809\u001b[0m \n",
       "\t\t\t\t\t ---------"
      ]
     },
     "metadata": {},
     "output_type": "display_data"
    },
    {
     "data": {
      "text/plain": [
       "2025-04-14 18:32:47,458 fedbiomed INFO - \u001b[1mTRAINING\u001b[0m \n",
       "\t\t\t\t\t NODE_ID: NODE_ab268c68-f166-45b7-a73a-8cb390df85fe \n",
       "\t\t\t\t\t Round 1 Epoch: 94 | Iteration: 7/7 (100%) | Samples: 780/780\n",
       " \t\t\t\t\t Loss hinge: \u001b[1m67.208946\u001b[0m \n",
       "\t\t\t\t\t ---------"
      ]
     },
     "metadata": {},
     "output_type": "display_data"
    },
    {
     "data": {
      "text/plain": [
       "2025-04-14 18:32:47,510 fedbiomed INFO - \u001b[1mTRAINING\u001b[0m \n",
       "\t\t\t\t\t NODE_ID: NODE_ab268c68-f166-45b7-a73a-8cb390df85fe \n",
       "\t\t\t\t\t Round 1 Epoch: 95 | Iteration: 1/7 (14%) | Samples: 128/896\n",
       " \t\t\t\t\t Loss hinge: \u001b[1m42.408543\u001b[0m \n",
       "\t\t\t\t\t ---------"
      ]
     },
     "metadata": {},
     "output_type": "display_data"
    },
    {
     "data": {
      "text/plain": [
       "2025-04-14 18:32:47,561 fedbiomed INFO - \u001b[1mTRAINING\u001b[0m \n",
       "\t\t\t\t\t NODE_ID: NODE_ab268c68-f166-45b7-a73a-8cb390df85fe \n",
       "\t\t\t\t\t Round 1 Epoch: 95 | Iteration: 2/7 (29%) | Samples: 256/896\n",
       " \t\t\t\t\t Loss hinge: \u001b[1m37.460674\u001b[0m \n",
       "\t\t\t\t\t ---------"
      ]
     },
     "metadata": {},
     "output_type": "display_data"
    },
    {
     "data": {
      "text/plain": [
       "2025-04-14 18:32:47,759 fedbiomed INFO - \u001b[1mTRAINING\u001b[0m \n",
       "\t\t\t\t\t NODE_ID: NODE_ab268c68-f166-45b7-a73a-8cb390df85fe \n",
       "\t\t\t\t\t Round 1 Epoch: 95 | Iteration: 7/7 (100%) | Samples: 780/780\n",
       " \t\t\t\t\t Loss hinge: \u001b[1m99.106117\u001b[0m \n",
       "\t\t\t\t\t ---------"
      ]
     },
     "metadata": {},
     "output_type": "display_data"
    },
    {
     "data": {
      "text/plain": [
       "2025-04-14 18:32:47,814 fedbiomed INFO - \u001b[1mTRAINING\u001b[0m \n",
       "\t\t\t\t\t NODE_ID: NODE_ab268c68-f166-45b7-a73a-8cb390df85fe \n",
       "\t\t\t\t\t Round 1 Epoch: 96 | Iteration: 1/7 (14%) | Samples: 128/896\n",
       " \t\t\t\t\t Loss hinge: \u001b[1m127.796936\u001b[0m \n",
       "\t\t\t\t\t ---------"
      ]
     },
     "metadata": {},
     "output_type": "display_data"
    },
    {
     "data": {
      "text/plain": [
       "2025-04-14 18:32:48,007 fedbiomed INFO - \u001b[1mTRAINING\u001b[0m \n",
       "\t\t\t\t\t NODE_ID: NODE_ab268c68-f166-45b7-a73a-8cb390df85fe \n",
       "\t\t\t\t\t Round 1 Epoch: 96 | Iteration: 5/7 (71%) | Samples: 640/896\n",
       " \t\t\t\t\t Loss hinge: \u001b[1m45.721291\u001b[0m \n",
       "\t\t\t\t\t ---------"
      ]
     },
     "metadata": {},
     "output_type": "display_data"
    },
    {
     "data": {
      "text/plain": [
       "2025-04-14 18:32:48,061 fedbiomed INFO - \u001b[1mTRAINING\u001b[0m \n",
       "\t\t\t\t\t NODE_ID: NODE_ab268c68-f166-45b7-a73a-8cb390df85fe \n",
       "\t\t\t\t\t Round 1 Epoch: 96 | Iteration: 7/7 (100%) | Samples: 780/780\n",
       " \t\t\t\t\t Loss hinge: \u001b[1m68.174385\u001b[0m \n",
       "\t\t\t\t\t ---------"
      ]
     },
     "metadata": {},
     "output_type": "display_data"
    },
    {
     "data": {
      "text/plain": [
       "2025-04-14 18:32:48,112 fedbiomed INFO - \u001b[1mTRAINING\u001b[0m \n",
       "\t\t\t\t\t NODE_ID: NODE_ab268c68-f166-45b7-a73a-8cb390df85fe \n",
       "\t\t\t\t\t Round 1 Epoch: 97 | Iteration: 1/7 (14%) | Samples: 128/896\n",
       " \t\t\t\t\t Loss hinge: \u001b[1m75.512657\u001b[0m \n",
       "\t\t\t\t\t ---------"
      ]
     },
     "metadata": {},
     "output_type": "display_data"
    },
    {
     "data": {
      "text/plain": [
       "2025-04-14 18:32:48,366 fedbiomed INFO - \u001b[1mTRAINING\u001b[0m \n",
       "\t\t\t\t\t NODE_ID: NODE_ab268c68-f166-45b7-a73a-8cb390df85fe \n",
       "\t\t\t\t\t Round 1 Epoch: 97 | Iteration: 7/7 (100%) | Samples: 780/780\n",
       " \t\t\t\t\t Loss hinge: \u001b[1m75.050980\u001b[0m \n",
       "\t\t\t\t\t ---------"
      ]
     },
     "metadata": {},
     "output_type": "display_data"
    },
    {
     "data": {
      "text/plain": [
       "2025-04-14 18:32:48,415 fedbiomed INFO - \u001b[1mTRAINING\u001b[0m \n",
       "\t\t\t\t\t NODE_ID: NODE_ab268c68-f166-45b7-a73a-8cb390df85fe \n",
       "\t\t\t\t\t Round 1 Epoch: 98 | Iteration: 1/7 (14%) | Samples: 128/896\n",
       " \t\t\t\t\t Loss hinge: \u001b[1m34.126892\u001b[0m \n",
       "\t\t\t\t\t ---------"
      ]
     },
     "metadata": {},
     "output_type": "display_data"
    },
    {
     "data": {
      "text/plain": [
       "2025-04-14 18:32:48,693 fedbiomed INFO - \u001b[1mTRAINING\u001b[0m \n",
       "\t\t\t\t\t NODE_ID: NODE_ab268c68-f166-45b7-a73a-8cb390df85fe \n",
       "\t\t\t\t\t Round 1 Epoch: 98 | Iteration: 7/7 (100%) | Samples: 780/780\n",
       " \t\t\t\t\t Loss hinge: \u001b[1m36.327755\u001b[0m \n",
       "\t\t\t\t\t ---------"
      ]
     },
     "metadata": {},
     "output_type": "display_data"
    },
    {
     "data": {
      "text/plain": [
       "2025-04-14 18:32:48,728 fedbiomed INFO - \u001b[1mTRAINING\u001b[0m \n",
       "\t\t\t\t\t NODE_ID: NODE_ab268c68-f166-45b7-a73a-8cb390df85fe \n",
       "\t\t\t\t\t Round 1 Epoch: 99 | Iteration: 1/7 (14%) | Samples: 128/896\n",
       " \t\t\t\t\t Loss hinge: \u001b[1m76.333549\u001b[0m \n",
       "\t\t\t\t\t ---------"
      ]
     },
     "metadata": {},
     "output_type": "display_data"
    },
    {
     "data": {
      "text/plain": [
       "2025-04-14 18:32:48,867 fedbiomed INFO - \u001b[1mTRAINING\u001b[0m \n",
       "\t\t\t\t\t NODE_ID: NODE_ab268c68-f166-45b7-a73a-8cb390df85fe \n",
       "\t\t\t\t\t Round 1 Epoch: 99 | Iteration: 4/7 (57%) | Samples: 512/896\n",
       " \t\t\t\t\t Loss hinge: \u001b[1m35.408638\u001b[0m \n",
       "\t\t\t\t\t ---------"
      ]
     },
     "metadata": {},
     "output_type": "display_data"
    },
    {
     "data": {
      "text/plain": [
       "2025-04-14 18:32:48,969 fedbiomed INFO - \u001b[1mTRAINING\u001b[0m \n",
       "\t\t\t\t\t NODE_ID: NODE_ab268c68-f166-45b7-a73a-8cb390df85fe \n",
       "\t\t\t\t\t Round 1 Epoch: 99 | Iteration: 7/7 (100%) | Samples: 780/780\n",
       " \t\t\t\t\t Loss hinge: \u001b[1m56.324799\u001b[0m \n",
       "\t\t\t\t\t ---------"
      ]
     },
     "metadata": {},
     "output_type": "display_data"
    },
    {
     "data": {
      "text/plain": [
       "2025-04-14 18:32:49,024 fedbiomed INFO - \u001b[1mTRAINING\u001b[0m \n",
       "\t\t\t\t\t NODE_ID: NODE_ab268c68-f166-45b7-a73a-8cb390df85fe \n",
       "\t\t\t\t\t Round 1 Epoch: 100 | Iteration: 1/7 (14%) | Samples: 128/896\n",
       " \t\t\t\t\t Loss hinge: \u001b[1m34.441792\u001b[0m \n",
       "\t\t\t\t\t ---------"
      ]
     },
     "metadata": {},
     "output_type": "display_data"
    },
    {
     "data": {
      "text/plain": [
       "2025-04-14 18:32:49,271 fedbiomed INFO - \u001b[1mTRAINING\u001b[0m \n",
       "\t\t\t\t\t NODE_ID: NODE_ab268c68-f166-45b7-a73a-8cb390df85fe \n",
       "\t\t\t\t\t Round 1 Epoch: 100 | Iteration: 7/7 (100%) | Samples: 780/780\n",
       " \t\t\t\t\t Loss hinge: \u001b[1m77.197456\u001b[0m \n",
       "\t\t\t\t\t ---------"
      ]
     },
     "metadata": {},
     "output_type": "display_data"
    },
    {
     "data": {
      "text/plain": [
       "2025-04-14 18:32:49,330 fedbiomed INFO - Nodes that successfully reply in round 0 ['NODE_ab268c68-f166-45b7-a73a-8cb390df85fe']"
      ]
     },
     "metadata": {},
     "output_type": "display_data"
    },
    {
     "data": {
      "text/plain": [
       "1"
      ]
     },
     "execution_count": 148,
     "metadata": {},
     "output_type": "execute_result"
    }
   ],
   "source": [
    "exp.run()"
   ]
  },
  {
   "cell_type": "code",
   "execution_count": 149,
   "metadata": {},
   "outputs": [],
   "source": [
    "exp.training_plan().set_model_params(\n",
    "    exp.aggregated_params()[FEDBIOMED_ROUNDS - 1][\"params\"]\n",
    ")\n",
    "fed_model = exp.training_plan().model()"
   ]
  },
  {
   "cell_type": "code",
   "execution_count": 118,
   "metadata": {},
   "outputs": [
    {
     "data": {
      "text/plain": [
       "1    780\n",
       "Name: count, dtype: int64"
      ]
     },
     "execution_count": 118,
     "metadata": {},
     "output_type": "execute_result"
    }
   ],
   "source": [
    "pd.Series(fed_model.predict(X_train.values)).value_counts()"
   ]
  },
  {
   "cell_type": "code",
   "execution_count": 127,
   "metadata": {},
   "outputs": [
    {
     "data": {
      "text/plain": [
       "sklearn.linear_model._stochastic_gradient.SGDClassifier"
      ]
     },
     "execution_count": 127,
     "metadata": {},
     "output_type": "execute_result"
    }
   ],
   "source": [
    "type(fed_model)"
   ]
  },
  {
   "cell_type": "code",
   "execution_count": 150,
   "metadata": {},
   "outputs": [
    {
     "name": "stdout",
     "output_type": "stream",
     "text": [
      "Train balanced accuracy: 0.6090320830493784\n",
      "Test balanced accuracy: 0.6133190118152524\n"
     ]
    },
    {
     "data": {
      "text/plain": [
       "2025-04-14 19:21:47,895 fedbiomed DEBUG - Node: NODE_ab268c68-f166-45b7-a73a-8cb390df85fe polling for the tasks"
      ]
     },
     "metadata": {},
     "output_type": "display_data"
    },
    {
     "data": {
      "text/plain": [
       "2025-04-14 20:18:21,352 fedbiomed DEBUG - Node: NODE_ab268c68-f166-45b7-a73a-8cb390df85fe polling for the tasks"
      ]
     },
     "metadata": {},
     "output_type": "display_data"
    },
    {
     "data": {
      "text/plain": [
       "2025-04-14 21:18:21,349 fedbiomed DEBUG - Node: NODE_ab268c68-f166-45b7-a73a-8cb390df85fe polling for the tasks"
      ]
     },
     "metadata": {},
     "output_type": "display_data"
    },
    {
     "data": {
      "text/plain": [
       "2025-04-14 21:21:00,880 fedbiomed DEBUG - Node: NODE_ab268c68-f166-45b7-a73a-8cb390df85fe polling for the tasks"
      ]
     },
     "metadata": {},
     "output_type": "display_data"
    },
    {
     "data": {
      "text/plain": [
       "2025-04-14 22:21:00,881 fedbiomed DEBUG - Node: NODE_ab268c68-f166-45b7-a73a-8cb390df85fe polling for the tasks"
      ]
     },
     "metadata": {},
     "output_type": "display_data"
    },
    {
     "data": {
      "text/plain": [
       "2025-04-14 22:27:09,328 fedbiomed DEBUG - Node: NODE_ab268c68-f166-45b7-a73a-8cb390df85fe polling for the tasks"
      ]
     },
     "metadata": {},
     "output_type": "display_data"
    },
    {
     "data": {
      "text/plain": [
       "2025-04-14 23:24:57,425 fedbiomed DEBUG - Node: NODE_ab268c68-f166-45b7-a73a-8cb390df85fe polling for the tasks"
      ]
     },
     "metadata": {},
     "output_type": "display_data"
    },
    {
     "data": {
      "text/plain": [
       "2025-04-15 00:24:57,427 fedbiomed DEBUG - Node: NODE_ab268c68-f166-45b7-a73a-8cb390df85fe polling for the tasks"
      ]
     },
     "metadata": {},
     "output_type": "display_data"
    },
    {
     "data": {
      "text/plain": [
       "2025-04-15 00:30:33,840 fedbiomed DEBUG - Node: NODE_ab268c68-f166-45b7-a73a-8cb390df85fe polling for the tasks"
      ]
     },
     "metadata": {},
     "output_type": "display_data"
    },
    {
     "data": {
      "text/plain": [
       "2025-04-15 01:30:33,933 fedbiomed DEBUG - Node: NODE_ab268c68-f166-45b7-a73a-8cb390df85fe polling for the tasks"
      ]
     },
     "metadata": {},
     "output_type": "display_data"
    },
    {
     "data": {
      "text/plain": [
       "2025-04-15 02:28:47,149 fedbiomed DEBUG - Node: NODE_ab268c68-f166-45b7-a73a-8cb390df85fe polling for the tasks"
      ]
     },
     "metadata": {},
     "output_type": "display_data"
    },
    {
     "data": {
      "text/plain": [
       "2025-04-15 03:28:47,148 fedbiomed DEBUG - Node: NODE_ab268c68-f166-45b7-a73a-8cb390df85fe polling for the tasks"
      ]
     },
     "metadata": {},
     "output_type": "display_data"
    },
    {
     "data": {
      "text/plain": [
       "2025-04-15 03:29:47,528 fedbiomed DEBUG - Node: NODE_ab268c68-f166-45b7-a73a-8cb390df85fe polling for the tasks"
      ]
     },
     "metadata": {},
     "output_type": "display_data"
    },
    {
     "data": {
      "text/plain": [
       "2025-04-15 04:27:08,302 fedbiomed DEBUG - Node: NODE_ab268c68-f166-45b7-a73a-8cb390df85fe polling for the tasks"
      ]
     },
     "metadata": {},
     "output_type": "display_data"
    },
    {
     "data": {
      "text/plain": [
       "2025-04-15 05:27:08,301 fedbiomed DEBUG - Node: NODE_ab268c68-f166-45b7-a73a-8cb390df85fe polling for the tasks"
      ]
     },
     "metadata": {},
     "output_type": "display_data"
    },
    {
     "data": {
      "text/plain": [
       "2025-04-15 05:29:21,290 fedbiomed DEBUG - Node: NODE_ab268c68-f166-45b7-a73a-8cb390df85fe polling for the tasks"
      ]
     },
     "metadata": {},
     "output_type": "display_data"
    },
    {
     "data": {
      "text/plain": [
       "2025-04-15 06:28:30,491 fedbiomed DEBUG - Node: NODE_ab268c68-f166-45b7-a73a-8cb390df85fe polling for the tasks"
      ]
     },
     "metadata": {},
     "output_type": "display_data"
    },
    {
     "data": {
      "text/plain": [
       "2025-04-15 07:28:30,458 fedbiomed DEBUG - Node: NODE_ab268c68-f166-45b7-a73a-8cb390df85fe polling for the tasks"
      ]
     },
     "metadata": {},
     "output_type": "display_data"
    },
    {
     "data": {
      "text/plain": [
       "2025-04-15 07:32:48,459 fedbiomed DEBUG - Node: NODE_ab268c68-f166-45b7-a73a-8cb390df85fe polling for the tasks"
      ]
     },
     "metadata": {},
     "output_type": "display_data"
    },
    {
     "data": {
      "text/plain": [
       "2025-04-15 08:32:48,459 fedbiomed DEBUG - Node: NODE_ab268c68-f166-45b7-a73a-8cb390df85fe polling for the tasks"
      ]
     },
     "metadata": {},
     "output_type": "display_data"
    },
    {
     "data": {
      "text/plain": [
       "2025-04-15 08:33:51,791 fedbiomed DEBUG - Node: NODE_ab268c68-f166-45b7-a73a-8cb390df85fe polling for the tasks"
      ]
     },
     "metadata": {},
     "output_type": "display_data"
    }
   ],
   "source": [
    "# test = fed_model.fit(X_train.values, y_train.values.ravel())\n",
    "\n",
    "print(\n",
    "    f\"Train balanced accuracy: {balanced_accuracy_score(y_train, fed_model.predict(X_train.values))}\"\n",
    ")\n",
    "print(\n",
    "    f\"Test balanced accuracy: {balanced_accuracy_score(y_test, fed_model.predict(X_test.values))}\"\n",
    ")"
   ]
  },
  {
   "cell_type": "markdown",
   "metadata": {},
   "source": [
    "## TODO after\n",
    "\n",
    "- Test on each individual dataset's test set\n",
    "- Also get train performance?\n",
    "- Get loss from each round?"
   ]
  },
  {
   "cell_type": "markdown",
   "metadata": {},
   "source": [
    "Save trained model to file"
   ]
  },
  {
   "cell_type": "code",
   "execution_count": null,
   "metadata": {},
   "outputs": [],
   "source": [
    "# exp.training_plan().export_model(\"./trained_model\")"
   ]
  },
  {
   "cell_type": "code",
   "execution_count": null,
   "metadata": {
    "pycharm": {
     "name": "#%%\n"
    }
   },
   "outputs": [],
   "source": [
    "# print(\"\\nList the training rounds : \", exp.training_replies().keys())\n",
    "\n",
    "# print(\"\\nList the nodes for the last training round and their timings : \")\n",
    "# round_data = exp.training_replies()[FEDBIOMED_ROUNDS - 1]\n",
    "# for r in round_data.values():\n",
    "#     print(\n",
    "#         \"\\t- {id} :\\\n",
    "#     \\n\\t\\trtime_training={rtraining:.2f} seconds\\\n",
    "#     \\n\\t\\tptime_training={ptraining:.2f} seconds\\\n",
    "#     \\n\\t\\trtime_total={rtotal:.2f} seconds\".format(\n",
    "#             id=r[\"node_id\"],\n",
    "#             rtraining=r[\"timing\"][\"rtime_training\"],\n",
    "#             ptraining=r[\"timing\"][\"ptime_training\"],\n",
    "#             rtotal=r[\"timing\"][\"rtime_total\"],\n",
    "#         )\n",
    "#     )\n",
    "# print(\"\\n\")"
   ]
  },
  {
   "cell_type": "code",
   "execution_count": null,
   "metadata": {},
   "outputs": [],
   "source": [
    "# round_data[\"NODE_MEGA\"]"
   ]
  },
  {
   "cell_type": "code",
   "execution_count": null,
   "metadata": {
    "pycharm": {
     "name": "#%%\n"
    }
   },
   "outputs": [],
   "source": [
    "# print(\"\\nList the training rounds : \", exp.aggregated_params().keys())\n",
    "# print(\"\\nAccess the federated params for the last training round :\")\n",
    "# print(\n",
    "#     \"\\t- parameter data: \",\n",
    "#     exp.aggregated_params()[FEDBIOMED_ROUNDS - 1][\"params\"].keys(),\n",
    "# )\n",
    "# print(exp.aggregated_params()[FEDBIOMED_ROUNDS - 2][\"params\"][\"fc1.weight\"].shape)\n",
    "# print(exp.aggregated_params()[FEDBIOMED_ROUNDS - 2][\"params\"][\"fc1.weight\"])"
   ]
  },
  {
   "cell_type": "code",
   "execution_count": null,
   "metadata": {},
   "outputs": [],
   "source": [
    "if ML_PROBLEM_TYPE == \"classification\":\n",
    "    fpath_train = (\n",
    "        DPATH_DATA\n",
    "        / \"mega_adni_ppmi_qpn-decline-age-case-aparc\"\n",
    "        / \"mega_adni_ppmi_qpn-decline-age-case-aparc-0train.tsv\"\n",
    "    )\n",
    "else:\n",
    "    fpath_train = (\n",
    "        DPATH_DATA\n",
    "        / \"mega_adni_ppmi_qpn-age-sex-hc-aseg\"\n",
    "        / \"mega_adni_ppmi_qpn-age-sex-hc-aseg-0train.tsv\"\n",
    "    )\n",
    "X_train, y_train = MyTrainingPlan().get_Xy(\n",
    "    fpath=fpath_train,\n",
    "    target_cols=TARGET_COLS,\n",
    ")"
   ]
  },
  {
   "cell_type": "code",
   "execution_count": null,
   "metadata": {},
   "outputs": [
    {
     "data": {
      "text/plain": [
       "Net(\n",
       "  (hidden): Linear(in_features=66, out_features=1024, bias=True)\n",
       "  (relu): ReLU()\n",
       "  (output): Linear(in_features=1024, out_features=1, bias=True)\n",
       "  (sigmoid): Sigmoid()\n",
       ")"
      ]
     },
     "execution_count": 70,
     "metadata": {},
     "output_type": "execute_result"
    }
   ],
   "source": [
    "model = MyTrainingPlan().init_model(model_args)\n",
    "model"
   ]
  },
  {
   "cell_type": "code",
   "execution_count": 72,
   "metadata": {},
   "outputs": [
    {
     "data": {
      "text/plain": [
       "Net(\n",
       "  (hidden): Linear(in_features=66, out_features=1024, bias=True)\n",
       "  (relu): ReLU()\n",
       "  (output): Linear(in_features=1024, out_features=1, bias=True)\n",
       "  (sigmoid): Sigmoid()\n",
       ")"
      ]
     },
     "execution_count": 72,
     "metadata": {},
     "output_type": "execute_result"
    }
   ],
   "source": [
    "model.train()\n",
    "model(torch.tensor(X_train.values).float())\n",
    "model.eval()"
   ]
  },
  {
   "cell_type": "code",
   "execution_count": null,
   "metadata": {},
   "outputs": [],
   "source": [
    "model(torch.tensor(X_train.values).float())"
   ]
  },
  {
   "cell_type": "code",
   "execution_count": null,
   "metadata": {},
   "outputs": [],
   "source": [
    "exp.training_plan().set_model_params(\n",
    "    exp.aggregated_params()[FEDBIOMED_ROUNDS - 1][\"params\"]\n",
    ")\n",
    "fed_model = exp.training_plan().model()\n",
    "fed_model.eval()\n",
    "# fed_model.hidden.weight"
   ]
  },
  {
   "cell_type": "code",
   "execution_count": null,
   "metadata": {},
   "outputs": [],
   "source": [
    "import torch\n",
    "\n",
    "# y_pred = fed_model(torch.tensor(Xy_test_all[\"ppmi\"][0].to_numpy(dtype=\"float32\")))\n",
    "logits = fed_model(torch.tensor(X_train.to_numpy(dtype=\"float32\"))).detach().numpy()\n",
    "y_train_pred = logits.round()"
   ]
  },
  {
   "cell_type": "code",
   "execution_count": null,
   "metadata": {},
   "outputs": [
    {
     "data": {
      "text/plain": [
       "<Axes: >"
      ]
     },
     "execution_count": 61,
     "metadata": {},
     "output_type": "execute_result"
    },
    {
     "data": {
      "image/png": "[encoded data removed]",
      "text/plain": [
       "<Figure size 640x480 with 1 Axes>"
      ]
     },
     "metadata": {},
     "output_type": "display_data"
    }
   ],
   "source": [
    "pd.Series(y_train_pred.squeeze()).hist()"
   ]
  },
  {
   "cell_type": "code",
   "execution_count": null,
   "metadata": {},
   "outputs": [
    {
     "data": {
      "text/plain": [
       "0.6161021931743601"
      ]
     },
     "execution_count": 62,
     "metadata": {},
     "output_type": "execute_result"
    }
   ],
   "source": [
    "from sklearn.metrics import balanced_accuracy_score\n",
    "\n",
    "balanced_accuracy_score(y_train, y_train_pred)"
   ]
  }
 ],
 "metadata": {
  "kernelspec": {
   "display_name": "fl-pd",
   "language": "python",
   "name": "python3"
  },
  "language_info": {
   "codemirror_mode": {
    "name": "ipython",
    "version": 3
   },
   "file_extension": ".py",
   "mimetype": "text/x-python",
   "name": "python",
   "nbconvert_exporter": "python",
   "pygments_lexer": "ipython3",
   "version": "3.10.16"
  }
 },
 "nbformat": 4,
 "nbformat_minor": 1
}
